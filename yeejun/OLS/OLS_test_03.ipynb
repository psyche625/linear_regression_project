{
 "cells": [
  {
   "cell_type": "code",
   "execution_count": 18,
   "metadata": {},
   "outputs": [],
   "source": [
    "import seaborn as sns\n",
    "import pandas as pd\n",
    "import matplotlib.pylab as plt\n",
    "import re\n",
    "import matplotlib as mpl\n",
    "from matplotlib import rc\n",
    "import missingno as msno\n",
    "import warnings\n",
    "import datetime\n",
    "warnings.filterwarnings('ignore')\n",
    "\n",
    "# matplotlib 한글 사용을 위한 코드\n",
    "rc('font', family='AppleGothic')"
   ]
  },
  {
   "cell_type": "code",
   "execution_count": 36,
   "metadata": {},
   "outputs": [],
   "source": [
    "final_df = pd.read_csv('final_df_07.csv').drop(columns='Unnamed: 0')"
   ]
  },
  {
   "cell_type": "code",
   "execution_count": 37,
   "metadata": {},
   "outputs": [
    {
     "data": {
      "text/html": [
       "<div>\n",
       "<style scoped>\n",
       "    .dataframe tbody tr th:only-of-type {\n",
       "        vertical-align: middle;\n",
       "    }\n",
       "\n",
       "    .dataframe tbody tr th {\n",
       "        vertical-align: top;\n",
       "    }\n",
       "\n",
       "    .dataframe thead th {\n",
       "        text-align: right;\n",
       "    }\n",
       "</style>\n",
       "<table border=\"1\" class=\"dataframe\">\n",
       "  <thead>\n",
       "    <tr style=\"text-align: right;\">\n",
       "      <th></th>\n",
       "      <th>title</th>\n",
       "      <th>director</th>\n",
       "      <th>producer</th>\n",
       "      <th>importer</th>\n",
       "      <th>distributor</th>\n",
       "      <th>distributor_group</th>\n",
       "      <th>release_date</th>\n",
       "      <th>release_season</th>\n",
       "      <th>release</th>\n",
       "      <th>form</th>\n",
       "      <th>...</th>\n",
       "      <th>starring_actors</th>\n",
       "      <th>running_times</th>\n",
       "      <th>audience_rating</th>\n",
       "      <th>rating_audiences</th>\n",
       "      <th>realease_year</th>\n",
       "      <th>director_power</th>\n",
       "      <th>director_movie_num</th>\n",
       "      <th>sequel</th>\n",
       "      <th>original</th>\n",
       "      <th>actor_power</th>\n",
       "    </tr>\n",
       "  </thead>\n",
       "  <tbody>\n",
       "    <tr>\n",
       "      <th>0</th>\n",
       "      <td>어벤져스: 에이지 오브 울트론</td>\n",
       "      <td>조스 웨던</td>\n",
       "      <td>NaN</td>\n",
       "      <td>월트디즈니컴퍼니코리아(주)</td>\n",
       "      <td>월트디즈니컴퍼니코리아(주)</td>\n",
       "      <td>B</td>\n",
       "      <td>4/23/2015</td>\n",
       "      <td>spring</td>\n",
       "      <td>개봉영화</td>\n",
       "      <td>장편</td>\n",
       "      <td>...</td>\n",
       "      <td>로버트 다우니 주니어,크리스 헴스워스,마크 러팔로</td>\n",
       "      <td>141</td>\n",
       "      <td>8.612377</td>\n",
       "      <td>5268</td>\n",
       "      <td>2015</td>\n",
       "      <td>17567536.0</td>\n",
       "      <td>1 [1]</td>\n",
       "      <td>1</td>\n",
       "      <td>0</td>\n",
       "      <td>542407997</td>\n",
       "    </tr>\n",
       "    <tr>\n",
       "      <th>1</th>\n",
       "      <td>국제시장</td>\n",
       "      <td>윤제균</td>\n",
       "      <td>(주)제이케이필름,씨제이이앤엠(주)</td>\n",
       "      <td>NaN</td>\n",
       "      <td>씨제이이앤엠(주)</td>\n",
       "      <td>A</td>\n",
       "      <td>12/17/2014</td>\n",
       "      <td>winter</td>\n",
       "      <td>개봉영화</td>\n",
       "      <td>장편</td>\n",
       "      <td>...</td>\n",
       "      <td>황정민,김윤진,오달수</td>\n",
       "      <td>126</td>\n",
       "      <td>9.272091</td>\n",
       "      <td>1143</td>\n",
       "      <td>2014</td>\n",
       "      <td>5334561.0</td>\n",
       "      <td>1 [1]</td>\n",
       "      <td>0</td>\n",
       "      <td>0</td>\n",
       "      <td>608444941</td>\n",
       "    </tr>\n",
       "  </tbody>\n",
       "</table>\n",
       "<p>2 rows × 30 columns</p>\n",
       "</div>"
      ],
      "text/plain": [
       "              title director             producer        importer  \\\n",
       "0  어벤져스: 에이지 오브 울트론    조스 웨던                  NaN  월트디즈니컴퍼니코리아(주)   \n",
       "1              국제시장      윤제균  (주)제이케이필름,씨제이이앤엠(주)             NaN   \n",
       "\n",
       "      distributor distributor_group release_date release_season release form  \\\n",
       "0  월트디즈니컴퍼니코리아(주)                 B    4/23/2015         spring    개봉영화   장편   \n",
       "1       씨제이이앤엠(주)                 A   12/17/2014         winter    개봉영화   장편   \n",
       "\n",
       "   ...              starring_actors  running_times  audience_rating  \\\n",
       "0  ...  로버트 다우니 주니어,크리스 헴스워스,마크 러팔로            141         8.612377   \n",
       "1  ...                  황정민,김윤진,오달수            126         9.272091   \n",
       "\n",
       "   rating_audiences  realease_year  director_power director_movie_num sequel  \\\n",
       "0              5268           2015      17567536.0              1 [1]      1   \n",
       "1              1143           2014       5334561.0              1 [1]      0   \n",
       "\n",
       "  original  actor_power  \n",
       "0        0    542407997  \n",
       "1        0    608444941  \n",
       "\n",
       "[2 rows x 30 columns]"
      ]
     },
     "execution_count": 37,
     "metadata": {},
     "output_type": "execute_result"
    }
   ],
   "source": [
    "final_df.head(2)"
   ]
  },
  {
   "cell_type": "code",
   "execution_count": 41,
   "metadata": {},
   "outputs": [
    {
     "data": {
      "text/plain": [
       "title                            어벤져스: 에이지 오브 울트론\n",
       "director                                    조스 웨던\n",
       "producer                                      NaN\n",
       "importer                           월트디즈니컴퍼니코리아(주)\n",
       "distributor                        월트디즈니컴퍼니코리아(주)\n",
       "distributor_group                               B\n",
       "release_date                            4/23/2015\n",
       "release_season                             spring\n",
       "release                                      개봉영화\n",
       "form                                           장편\n",
       "nation                                         미국\n",
       "screen                                       1843\n",
       "rev_nationwide                        8.85826e+10\n",
       "aud_nationwide                           10494499\n",
       "rev_seoul                             25001906266\n",
       "rev_seoul.1                               2823388\n",
       "genre                                          액션\n",
       "rate                                     12세이상관람가\n",
       "type                                         일반영화\n",
       "expert_rating                                6.92\n",
       "starring_actors       로버트 다우니 주니어,크리스 헴스워스,마크 러팔로\n",
       "running_times                                 141\n",
       "audience_rating                           8.61238\n",
       "rating_audiences                             5268\n",
       "realease_year                                2015\n",
       "director_power                        1.75675e+07\n",
       "director_movie_num                          1 [1]\n",
       "sequel                                          1\n",
       "original                                        0\n",
       "actor_power                             542407997\n",
       "Name: 0, dtype: object"
      ]
     },
     "execution_count": 41,
     "metadata": {},
     "output_type": "execute_result"
    }
   ],
   "source": [
    "final_df.iloc[0]"
   ]
  },
  {
   "cell_type": "code",
   "execution_count": 46,
   "metadata": {},
   "outputs": [
    {
     "data": {
      "text/plain": [
       "30"
      ]
     },
     "execution_count": 46,
     "metadata": {},
     "output_type": "execute_result"
    }
   ],
   "source": [
    "len(final_df.columns)"
   ]
  },
  {
   "cell_type": "code",
   "execution_count": null,
   "metadata": {},
   "outputs": [],
   "source": []
  },
  {
   "cell_type": "code",
   "execution_count": 42,
   "metadata": {},
   "outputs": [],
   "source": [
    "X = final_df.drop(columns=['aud_nationwide'])\n",
    "y = final_df['aud_nationwide']"
   ]
  },
  {
   "cell_type": "code",
   "execution_count": null,
   "metadata": {},
   "outputs": [],
   "source": []
  },
  {
   "cell_type": "code",
   "execution_count": 48,
   "metadata": {},
   "outputs": [],
   "source": [
    "from sklearn.model_selection import train_test_split\n",
    "\n",
    "X_train, X_test, y_train, y_test = train_test_split(X, y, test_size=0.2, random_state=2)"
   ]
  },
  {
   "cell_type": "code",
   "execution_count": 49,
   "metadata": {},
   "outputs": [],
   "source": [
    "X_train.to_csv('X_train_07_1.csv')\n",
    "y_train.to_csv('y_train_07_1.csv')"
   ]
  },
  {
   "cell_type": "code",
   "execution_count": 50,
   "metadata": {},
   "outputs": [],
   "source": [
    "X_test.to_csv('X_test_07_1.csv')\n",
    "y_test.to_csv('y_test_07_1.csv')"
   ]
  },
  {
   "cell_type": "code",
   "execution_count": 57,
   "metadata": {},
   "outputs": [
    {
     "data": {
      "text/html": [
       "<div>\n",
       "<style scoped>\n",
       "    .dataframe tbody tr th:only-of-type {\n",
       "        vertical-align: middle;\n",
       "    }\n",
       "\n",
       "    .dataframe tbody tr th {\n",
       "        vertical-align: top;\n",
       "    }\n",
       "\n",
       "    .dataframe thead th {\n",
       "        text-align: right;\n",
       "    }\n",
       "</style>\n",
       "<table border=\"1\" class=\"dataframe\">\n",
       "  <thead>\n",
       "    <tr style=\"text-align: right;\">\n",
       "      <th></th>\n",
       "      <th>Unnamed: 0</th>\n",
       "      <th>aud_nationwide</th>\n",
       "    </tr>\n",
       "  </thead>\n",
       "  <tbody>\n",
       "    <tr>\n",
       "      <th>0</th>\n",
       "      <td>280</td>\n",
       "      <td>56866</td>\n",
       "    </tr>\n",
       "    <tr>\n",
       "      <th>1</th>\n",
       "      <td>688</td>\n",
       "      <td>720292</td>\n",
       "    </tr>\n",
       "    <tr>\n",
       "      <th>2</th>\n",
       "      <td>375</td>\n",
       "      <td>54144</td>\n",
       "    </tr>\n",
       "    <tr>\n",
       "      <th>3</th>\n",
       "      <td>665</td>\n",
       "      <td>3491857</td>\n",
       "    </tr>\n",
       "    <tr>\n",
       "      <th>4</th>\n",
       "      <td>589</td>\n",
       "      <td>661965</td>\n",
       "    </tr>\n",
       "    <tr>\n",
       "      <th>...</th>\n",
       "      <td>...</td>\n",
       "      <td>...</td>\n",
       "    </tr>\n",
       "    <tr>\n",
       "      <th>737</th>\n",
       "      <td>534</td>\n",
       "      <td>137052</td>\n",
       "    </tr>\n",
       "    <tr>\n",
       "      <th>738</th>\n",
       "      <td>584</td>\n",
       "      <td>1125238</td>\n",
       "    </tr>\n",
       "    <tr>\n",
       "      <th>739</th>\n",
       "      <td>493</td>\n",
       "      <td>1373316</td>\n",
       "    </tr>\n",
       "    <tr>\n",
       "      <th>740</th>\n",
       "      <td>527</td>\n",
       "      <td>203045</td>\n",
       "    </tr>\n",
       "    <tr>\n",
       "      <th>741</th>\n",
       "      <td>168</td>\n",
       "      <td>93534</td>\n",
       "    </tr>\n",
       "  </tbody>\n",
       "</table>\n",
       "<p>742 rows × 2 columns</p>\n",
       "</div>"
      ],
      "text/plain": [
       "     Unnamed: 0  aud_nationwide\n",
       "0           280           56866\n",
       "1           688          720292\n",
       "2           375           54144\n",
       "3           665         3491857\n",
       "4           589          661965\n",
       "..          ...             ...\n",
       "737         534          137052\n",
       "738         584         1125238\n",
       "739         493         1373316\n",
       "740         527          203045\n",
       "741         168           93534\n",
       "\n",
       "[742 rows x 2 columns]"
      ]
     },
     "execution_count": 57,
     "metadata": {},
     "output_type": "execute_result"
    }
   ],
   "source": [
    "pd.read_csv('y_train_07_1.csv')"
   ]
  },
  {
   "cell_type": "code",
   "execution_count": null,
   "metadata": {},
   "outputs": [],
   "source": []
  },
  {
   "cell_type": "code",
   "execution_count": null,
   "metadata": {},
   "outputs": [],
   "source": []
  },
  {
   "cell_type": "code",
   "execution_count": null,
   "metadata": {},
   "outputs": [],
   "source": []
  },
  {
   "cell_type": "code",
   "execution_count": 16,
   "metadata": {},
   "outputs": [
    {
     "data": {
      "text/plain": [
       "Index(['title', 'director', 'producer', 'importer', 'distributor',\n",
       "       'distributor_group', 'release_date', 'release_season', 'release',\n",
       "       'form', 'nation', 'screen', 'rev_nationwide', 'aud_nationwide',\n",
       "       'rev_seoul', 'rev_seoul.1', 'genre', 'rate', 'type', 'expert_rating',\n",
       "       'starring_actors', 'running_times', 'audience_rating',\n",
       "       'rating_audiences', 'realease_year', 'director_power',\n",
       "       'director_movie_num', 'sequel', 'original', 'actor_power'],\n",
       "      dtype='object')"
      ]
     },
     "execution_count": 16,
     "metadata": {},
     "output_type": "execute_result"
    }
   ],
   "source": [
    "final_df.columns"
   ]
  },
  {
   "cell_type": "code",
   "execution_count": 28,
   "metadata": {},
   "outputs": [
    {
     "data": {
      "text/plain": [
       "2"
      ]
     },
     "execution_count": 28,
     "metadata": {},
     "output_type": "execute_result"
    }
   ],
   "source": [
    "len(final_df['type'].unique())"
   ]
  },
  {
   "cell_type": "code",
   "execution_count": null,
   "metadata": {},
   "outputs": [],
   "source": [
    "df = final_df.drop(columns=['director', 'producer', 'importer', 'distributor', 'release_date', 'release', 'rev_nationwide', 'rev_seoul', 'rev_seoul.1', 'type', 'starring_actors', ''])\n",
    "\n"
   ]
  },
  {
   "cell_type": "code",
   "execution_count": 20,
   "metadata": {},
   "outputs": [
    {
     "data": {
      "text/plain": [
       "title                            어벤져스: 에이지 오브 울트론\n",
       "director                                    조스 웨던\n",
       "producer                                      NaN\n",
       "importer                           월트디즈니컴퍼니코리아(주)\n",
       "distributor                        월트디즈니컴퍼니코리아(주)\n",
       "distributor_group                               B\n",
       "release_date                            4/23/2015\n",
       "release_season                             spring\n",
       "release                                      개봉영화\n",
       "form                                           장편\n",
       "nation                                         미국\n",
       "screen                                       1843\n",
       "rev_nationwide                        8.85826e+10\n",
       "aud_nationwide                           10494499\n",
       "rev_seoul                             25001906266\n",
       "rev_seoul.1                               2823388\n",
       "genre                                          액션\n",
       "rate                                     12세이상관람가\n",
       "type                                         일반영화\n",
       "expert_rating                                6.92\n",
       "starring_actors       로버트 다우니 주니어,크리스 헴스워스,마크 러팔로\n",
       "running_times                                 141\n",
       "audience_rating                           8.19318\n",
       "rating_audiences                               88\n",
       "realease_year                                2015\n",
       "director_power                        1.75675e+07\n",
       "director_movie_num                          1 [1]\n",
       "sequel                                          1\n",
       "original                                        0\n",
       "actor_power                             542407997\n",
       "Name: 0, dtype: object"
      ]
     },
     "execution_count": 20,
     "metadata": {},
     "output_type": "execute_result"
    }
   ],
   "source": [
    "final_df.iloc[0]"
   ]
  },
  {
   "cell_type": "code",
   "execution_count": null,
   "metadata": {},
   "outputs": [],
   "source": []
  },
  {
   "cell_type": "code",
   "execution_count": null,
   "metadata": {},
   "outputs": [],
   "source": []
  },
  {
   "cell_type": "code",
   "execution_count": null,
   "metadata": {},
   "outputs": [],
   "source": []
  },
  {
   "cell_type": "code",
   "execution_count": null,
   "metadata": {},
   "outputs": [],
   "source": []
  },
  {
   "cell_type": "code",
   "execution_count": null,
   "metadata": {},
   "outputs": [],
   "source": []
  },
  {
   "cell_type": "code",
   "execution_count": null,
   "metadata": {},
   "outputs": [],
   "source": []
  },
  {
   "cell_type": "code",
   "execution_count": null,
   "metadata": {},
   "outputs": [],
   "source": []
  },
  {
   "cell_type": "code",
   "execution_count": null,
   "metadata": {},
   "outputs": [],
   "source": []
  },
  {
   "cell_type": "markdown",
   "metadata": {},
   "source": []
  },
  {
   "cell_type": "code",
   "execution_count": null,
   "metadata": {},
   "outputs": [],
   "source": []
  },
  {
   "cell_type": "code",
   "execution_count": null,
   "metadata": {},
   "outputs": [],
   "source": []
  },
  {
   "cell_type": "code",
   "execution_count": null,
   "metadata": {},
   "outputs": [],
   "source": []
  },
  {
   "cell_type": "code",
   "execution_count": null,
   "metadata": {},
   "outputs": [],
   "source": []
  },
  {
   "cell_type": "code",
   "execution_count": null,
   "metadata": {},
   "outputs": [],
   "source": []
  },
  {
   "cell_type": "code",
   "execution_count": null,
   "metadata": {},
   "outputs": [],
   "source": []
  },
  {
   "cell_type": "code",
   "execution_count": null,
   "metadata": {},
   "outputs": [],
   "source": []
  }
 ],
 "metadata": {
  "kernelspec": {
   "display_name": "Python 3",
   "language": "python",
   "name": "python3"
  },
  "language_info": {
   "codemirror_mode": {
    "name": "ipython",
    "version": 3
   },
   "file_extension": ".py",
   "mimetype": "text/x-python",
   "name": "python",
   "nbconvert_exporter": "python",
   "pygments_lexer": "ipython3",
   "version": "3.7.6"
  }
 },
 "nbformat": 4,
 "nbformat_minor": 4
}
