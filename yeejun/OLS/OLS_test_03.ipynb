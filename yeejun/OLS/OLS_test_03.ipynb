{
 "cells": [
  {
   "cell_type": "code",
   "execution_count": 18,
   "metadata": {},
   "outputs": [],
   "source": [
    "import seaborn as sns\n",
    "import pandas as pd\n",
    "import matplotlib.pylab as plt\n",
    "import re\n",
    "import matplotlib as mpl\n",
    "from matplotlib import rc\n",
    "import missingno as msno\n",
    "import warnings\n",
    "import datetime\n",
    "warnings.filterwarnings('ignore')\n",
    "\n",
    "# matplotlib 한글 사용을 위한 코드\n",
    "rc('font', family='AppleGothic')"
   ]
  },
  {
   "cell_type": "code",
   "execution_count": 36,
   "metadata": {},
   "outputs": [],
   "source": [
    "final_df = pd.read_csv('final_df_07.csv').drop(columns='Unnamed: 0')"
   ]
  },
  {
   "cell_type": "code",
   "execution_count": 37,
   "metadata": {},
   "outputs": [
    {
     "data": {
      "text/html": [
       "<div>\n",
       "<style scoped>\n",
       "    .dataframe tbody tr th:only-of-type {\n",
       "        vertical-align: middle;\n",
       "    }\n",
       "\n",
       "    .dataframe tbody tr th {\n",
       "        vertical-align: top;\n",
       "    }\n",
       "\n",
       "    .dataframe thead th {\n",
       "        text-align: right;\n",
       "    }\n",
       "</style>\n",
       "<table border=\"1\" class=\"dataframe\">\n",
       "  <thead>\n",
       "    <tr style=\"text-align: right;\">\n",
       "      <th></th>\n",
       "      <th>title</th>\n",
       "      <th>director</th>\n",
       "      <th>producer</th>\n",
       "      <th>importer</th>\n",
       "      <th>distributor</th>\n",
       "      <th>distributor_group</th>\n",
       "      <th>release_date</th>\n",
       "      <th>release_season</th>\n",
       "      <th>release</th>\n",
       "      <th>form</th>\n",
       "      <th>...</th>\n",
       "      <th>starring_actors</th>\n",
       "      <th>running_times</th>\n",
       "      <th>audience_rating</th>\n",
       "      <th>rating_audiences</th>\n",
       "      <th>realease_year</th>\n",
       "      <th>director_power</th>\n",
       "      <th>director_movie_num</th>\n",
       "      <th>sequel</th>\n",
       "      <th>original</th>\n",
       "      <th>actor_power</th>\n",
       "    </tr>\n",
       "  </thead>\n",
       "  <tbody>\n",
       "    <tr>\n",
       "      <th>0</th>\n",
       "      <td>어벤져스: 에이지 오브 울트론</td>\n",
       "      <td>조스 웨던</td>\n",
       "      <td>NaN</td>\n",
       "      <td>월트디즈니컴퍼니코리아(주)</td>\n",
       "      <td>월트디즈니컴퍼니코리아(주)</td>\n",
       "      <td>B</td>\n",
       "      <td>4/23/2015</td>\n",
       "      <td>spring</td>\n",
       "      <td>개봉영화</td>\n",
       "      <td>장편</td>\n",
       "      <td>...</td>\n",
       "      <td>로버트 다우니 주니어,크리스 헴스워스,마크 러팔로</td>\n",
       "      <td>141</td>\n",
       "      <td>8.612377</td>\n",
       "      <td>5268</td>\n",
       "      <td>2015</td>\n",
       "      <td>17567536.0</td>\n",
       "      <td>1 [1]</td>\n",
       "      <td>1</td>\n",
       "      <td>0</td>\n",
       "      <td>542407997</td>\n",
       "    </tr>\n",
       "    <tr>\n",
       "      <th>1</th>\n",
       "      <td>국제시장</td>\n",
       "      <td>윤제균</td>\n",
       "      <td>(주)제이케이필름,씨제이이앤엠(주)</td>\n",
       "      <td>NaN</td>\n",
       "      <td>씨제이이앤엠(주)</td>\n",
       "      <td>A</td>\n",
       "      <td>12/17/2014</td>\n",
       "      <td>winter</td>\n",
       "      <td>개봉영화</td>\n",
       "      <td>장편</td>\n",
       "      <td>...</td>\n",
       "      <td>황정민,김윤진,오달수</td>\n",
       "      <td>126</td>\n",
       "      <td>9.272091</td>\n",
       "      <td>1143</td>\n",
       "      <td>2014</td>\n",
       "      <td>5334561.0</td>\n",
       "      <td>1 [1]</td>\n",
       "      <td>0</td>\n",
       "      <td>0</td>\n",
       "      <td>608444941</td>\n",
       "    </tr>\n",
       "  </tbody>\n",
       "</table>\n",
       "<p>2 rows × 30 columns</p>\n",
       "</div>"
      ],
      "text/plain": [
       "              title director             producer        importer  \\\n",
       "0  어벤져스: 에이지 오브 울트론    조스 웨던                  NaN  월트디즈니컴퍼니코리아(주)   \n",
       "1              국제시장      윤제균  (주)제이케이필름,씨제이이앤엠(주)             NaN   \n",
       "\n",
       "      distributor distributor_group release_date release_season release form  \\\n",
       "0  월트디즈니컴퍼니코리아(주)                 B    4/23/2015         spring    개봉영화   장편   \n",
       "1       씨제이이앤엠(주)                 A   12/17/2014         winter    개봉영화   장편   \n",
       "\n",
       "   ...              starring_actors  running_times  audience_rating  \\\n",
       "0  ...  로버트 다우니 주니어,크리스 헴스워스,마크 러팔로            141         8.612377   \n",
       "1  ...                  황정민,김윤진,오달수            126         9.272091   \n",
       "\n",
       "   rating_audiences  realease_year  director_power director_movie_num sequel  \\\n",
       "0              5268           2015      17567536.0              1 [1]      1   \n",
       "1              1143           2014       5334561.0              1 [1]      0   \n",
       "\n",
       "  original  actor_power  \n",
       "0        0    542407997  \n",
       "1        0    608444941  \n",
       "\n",
       "[2 rows x 30 columns]"
      ]
     },
     "execution_count": 37,
     "metadata": {},
     "output_type": "execute_result"
    }
   ],
   "source": [
    "final_df.head(2)"
   ]
  },
  {
   "cell_type": "code",
   "execution_count": 41,
   "metadata": {},
   "outputs": [
    {
     "data": {
      "text/plain": [
       "title                            어벤져스: 에이지 오브 울트론\n",
       "director                                    조스 웨던\n",
       "producer                                      NaN\n",
       "importer                           월트디즈니컴퍼니코리아(주)\n",
       "distributor                        월트디즈니컴퍼니코리아(주)\n",
       "distributor_group                               B\n",
       "release_date                            4/23/2015\n",
       "release_season                             spring\n",
       "release                                      개봉영화\n",
       "form                                           장편\n",
       "nation                                         미국\n",
       "screen                                       1843\n",
       "rev_nationwide                        8.85826e+10\n",
       "aud_nationwide                           10494499\n",
       "rev_seoul                             25001906266\n",
       "rev_seoul.1                               2823388\n",
       "genre                                          액션\n",
       "rate                                     12세이상관람가\n",
       "type                                         일반영화\n",
       "expert_rating                                6.92\n",
       "starring_actors       로버트 다우니 주니어,크리스 헴스워스,마크 러팔로\n",
       "running_times                                 141\n",
       "audience_rating                           8.61238\n",
       "rating_audiences                             5268\n",
       "realease_year                                2015\n",
       "director_power                        1.75675e+07\n",
       "director_movie_num                          1 [1]\n",
       "sequel                                          1\n",
       "original                                        0\n",
       "actor_power                             542407997\n",
       "Name: 0, dtype: object"
      ]
     },
     "execution_count": 41,
     "metadata": {},
     "output_type": "execute_result"
    }
   ],
   "source": [
    "final_df.iloc[0]"
   ]
  },
  {
   "cell_type": "code",
   "execution_count": 104,
   "metadata": {},
   "outputs": [],
   "source": [
    "# final_df.info()"
   ]
  },
  {
   "cell_type": "code",
   "execution_count": 42,
   "metadata": {},
   "outputs": [],
   "source": [
    "X = final_df.drop(columns=['aud_nationwide'])\n",
    "y = final_df['aud_nationwide']"
   ]
  },
  {
   "cell_type": "code",
   "execution_count": 107,
   "metadata": {},
   "outputs": [],
   "source": [
    "final_df = final_df.drop(columns=['producer', 'importer'])"
   ]
  },
  {
   "cell_type": "code",
   "execution_count": 112,
   "metadata": {},
   "outputs": [],
   "source": [
    "final_df = final_df.dropna()"
   ]
  },
  {
   "cell_type": "code",
   "execution_count": 113,
   "metadata": {},
   "outputs": [
    {
     "name": "stdout",
     "output_type": "stream",
     "text": [
      "<class 'pandas.core.frame.DataFrame'>\n",
      "Int64Index: 925 entries, 0 to 927\n",
      "Data columns (total 28 columns):\n",
      " #   Column              Non-Null Count  Dtype  \n",
      "---  ------              --------------  -----  \n",
      " 0   title               925 non-null    object \n",
      " 1   director            925 non-null    object \n",
      " 2   distributor         925 non-null    object \n",
      " 3   distributor_group   925 non-null    object \n",
      " 4   release_date        925 non-null    object \n",
      " 5   release_season      925 non-null    object \n",
      " 6   release             925 non-null    object \n",
      " 7   form                925 non-null    object \n",
      " 8   nation              925 non-null    object \n",
      " 9   screen              925 non-null    int64  \n",
      " 10  rev_nationwide      925 non-null    float64\n",
      " 11  aud_nationwide      925 non-null    int64  \n",
      " 12  rev_seoul           925 non-null    int64  \n",
      " 13  rev_seoul.1         925 non-null    int64  \n",
      " 14  genre               925 non-null    object \n",
      " 15  rate                925 non-null    object \n",
      " 16  type                925 non-null    object \n",
      " 17  expert_rating       925 non-null    float64\n",
      " 18  starring_actors     925 non-null    object \n",
      " 19  running_times       925 non-null    int64  \n",
      " 20  audience_rating     925 non-null    float64\n",
      " 21  rating_audiences    925 non-null    int64  \n",
      " 22  realease_year       925 non-null    int64  \n",
      " 23  director_power      925 non-null    float64\n",
      " 24  director_movie_num  925 non-null    object \n",
      " 25  sequel              925 non-null    int64  \n",
      " 26  original            925 non-null    int64  \n",
      " 27  actor_power         925 non-null    int64  \n",
      "dtypes: float64(4), int64(10), object(14)\n",
      "memory usage: 209.6+ KB\n"
     ]
    }
   ],
   "source": [
    "final_df.info()"
   ]
  },
  {
   "cell_type": "code",
   "execution_count": 116,
   "metadata": {},
   "outputs": [
    {
     "data": {
      "text/plain": [
       "925"
      ]
     },
     "execution_count": 116,
     "metadata": {},
     "output_type": "execute_result"
    }
   ],
   "source": [
    "len(final_df)"
   ]
  },
  {
   "cell_type": "code",
   "execution_count": 115,
   "metadata": {},
   "outputs": [],
   "source": [
    "final_df.to_csv('final_df_08.csv')"
   ]
  },
  {
   "cell_type": "code",
   "execution_count": 122,
   "metadata": {},
   "outputs": [
    {
     "data": {
      "text/plain": [
       "28"
      ]
     },
     "execution_count": 122,
     "metadata": {},
     "output_type": "execute_result"
    }
   ],
   "source": [
    "len(final_df.columns)"
   ]
  },
  {
   "cell_type": "code",
   "execution_count": 118,
   "metadata": {},
   "outputs": [],
   "source": [
    "X = final_df.drop(columns='aud_nationwide')\n",
    "y = final_df['aud_nationwide']"
   ]
  },
  {
   "cell_type": "code",
   "execution_count": 131,
   "metadata": {},
   "outputs": [
    {
     "data": {
      "text/plain": [
       "925"
      ]
     },
     "execution_count": 131,
     "metadata": {},
     "output_type": "execute_result"
    }
   ],
   "source": [
    "len(X_train)+len(X_test)"
   ]
  },
  {
   "cell_type": "code",
   "execution_count": 127,
   "metadata": {},
   "outputs": [],
   "source": [
    "from sklearn.model_selection import train_test_split\n",
    "\n",
    "X_train, X_test, y_train, y_test = train_test_split(X, y, test_size=0.2, random_state=2)"
   ]
  },
  {
   "cell_type": "code",
   "execution_count": 132,
   "metadata": {},
   "outputs": [],
   "source": [
    "X_train.to_csv('X_train_08_1.csv')\n",
    "y_train.to_csv('y_train_08_1.csv')"
   ]
  },
  {
   "cell_type": "code",
   "execution_count": 133,
   "metadata": {},
   "outputs": [],
   "source": [
    "X_test.to_csv('X_test_08_1.csv')\n",
    "y_test.to_csv('y_test_08_1.csv')"
   ]
  },
  {
   "cell_type": "markdown",
   "metadata": {},
   "source": [
    "#  train 데이터셋으로 회귀분석 시작하기\n",
    "- X_train, y_train"
   ]
  },
  {
   "cell_type": "code",
   "execution_count": 78,
   "metadata": {},
   "outputs": [
    {
     "data": {
      "text/html": [
       "<div>\n",
       "<style scoped>\n",
       "    .dataframe tbody tr th:only-of-type {\n",
       "        vertical-align: middle;\n",
       "    }\n",
       "\n",
       "    .dataframe tbody tr th {\n",
       "        vertical-align: top;\n",
       "    }\n",
       "\n",
       "    .dataframe thead th {\n",
       "        text-align: right;\n",
       "    }\n",
       "</style>\n",
       "<table border=\"1\" class=\"dataframe\">\n",
       "  <thead>\n",
       "    <tr style=\"text-align: right;\">\n",
       "      <th></th>\n",
       "      <th>title</th>\n",
       "      <th>director</th>\n",
       "      <th>producer</th>\n",
       "      <th>importer</th>\n",
       "      <th>distributor</th>\n",
       "      <th>distributor_group</th>\n",
       "      <th>release_date</th>\n",
       "      <th>release_season</th>\n",
       "      <th>release</th>\n",
       "      <th>form</th>\n",
       "      <th>...</th>\n",
       "      <th>starring_actors</th>\n",
       "      <th>running_times</th>\n",
       "      <th>audience_rating</th>\n",
       "      <th>rating_audiences</th>\n",
       "      <th>realease_year</th>\n",
       "      <th>director_power</th>\n",
       "      <th>director_movie_num</th>\n",
       "      <th>sequel</th>\n",
       "      <th>original</th>\n",
       "      <th>actor_power</th>\n",
       "    </tr>\n",
       "  </thead>\n",
       "  <tbody>\n",
       "    <tr>\n",
       "      <th>280</th>\n",
       "      <td>바다 탐험대 옥토넛 시즌4: 아슬아슬 구조대작전</td>\n",
       "      <td>다라 오코넬</td>\n",
       "      <td>NaN</td>\n",
       "      <td>(주)얼리버드픽쳐스</td>\n",
       "      <td>와이드 릴리즈(주)</td>\n",
       "      <td>D</td>\n",
       "      <td>6/2/2016</td>\n",
       "      <td>summer</td>\n",
       "      <td>개봉영화</td>\n",
       "      <td>장편</td>\n",
       "      <td>...</td>\n",
       "      <td>하성용,정재헌,엄상현</td>\n",
       "      <td>68</td>\n",
       "      <td>8.451613</td>\n",
       "      <td>155</td>\n",
       "      <td>2016</td>\n",
       "      <td>1206342.0</td>\n",
       "      <td>5 [5]</td>\n",
       "      <td>1</td>\n",
       "      <td>1</td>\n",
       "      <td>26048880</td>\n",
       "    </tr>\n",
       "  </tbody>\n",
       "</table>\n",
       "<p>1 rows × 29 columns</p>\n",
       "</div>"
      ],
      "text/plain": [
       "                          title director producer    importer distributor  \\\n",
       "280  바다 탐험대 옥토넛 시즌4: 아슬아슬 구조대작전   다라 오코넬      NaN  (주)얼리버드픽쳐스  와이드 릴리즈(주)   \n",
       "\n",
       "    distributor_group release_date release_season release form  ...  \\\n",
       "280                 D     6/2/2016         summer    개봉영화   장편  ...   \n",
       "\n",
       "    starring_actors  running_times  audience_rating  rating_audiences  \\\n",
       "280     하성용,정재헌,엄상현             68         8.451613               155   \n",
       "\n",
       "     realease_year director_power director_movie_num sequel  original  \\\n",
       "280           2016      1206342.0              5 [5]      1         1   \n",
       "\n",
       "    actor_power  \n",
       "280    26048880  \n",
       "\n",
       "[1 rows x 29 columns]"
      ]
     },
     "execution_count": 78,
     "metadata": {},
     "output_type": "execute_result"
    }
   ],
   "source": [
    "X_train.head(1)"
   ]
  },
  {
   "cell_type": "code",
   "execution_count": null,
   "metadata": {},
   "outputs": [],
   "source": [
    "X = X_train.drop(columns=['title', 'director', 'distributor', 'release_date', 'release', 'form', 'rev_nationwide', 'rev_seoul', 'rev_seoul.1', 'type', 'starring_actors', 'realease_year', 'director_movie_num'])\n"
   ]
  },
  {
   "cell_type": "code",
   "execution_count": null,
   "metadata": {},
   "outputs": [],
   "source": [
    "y = y_train"
   ]
  },
  {
   "cell_type": "code",
   "execution_count": 76,
   "metadata": {},
   "outputs": [
    {
     "data": {
      "text/plain": [
       "Index(['title', 'director', 'producer', 'importer', 'distributor',\n",
       "       'distributor_group', 'release_date', 'release_season', 'release',\n",
       "       'form', 'nation', 'screen', 'rev_nationwide', 'rev_seoul',\n",
       "       'rev_seoul.1', 'genre', 'rate', 'type', 'expert_rating',\n",
       "       'starring_actors', 'running_times', 'audience_rating',\n",
       "       'rating_audiences', 'realease_year', 'director_power',\n",
       "       'director_movie_num', 'sequel', 'original', 'actor_power'],\n",
       "      dtype='object')"
      ]
     },
     "execution_count": 76,
     "metadata": {},
     "output_type": "execute_result"
    }
   ],
   "source": [
    "X_train.columns"
   ]
  },
  {
   "cell_type": "code",
   "execution_count": 82,
   "metadata": {},
   "outputs": [
    {
     "data": {
      "text/plain": [
       "14"
      ]
     },
     "execution_count": 82,
     "metadata": {},
     "output_type": "execute_result"
    }
   ],
   "source": [
    "len(X.columns)"
   ]
  },
  {
   "cell_type": "code",
   "execution_count": 83,
   "metadata": {},
   "outputs": [],
   "source": [
    "train_df = pd.concat([X, y], axis=1)"
   ]
  },
  {
   "cell_type": "code",
   "execution_count": 100,
   "metadata": {},
   "outputs": [],
   "source": [
    "# C(sequel), C(original)"
   ]
  },
  {
   "cell_type": "code",
   "execution_count": 103,
   "metadata": {},
   "outputs": [],
   "source": [
    "# list(train_df['director_power'])"
   ]
  },
  {
   "cell_type": "code",
   "execution_count": 94,
   "metadata": {},
   "outputs": [
    {
     "name": "stdout",
     "output_type": "stream",
     "text": [
      "<class 'pandas.core.frame.DataFrame'>\n",
      "Int64Index: 742 entries, 280 to 168\n",
      "Data columns (total 15 columns):\n",
      " #   Column             Non-Null Count  Dtype  \n",
      "---  ------             --------------  -----  \n",
      " 0   distributor_group  742 non-null    object \n",
      " 1   release_season     742 non-null    object \n",
      " 2   nation             742 non-null    object \n",
      " 3   screen             742 non-null    int64  \n",
      " 4   genre              742 non-null    object \n",
      " 5   rate               742 non-null    object \n",
      " 6   expert_rating      742 non-null    float64\n",
      " 7   running_times      742 non-null    int64  \n",
      " 8   audience_rating    742 non-null    float64\n",
      " 9   rating_audiences   742 non-null    int64  \n",
      " 10  director_power     740 non-null    float64\n",
      " 11  sequel             742 non-null    int64  \n",
      " 12  original           742 non-null    int64  \n",
      " 13  actor_power        742 non-null    int64  \n",
      " 14  aud_nationwide     742 non-null    int64  \n",
      "dtypes: float64(3), int64(7), object(5)\n",
      "memory usage: 112.8+ KB\n"
     ]
    }
   ],
   "source": [
    "train_df.info()"
   ]
  },
  {
   "cell_type": "code",
   "execution_count": 93,
   "metadata": {},
   "outputs": [
    {
     "data": {
      "text/html": [
       "<div>\n",
       "<style scoped>\n",
       "    .dataframe tbody tr th:only-of-type {\n",
       "        vertical-align: middle;\n",
       "    }\n",
       "\n",
       "    .dataframe tbody tr th {\n",
       "        vertical-align: top;\n",
       "    }\n",
       "\n",
       "    .dataframe thead th {\n",
       "        text-align: right;\n",
       "    }\n",
       "</style>\n",
       "<table border=\"1\" class=\"dataframe\">\n",
       "  <thead>\n",
       "    <tr style=\"text-align: right;\">\n",
       "      <th></th>\n",
       "      <th>distributor_group</th>\n",
       "      <th>release_season</th>\n",
       "      <th>nation</th>\n",
       "      <th>screen</th>\n",
       "      <th>genre</th>\n",
       "      <th>rate</th>\n",
       "      <th>expert_rating</th>\n",
       "      <th>running_times</th>\n",
       "      <th>audience_rating</th>\n",
       "      <th>rating_audiences</th>\n",
       "      <th>director_power</th>\n",
       "      <th>sequel</th>\n",
       "      <th>original</th>\n",
       "      <th>actor_power</th>\n",
       "      <th>aud_nationwide</th>\n",
       "    </tr>\n",
       "  </thead>\n",
       "  <tbody>\n",
       "    <tr>\n",
       "      <th>280</th>\n",
       "      <td>D</td>\n",
       "      <td>summer</td>\n",
       "      <td>영국</td>\n",
       "      <td>162</td>\n",
       "      <td>애니메이션</td>\n",
       "      <td>전체관람가</td>\n",
       "      <td>0.00</td>\n",
       "      <td>68</td>\n",
       "      <td>8.451613</td>\n",
       "      <td>155</td>\n",
       "      <td>1206342.0</td>\n",
       "      <td>1</td>\n",
       "      <td>1</td>\n",
       "      <td>26048880</td>\n",
       "      <td>56866</td>\n",
       "    </tr>\n",
       "    <tr>\n",
       "      <th>688</th>\n",
       "      <td>D</td>\n",
       "      <td>autumn</td>\n",
       "      <td>한국</td>\n",
       "      <td>638</td>\n",
       "      <td>드라마</td>\n",
       "      <td>15세이상관람가</td>\n",
       "      <td>6.11</td>\n",
       "      <td>98</td>\n",
       "      <td>9.294964</td>\n",
       "      <td>417</td>\n",
       "      <td>720292.0</td>\n",
       "      <td>0</td>\n",
       "      <td>0</td>\n",
       "      <td>48564798</td>\n",
       "      <td>720292</td>\n",
       "    </tr>\n",
       "  </tbody>\n",
       "</table>\n",
       "</div>"
      ],
      "text/plain": [
       "    distributor_group release_season nation  screen  genre      rate  \\\n",
       "280                 D         summer     영국     162  애니메이션     전체관람가   \n",
       "688                 D         autumn     한국     638    드라마  15세이상관람가   \n",
       "\n",
       "     expert_rating  running_times  audience_rating  rating_audiences  \\\n",
       "280           0.00             68         8.451613               155   \n",
       "688           6.11             98         9.294964               417   \n",
       "\n",
       "     director_power  sequel  original  actor_power  aud_nationwide  \n",
       "280       1206342.0       1         1     26048880           56866  \n",
       "688        720292.0       0         0     48564798          720292  "
      ]
     },
     "execution_count": 93,
     "metadata": {},
     "output_type": "execute_result"
    }
   ],
   "source": [
    "train_df.head(2)"
   ]
  },
  {
   "cell_type": "code",
   "execution_count": 91,
   "metadata": {},
   "outputs": [
    {
     "data": {
      "text/plain": [
       "Index(['distributor_group', 'release_season', 'nation', 'screen', 'genre',\n",
       "       'rate', 'expert_rating', 'running_times', 'audience_rating',\n",
       "       'rating_audiences', 'director_power', 'sequel', 'original',\n",
       "       'actor_power', 'aud_nationwide'],\n",
       "      dtype='object')"
      ]
     },
     "execution_count": 91,
     "metadata": {},
     "output_type": "execute_result"
    }
   ],
   "source": [
    "train_df.columns"
   ]
  },
  {
   "cell_type": "code",
   "execution_count": 87,
   "metadata": {},
   "outputs": [],
   "source": [
    "import statsmodels.api as sm"
   ]
  },
  {
   "cell_type": "code",
   "execution_count": null,
   "metadata": {},
   "outputs": [],
   "source": [
    "sm.OLS.from_formula(\"aud_nationwide ~ distributor_group,\", data=train_df)"
   ]
  },
  {
   "cell_type": "code",
   "execution_count": null,
   "metadata": {},
   "outputs": [],
   "source": []
  },
  {
   "cell_type": "code",
   "execution_count": null,
   "metadata": {},
   "outputs": [],
   "source": []
  },
  {
   "cell_type": "code",
   "execution_count": null,
   "metadata": {},
   "outputs": [],
   "source": []
  },
  {
   "cell_type": "code",
   "execution_count": null,
   "metadata": {},
   "outputs": [],
   "source": []
  },
  {
   "cell_type": "code",
   "execution_count": null,
   "metadata": {},
   "outputs": [],
   "source": []
  },
  {
   "cell_type": "code",
   "execution_count": null,
   "metadata": {},
   "outputs": [],
   "source": []
  },
  {
   "cell_type": "code",
   "execution_count": null,
   "metadata": {},
   "outputs": [],
   "source": []
  },
  {
   "cell_type": "code",
   "execution_count": null,
   "metadata": {},
   "outputs": [],
   "source": []
  },
  {
   "cell_type": "code",
   "execution_count": null,
   "metadata": {},
   "outputs": [],
   "source": []
  },
  {
   "cell_type": "markdown",
   "metadata": {},
   "source": []
  },
  {
   "cell_type": "code",
   "execution_count": null,
   "metadata": {},
   "outputs": [],
   "source": []
  },
  {
   "cell_type": "code",
   "execution_count": null,
   "metadata": {},
   "outputs": [],
   "source": []
  },
  {
   "cell_type": "code",
   "execution_count": null,
   "metadata": {},
   "outputs": [],
   "source": []
  },
  {
   "cell_type": "code",
   "execution_count": null,
   "metadata": {},
   "outputs": [],
   "source": []
  },
  {
   "cell_type": "code",
   "execution_count": null,
   "metadata": {},
   "outputs": [],
   "source": []
  },
  {
   "cell_type": "code",
   "execution_count": null,
   "metadata": {},
   "outputs": [],
   "source": []
  },
  {
   "cell_type": "code",
   "execution_count": null,
   "metadata": {},
   "outputs": [],
   "source": []
  }
 ],
 "metadata": {
  "kernelspec": {
   "display_name": "Python 3",
   "language": "python",
   "name": "python3"
  },
  "language_info": {
   "codemirror_mode": {
    "name": "ipython",
    "version": 3
   },
   "file_extension": ".py",
   "mimetype": "text/x-python",
   "name": "python",
   "nbconvert_exporter": "python",
   "pygments_lexer": "ipython3",
   "version": "3.7.6"
  }
 },
 "nbformat": 4,
 "nbformat_minor": 4
}
