{
 "cells": [
  {
   "cell_type": "markdown",
   "metadata": {},
   "source": [
    "# 이전까지 한 일들\n",
    "- KOBIS에서 제공되지 않는 필요한 정보들을 크롤링 해서 final_df 데이터프레임 만듬\n",
    "- 영화가 다른 원작을 기반으로 한 것인지에 대한 여부를 조사해서 데이터프레임으로 만듬 -> 추후 concat해서 통합할 예정"
   ]
  },
  {
   "cell_type": "code",
   "execution_count": 614,
   "metadata": {},
   "outputs": [],
   "source": [
    "# total_movie_data"
   ]
  },
  {
   "cell_type": "code",
   "execution_count": 615,
   "metadata": {},
   "outputs": [
    {
     "data": {
      "text/html": [
       "<div>\n",
       "<style scoped>\n",
       "    .dataframe tbody tr th:only-of-type {\n",
       "        vertical-align: middle;\n",
       "    }\n",
       "\n",
       "    .dataframe tbody tr th {\n",
       "        vertical-align: top;\n",
       "    }\n",
       "\n",
       "    .dataframe thead th {\n",
       "        text-align: right;\n",
       "    }\n",
       "</style>\n",
       "<table border=\"1\" class=\"dataframe\">\n",
       "  <thead>\n",
       "    <tr style=\"text-align: right;\">\n",
       "      <th></th>\n",
       "      <th>영화명</th>\n",
       "      <th>개봉일</th>\n",
       "      <th>매출액</th>\n",
       "      <th>매출액점유율</th>\n",
       "      <th>누적매출액</th>\n",
       "      <th>관객수</th>\n",
       "      <th>누적관객수</th>\n",
       "      <th>스크린수</th>\n",
       "      <th>상영횟수</th>\n",
       "      <th>대표국적</th>\n",
       "      <th>...</th>\n",
       "      <th>배급사</th>\n",
       "      <th>등급</th>\n",
       "      <th>장르</th>\n",
       "      <th>감독</th>\n",
       "      <th>배우</th>\n",
       "      <th>main_actors</th>\n",
       "      <th>개봉일_int</th>\n",
       "      <th>director_involved</th>\n",
       "      <th>actor_involved</th>\n",
       "      <th>전국관객수</th>\n",
       "    </tr>\n",
       "  </thead>\n",
       "  <tbody>\n",
       "    <tr>\n",
       "      <th>10874</th>\n",
       "      <td>히어로 일본 대침공</td>\n",
       "      <td>2019-09-11</td>\n",
       "      <td>1000</td>\n",
       "      <td>0.0</td>\n",
       "      <td>1000</td>\n",
       "      <td>1</td>\n",
       "      <td>1</td>\n",
       "      <td>1</td>\n",
       "      <td>1</td>\n",
       "      <td>일본</td>\n",
       "      <td>...</td>\n",
       "      <td>(주)제이앤씨미디어그룹</td>\n",
       "      <td>15세이상관람가</td>\n",
       "      <td>액션,SF</td>\n",
       "      <td>사토 신스케</td>\n",
       "      <td>사토 타케루,키나시 노리타케</td>\n",
       "      <td>NaN</td>\n",
       "      <td>2019</td>\n",
       "      <td>True</td>\n",
       "      <td>False</td>\n",
       "      <td>1</td>\n",
       "    </tr>\n",
       "  </tbody>\n",
       "</table>\n",
       "<p>1 rows × 22 columns</p>\n",
       "</div>"
      ],
      "text/plain": [
       "              영화명         개봉일   매출액  매출액점유율  누적매출액  관객수  누적관객수  스크린수  상영횟수  \\\n",
       "10874  히어로 일본 대침공  2019-09-11  1000     0.0   1000    1      1     1     1   \n",
       "\n",
       "      대표국적  ...           배급사        등급     장르      감독               배우  \\\n",
       "10874   일본  ...  (주)제이앤씨미디어그룹  15세이상관람가  액션,SF  사토 신스케  사토 타케루,키나시 노리타케   \n",
       "\n",
       "      main_actors 개봉일_int director_involved  actor_involved  전국관객수  \n",
       "10874         NaN    2019              True           False      1  \n",
       "\n",
       "[1 rows x 22 columns]"
      ]
     },
     "execution_count": 615,
     "metadata": {},
     "output_type": "execute_result"
    }
   ],
   "source": [
    " actor_power_data_02.tail(1)"
   ]
  },
  {
   "cell_type": "code",
   "execution_count": 604,
   "metadata": {},
   "outputs": [],
   "source": [
    "# total_title_list = list(total_movie_data['영화명'])\n",
    "\n",
    "# def push_audience(title):\n",
    "    \n",
    "#     for i, each_title in enumerate(total_title_list):\n",
    "#         if title == each_title:\n",
    "#             return total_movie_data.iloc[i]['전국관객수']\n",
    "    \n",
    "# actor_power_data_02['전국관객수'] = actor_power_data_02['영화명'].apply(push_audience)"
   ]
  },
  {
   "cell_type": "code",
   "execution_count": 605,
   "metadata": {},
   "outputs": [],
   "source": []
  },
  {
   "cell_type": "code",
   "execution_count": 608,
   "metadata": {},
   "outputs": [],
   "source": [
    "# actor_power_data_02.head()"
   ]
  },
  {
   "cell_type": "code",
   "execution_count": 609,
   "metadata": {},
   "outputs": [],
   "source": [
    "# actor_power_data_02.to_csv('actor_power_data_02.csv', mode='w')"
   ]
  },
  {
   "cell_type": "code",
   "execution_count": null,
   "metadata": {},
   "outputs": [],
   "source": []
  },
  {
   "cell_type": "markdown",
   "metadata": {},
   "source": [
    "# final_df와 대조하게 될 KOBIS 데이터프레임 전처리 1\n",
    "- 기간별 데이터(약 23000개)에 main_actor(주연배우)추가\n",
    "- 기간별 데이터(약 23000개)에서 월별 KOBIS데이터(약 10000개)와 일치하는 데이터프레임만 추출\n",
    "- 추출한 데이터(10875개)에서 개봉일이 누락된 부분을 월별데이터에서 가져와서 채워넣기\n",
    "- 개봉일 비교 쉽게 하기위해 '개봉일_int' 칼럼 추가\n"
   ]
  },
  {
   "cell_type": "code",
   "execution_count": 30,
   "metadata": {},
   "outputs": [],
   "source": [
    "import re\n",
    "import string"
   ]
  },
  {
   "cell_type": "code",
   "execution_count": 7,
   "metadata": {},
   "outputs": [],
   "source": [
    "# final_df = pd.read_csv('final_df.csv').drop(columns=['Unnamed: 0'])"
   ]
  },
  {
   "cell_type": "code",
   "execution_count": 12,
   "metadata": {},
   "outputs": [],
   "source": [
    "# total_movie_data = pd.read_csv('total_movie_data.csv')"
   ]
  },
  {
   "cell_type": "code",
   "execution_count": 184,
   "metadata": {},
   "outputs": [],
   "source": [
    "# actor_power_data = pd.read_csv('actor_power_data.csv')"
   ]
  },
  {
   "cell_type": "code",
   "execution_count": 369,
   "metadata": {},
   "outputs": [],
   "source": [
    "# final_df.head(1)"
   ]
  },
  {
   "cell_type": "code",
   "execution_count": 370,
   "metadata": {},
   "outputs": [],
   "source": [
    "# total_movie_data.head(1)"
   ]
  },
  {
   "cell_type": "code",
   "execution_count": null,
   "metadata": {},
   "outputs": [],
   "source": []
  },
  {
   "cell_type": "code",
   "execution_count": 359,
   "metadata": {},
   "outputs": [],
   "source": [
    "# actor_power_data.head()"
   ]
  },
  {
   "cell_type": "code",
   "execution_count": 360,
   "metadata": {},
   "outputs": [],
   "source": [
    "# len(actor_power_data)"
   ]
  },
  {
   "cell_type": "code",
   "execution_count": 361,
   "metadata": {},
   "outputs": [],
   "source": [
    "# len(actor_power_data)"
   ]
  },
  {
   "cell_type": "code",
   "execution_count": 363,
   "metadata": {},
   "outputs": [],
   "source": [
    "# title_list = list(total_movie_data['영화명'])\n",
    "# len(title_list)"
   ]
  },
  {
   "cell_type": "code",
   "execution_count": 364,
   "metadata": {},
   "outputs": [],
   "source": [
    "# actor_power_data['same_title'] = actor_power_data['영화명'].apply(lambda title : True if title in title_list else False)"
   ]
  },
  {
   "cell_type": "code",
   "execution_count": 365,
   "metadata": {},
   "outputs": [],
   "source": [
    "# actor_power_data_02 = actor_power_data[actor_power_data['same_title'] == True]"
   ]
  },
  {
   "cell_type": "code",
   "execution_count": 366,
   "metadata": {},
   "outputs": [],
   "source": [
    "# len(actor_power_data_02)"
   ]
  },
  {
   "cell_type": "code",
   "execution_count": 328,
   "metadata": {},
   "outputs": [],
   "source": [
    "# actor_power_data_02 = actor_power_data_02.reset_index().drop(columns=['index', 'same_title'])"
   ]
  },
  {
   "cell_type": "code",
   "execution_count": 329,
   "metadata": {},
   "outputs": [],
   "source": [
    "# actor_power_data_02.to_csv('actor_power_data_02.csv', mode='w')"
   ]
  },
  {
   "cell_type": "code",
   "execution_count": 211,
   "metadata": {},
   "outputs": [],
   "source": [
    "# actor_power_data_02['same_title'] = actor_power_data_02['영화명'].apply(lambda title : True if title in title_list else False)"
   ]
  },
  {
   "cell_type": "code",
   "execution_count": 372,
   "metadata": {},
   "outputs": [],
   "source": [
    "# actor_power_data_02.tail(10)"
   ]
  },
  {
   "cell_type": "code",
   "execution_count": 374,
   "metadata": {},
   "outputs": [],
   "source": [
    "# len(actor_power_data_02)"
   ]
  },
  {
   "cell_type": "code",
   "execution_count": 333,
   "metadata": {},
   "outputs": [],
   "source": [
    "# type(actor_power_data_02['감독'][10862]) == type(float('nan'))"
   ]
  },
  {
   "cell_type": "code",
   "execution_count": 348,
   "metadata": {},
   "outputs": [],
   "source": [
    "# total_m_list = list(total_movie_data['영화명'])\n",
    "# total_m_list"
   ]
  },
  {
   "cell_type": "code",
   "execution_count": 349,
   "metadata": {},
   "outputs": [],
   "source": [
    "# def fnc(title):\n",
    "#     for i, m_title in enumerate(total_m_list):\n",
    "#         if title == m_title:\n",
    "#             return total_movie_data.iloc[i]['개봉일']\n",
    "        "
   ]
  },
  {
   "cell_type": "code",
   "execution_count": 350,
   "metadata": {},
   "outputs": [],
   "source": [
    "# actor_power_data_02['개봉일'] = actor_power_data_02['영화명'].apply(fnc)"
   ]
  },
  {
   "cell_type": "code",
   "execution_count": 356,
   "metadata": {},
   "outputs": [],
   "source": [
    "# actor_power_data_02.to_csv('actor_power_data_02.csv', mode='w')"
   ]
  },
  {
   "cell_type": "code",
   "execution_count": 228,
   "metadata": {},
   "outputs": [],
   "source": [
    "# type(list(final_df['감독'])[920]) == type('str')"
   ]
  },
  {
   "cell_type": "code",
   "execution_count": 229,
   "metadata": {},
   "outputs": [],
   "source": [
    "# def check_direc(directors):\n",
    "#     if type(directors) == type('str'):\n",
    "#         if len(directors.split(',')) > 1 :\n",
    "#             return True\n",
    "#         else:\n",
    "#             return False\n",
    "        \n",
    "#     return False"
   ]
  },
  {
   "cell_type": "code",
   "execution_count": 134,
   "metadata": {},
   "outputs": [],
   "source": [
    "# final_df"
   ]
  },
  {
   "cell_type": "code",
   "execution_count": 181,
   "metadata": {},
   "outputs": [],
   "source": [
    "# final_df.to_csv('final_df_02.csv', mode='w')\n",
    "# total_movie_data.to_csv('total_movie_data_02.csv', mode='w')"
   ]
  },
  {
   "cell_type": "code",
   "execution_count": null,
   "metadata": {},
   "outputs": [],
   "source": []
  },
  {
   "cell_type": "code",
   "execution_count": 161,
   "metadata": {},
   "outputs": [],
   "source": [
    "# final_df['개봉일_int'] = final_df['개봉일'].apply(lambda date : int(date[:4]))"
   ]
  },
  {
   "cell_type": "code",
   "execution_count": 169,
   "metadata": {},
   "outputs": [],
   "source": [
    "# total_movie_data['개봉일_int'] = total_movie_data['개봉일'].apply(lambda date : int(date[:4]))"
   ]
  },
  {
   "cell_type": "code",
   "execution_count": 235,
   "metadata": {},
   "outputs": [],
   "source": [
    "# len(total_movie_data[total_movie_data['개봉일_int'] > 2018])"
   ]
  },
  {
   "cell_type": "code",
   "execution_count": 318,
   "metadata": {},
   "outputs": [],
   "source": [
    "# for i, boolean in enumerate(list(final_df['개봉일'].isna())):\n",
    "#     if boolean == True:\n",
    "#         print(i)"
   ]
  },
  {
   "cell_type": "code",
   "execution_count": null,
   "metadata": {},
   "outputs": [],
   "source": []
  },
  {
   "cell_type": "code",
   "execution_count": 355,
   "metadata": {},
   "outputs": [],
   "source": [
    "# for i, boolean in enumerate(list(actor_power_data_02['개봉일'].isna())):\n",
    "#     if boolean == True:\n",
    "#         print(actor_power_data_02.iloc[i]['영화명'])"
   ]
  },
  {
   "cell_type": "code",
   "execution_count": 357,
   "metadata": {},
   "outputs": [],
   "source": [
    "# actor_power_data_02['개봉일_int'] = actor_power_data_02['개봉일'].apply(lambda date : int(date[:4]))"
   ]
  },
  {
   "cell_type": "code",
   "execution_count": 358,
   "metadata": {},
   "outputs": [],
   "source": [
    "# actor_power_data_02.to_csv('actor_power_data_02.csv', mode='w')"
   ]
  },
  {
   "cell_type": "code",
   "execution_count": 109,
   "metadata": {},
   "outputs": [],
   "source": [
    "# total_movie_data[total_movie_data['개봉일_int'] > 2012]"
   ]
  },
  {
   "cell_type": "markdown",
   "metadata": {},
   "source": [
    "# final_df와 대조하게 될 KOBIS 데이터프레임 전처리 2\n",
    " - actor_power_data_02에서 final_df에 존재하는 감독들에 대한 영화들만 추출 -> director_compare_df\n",
    " - actor_power_data_02에서 final_df에 존재하는 배우들에 대한 영화들만 추출 -> actor_compare_df\n",
    " - final_df에서 배우정보가 없는게 있음 -> '-'"
   ]
  },
  {
   "cell_type": "markdown",
   "metadata": {},
   "source": [
    "## director_compare_df 만들기"
   ]
  },
  {
   "cell_type": "code",
   "execution_count": 464,
   "metadata": {},
   "outputs": [],
   "source": [
    "# actor_power_data_02.head()"
   ]
  },
  {
   "cell_type": "code",
   "execution_count": 462,
   "metadata": {},
   "outputs": [],
   "source": [
    "# final_direc_list = list(final_df['감독'])"
   ]
  },
  {
   "cell_type": "code",
   "execution_count": 460,
   "metadata": {},
   "outputs": [],
   "source": [
    "# final_direc_list"
   ]
  },
  {
   "cell_type": "code",
   "execution_count": 426,
   "metadata": {},
   "outputs": [],
   "source": [
    "# def seperate_direc():\n",
    "#     result = []\n",
    "#     for names in final_direc_list:\n",
    "#         if type(names) == type(float('nan')):\n",
    "#             result.append(names)\n",
    "#         else:\n",
    "#             for name in names.split(','):\n",
    "#                 result.append(name)\n",
    "#     return result"
   ]
  },
  {
   "cell_type": "code",
   "execution_count": 427,
   "metadata": {},
   "outputs": [],
   "source": [
    "# final_direc_list = seperate_direc()"
   ]
  },
  {
   "cell_type": "code",
   "execution_count": 461,
   "metadata": {},
   "outputs": [],
   "source": [
    "# final_direc_list"
   ]
  },
  {
   "cell_type": "code",
   "execution_count": 439,
   "metadata": {},
   "outputs": [],
   "source": [
    "# def direc_check_func(names):\n",
    "#     if type(names) == type(float('nan')):\n",
    "#         return False\n",
    "    \n",
    "#     for name in names.split(','):\n",
    "#         if name in final_direc_list:\n",
    "#             return True\n",
    "#         else:\n",
    "#             return False\n",
    "    "
   ]
  },
  {
   "cell_type": "code",
   "execution_count": 440,
   "metadata": {},
   "outputs": [],
   "source": [
    "# actor_power_data_02['director_involved'] = actor_power_data_02['감독'].apply(direc_check_func)"
   ]
  },
  {
   "cell_type": "code",
   "execution_count": 397,
   "metadata": {},
   "outputs": [],
   "source": [
    "# sorted_df = actor_power_data_02[actor_power_data_02['same_direc'] == True]"
   ]
  },
  {
   "cell_type": "code",
   "execution_count": 429,
   "metadata": {},
   "outputs": [],
   "source": [
    "# final_df.head(2)"
   ]
  },
  {
   "cell_type": "code",
   "execution_count": 430,
   "metadata": {},
   "outputs": [],
   "source": [
    "# final_df['starring_actors']"
   ]
  },
  {
   "cell_type": "code",
   "execution_count": 437,
   "metadata": {},
   "outputs": [],
   "source": [
    "# actor_power_data_02.drop(columns=['same_direc'], inplace=True)"
   ]
  },
  {
   "cell_type": "code",
   "execution_count": 447,
   "metadata": {},
   "outputs": [],
   "source": [
    "# director_compare_df = actor_power_data_02[actor_power_data_02['director_involved'] == True]"
   ]
  },
  {
   "cell_type": "code",
   "execution_count": 496,
   "metadata": {},
   "outputs": [],
   "source": [
    "# director_compare_df.to_csv('director_compare_df.csv', mode='w')"
   ]
  },
  {
   "cell_type": "markdown",
   "metadata": {},
   "source": [
    "## actor_compare_df 만들기"
   ]
  },
  {
   "cell_type": "code",
   "execution_count": null,
   "metadata": {},
   "outputs": [],
   "source": [
    "# final_df['starring_actors'][1].split(',')\n",
    "\n",
    "# [re.sub('[(].+[)]', '', x).strip() for x in final_df['starring_actors'][i].split(',')]"
   ]
  },
  {
   "cell_type": "code",
   "execution_count": 471,
   "metadata": {},
   "outputs": [
    {
     "data": {
      "text/plain": [
       "928"
      ]
     },
     "execution_count": 471,
     "metadata": {},
     "output_type": "execute_result"
    }
   ],
   "source": [
    "# final_actor_list = list(final_df['starring_actors'])\n",
    "# len(final_actor_list)"
   ]
  },
  {
   "cell_type": "code",
   "execution_count": 468,
   "metadata": {},
   "outputs": [],
   "source": [
    "# result = []\n",
    "# for i in range(0, len(final_actor_list)):\n",
    "#     for name in [re.sub('[(].+[)]', '', x).strip() for x in final_df['starring_actors'][i].split(',')]:\n",
    "#         result.append(name)\n",
    "        "
   ]
  },
  {
   "cell_type": "code",
   "execution_count": 486,
   "metadata": {},
   "outputs": [],
   "source": [
    "# len(result)"
   ]
  },
  {
   "cell_type": "code",
   "execution_count": 500,
   "metadata": {},
   "outputs": [],
   "source": [
    "# final_actor_list = np.unique(result)"
   ]
  },
  {
   "cell_type": "code",
   "execution_count": 501,
   "metadata": {},
   "outputs": [
    {
     "data": {
      "text/plain": [
       "1357"
      ]
     },
     "execution_count": 501,
     "metadata": {},
     "output_type": "execute_result"
    }
   ],
   "source": [
    "# len(final_actor_list)"
   ]
  },
  {
   "cell_type": "code",
   "execution_count": 502,
   "metadata": {},
   "outputs": [],
   "source": [
    "# def actor_check_func(names):\n",
    "#     if type(names) == type(float('nan')):\n",
    "#         return False\n",
    "    \n",
    "#     for name in names.split(','):\n",
    "#         if name in final_actor_list:\n",
    "#             return True\n",
    "#         else:\n",
    "#             return False\n",
    "    "
   ]
  },
  {
   "cell_type": "code",
   "execution_count": 503,
   "metadata": {},
   "outputs": [],
   "source": [
    "# actor_power_data_02['actor_involved'] = actor_power_data_02['main_actors'].apply(actor_check_func)"
   ]
  },
  {
   "cell_type": "code",
   "execution_count": 504,
   "metadata": {},
   "outputs": [],
   "source": [
    "# actor_compare_df = actor_power_data_02[actor_power_data_02['actor_involved'] == True]"
   ]
  },
  {
   "cell_type": "code",
   "execution_count": 511,
   "metadata": {},
   "outputs": [],
   "source": [
    "# actor_compare_df.to_csv('actor_compare_df.csv', mode='w')"
   ]
  },
  {
   "cell_type": "code",
   "execution_count": 514,
   "metadata": {},
   "outputs": [],
   "source": [
    "# actor_power_data_02.to_csv('actor_power_data_02.csv', mode='w')"
   ]
  },
  {
   "cell_type": "code",
   "execution_count": null,
   "metadata": {},
   "outputs": [],
   "source": []
  },
  {
   "cell_type": "code",
   "execution_count": null,
   "metadata": {},
   "outputs": [],
   "source": []
  },
  {
   "cell_type": "markdown",
   "metadata": {},
   "source": [
    "## 동명이인 구분 처리하기\n",
    "- final_df 구분 처리\n",
    "    - 288  터널  김성훈B  2016-08-10 \n",
    "    - 377  공조  김성훈A  2017-01-18 \n",
    "    - 675  창궐  김성훈A  2018-10-25\n",
    "    \n",
    "- director_compare_df 구분 처리\n",
    "    - 462        네모난원  김성훈C  2012-12-06\n",
    "    - 737   마이 리틀 히어로  김성훈A  2013-01-09\n",
    "    - 1593     끝까지 간다  김성훈B  2014-05-29\n",
    "    - 4586         터널  김성훈B  2016-08-10\n",
    "    - 5407         공조  김성훈A  2017-01-18\n",
    "    - 7996         창궐  김성훈A  2018-10-25\n",
    "- actor_compare_df 구분 처리"
   ]
  },
  {
   "cell_type": "code",
   "execution_count": 533,
   "metadata": {},
   "outputs": [],
   "source": [
    "# director_compare_df = director_compare_df.reset_index().drop(columns=['index'])"
   ]
  },
  {
   "cell_type": "code",
   "execution_count": 563,
   "metadata": {},
   "outputs": [],
   "source": [
    "# final_df.to_csv('final_df_sep_d.csv', mode='w')"
   ]
  },
  {
   "cell_type": "code",
   "execution_count": 539,
   "metadata": {},
   "outputs": [],
   "source": [
    "# director_compare_df.to_csv('director_compare_df_sep_d.csv', mode='w')"
   ]
  },
  {
   "cell_type": "code",
   "execution_count": 543,
   "metadata": {},
   "outputs": [],
   "source": [
    "# final_df[final_df['감독'] == '김성훈']"
   ]
  },
  {
   "cell_type": "code",
   "execution_count": 544,
   "metadata": {},
   "outputs": [],
   "source": [
    "# director_compare_df[director_compare_df['감독'] == '김성훈']"
   ]
  },
  {
   "cell_type": "code",
   "execution_count": 687,
   "metadata": {},
   "outputs": [],
   "source": [
    "# for i, boolean in enumerate(list(final_df['감독'].isna())):\n",
    "#     if boolean == True:\n",
    "#         print(i)"
   ]
  },
  {
   "cell_type": "code",
   "execution_count": 568,
   "metadata": {},
   "outputs": [],
   "source": [
    "# for i, boolean in enumerate(list(director_compare_df['감독'].isna())):\n",
    "#     if boolean == True:\n",
    "#         print(i)"
   ]
  },
  {
   "cell_type": "code",
   "execution_count": 637,
   "metadata": {},
   "outputs": [],
   "source": [
    "# final_df['감독'][925] = '카를로스 구티에레스 메드라노'"
   ]
  },
  {
   "cell_type": "code",
   "execution_count": 571,
   "metadata": {},
   "outputs": [],
   "source": [
    "# for i, boolean in enumerate(list(final_df['starring_actors'].isna())):\n",
    "#     if boolean == True:\n",
    "#         print(i)"
   ]
  },
  {
   "cell_type": "code",
   "execution_count": 573,
   "metadata": {},
   "outputs": [],
   "source": [
    "# for i, boolean in enumerate(list(actor_compare_df['main_actors'].isna())):\n",
    "#     if boolean == True:\n",
    "#         print(i)"
   ]
  },
  {
   "cell_type": "code",
   "execution_count": 638,
   "metadata": {},
   "outputs": [],
   "source": [
    "# len(actor_compare_df)"
   ]
  },
  {
   "cell_type": "code",
   "execution_count": 639,
   "metadata": {},
   "outputs": [],
   "source": [
    "# director_compare_df.head(1)"
   ]
  },
  {
   "cell_type": "code",
   "execution_count": 635,
   "metadata": {},
   "outputs": [],
   "source": [
    "# total_title_list = list(actor_power_data_02['영화명'])\n",
    "\n",
    "# def push_audience(title):\n",
    "    \n",
    "#     for i, each_title in enumerate(total_title_list):\n",
    "#         if title == each_title:\n",
    "#             return actor_power_data_02.iloc[i]['전국관객수']\n",
    "    "
   ]
  },
  {
   "cell_type": "code",
   "execution_count": 636,
   "metadata": {},
   "outputs": [],
   "source": [
    "# actor_compare_df['전국관객수'] = actor_compare_df['영화명'].apply(push_audience)"
   ]
  },
  {
   "cell_type": "code",
   "execution_count": 634,
   "metadata": {},
   "outputs": [],
   "source": [
    "# actor_compare_df.to_csv('actor_compare_df_sep_d.csv', mode='w')"
   ]
  },
  {
   "cell_type": "code",
   "execution_count": null,
   "metadata": {},
   "outputs": [],
   "source": []
  },
  {
   "cell_type": "code",
   "execution_count": null,
   "metadata": {},
   "outputs": [],
   "source": []
  },
  {
   "cell_type": "code",
   "execution_count": null,
   "metadata": {},
   "outputs": [],
   "source": []
  },
  {
   "cell_type": "code",
   "execution_count": null,
   "metadata": {},
   "outputs": [],
   "source": []
  },
  {
   "cell_type": "code",
   "execution_count": null,
   "metadata": {},
   "outputs": [],
   "source": []
  },
  {
   "cell_type": "markdown",
   "metadata": {},
   "source": [
    "# final_df에 감독/배우 영향력 컬럼 추가\n",
    "- 데이터프레임 final_df와 director_compare_df, actor_compare_df에서 감독과 배우의 동명이인에 대한 처리가 완료되었다고 보고 진행\n",
    "- 전처리 완료한 KOBIS 데이터프레임(actor_power_data_02)을 대조하는 데이터프레임으로 사용한다\n",
    "    - director_func함수 apply시켜서, final_df에 각 영화 row에 대한 감독영향 컬럼 추가\n",
    "    - actor_func함수 apply시켜서, final_df에 각 영화 row에 대한 배우영향 컬럼 추가\n",
    "    - 그 감독이 지난 3년간 끌어모은 관객수 / 그 감독이 만든 영화 갯수\n",
    "    - 그 배우가 지난 3년간 끌어모은 관객수 / 그 배우가 출연한 영화 갯수\n",
    "- 감독, 배우별 영향력(누적관객수) 저장할 dict 만들기\n",
    "- 감독별 제작한 영화갯수 dict 만들기\n",
    "- 배우별 출연한 영화갯수 dict 만들기\n",
    " "
   ]
  },
  {
   "cell_type": "code",
   "execution_count": 589,
   "metadata": {},
   "outputs": [],
   "source": [
    "# director_power_dict = {}\n",
    "# actor_power_dict = {}\n",
    "# director_movies_dict = {}\n",
    "# actor_movies_dict = {}"
   ]
  },
  {
   "cell_type": "code",
   "execution_count": null,
   "metadata": {},
   "outputs": [],
   "source": []
  },
  {
   "cell_type": "code",
   "execution_count": 640,
   "metadata": {},
   "outputs": [
    {
     "data": {
      "text/html": [
       "<div>\n",
       "<style scoped>\n",
       "    .dataframe tbody tr th:only-of-type {\n",
       "        vertical-align: middle;\n",
       "    }\n",
       "\n",
       "    .dataframe tbody tr th {\n",
       "        vertical-align: top;\n",
       "    }\n",
       "\n",
       "    .dataframe thead th {\n",
       "        text-align: right;\n",
       "    }\n",
       "</style>\n",
       "<table border=\"1\" class=\"dataframe\">\n",
       "  <thead>\n",
       "    <tr style=\"text-align: right;\">\n",
       "      <th></th>\n",
       "      <th>id</th>\n",
       "      <th>영화명</th>\n",
       "      <th>감독</th>\n",
       "      <th>제작사</th>\n",
       "      <th>수입사</th>\n",
       "      <th>배급사</th>\n",
       "      <th>개봉일</th>\n",
       "      <th>영화유형</th>\n",
       "      <th>영화형태</th>\n",
       "      <th>국적</th>\n",
       "      <th>...</th>\n",
       "      <th>서울관객수</th>\n",
       "      <th>장르</th>\n",
       "      <th>등급</th>\n",
       "      <th>영화구분</th>\n",
       "      <th>expert_rating</th>\n",
       "      <th>starring_actors</th>\n",
       "      <th>running_times</th>\n",
       "      <th>audience_rating</th>\n",
       "      <th>rating_audiences</th>\n",
       "      <th>개봉일_int</th>\n",
       "    </tr>\n",
       "  </thead>\n",
       "  <tbody>\n",
       "    <tr>\n",
       "      <th>0</th>\n",
       "      <td>0</td>\n",
       "      <td>어벤져스: 에이지 오브 울트론</td>\n",
       "      <td>조스 웨던</td>\n",
       "      <td>NaN</td>\n",
       "      <td>월트디즈니컴퍼니코리아(주)</td>\n",
       "      <td>월트디즈니컴퍼니코리아(주)</td>\n",
       "      <td>2015-04-23</td>\n",
       "      <td>개봉영화</td>\n",
       "      <td>장편</td>\n",
       "      <td>미국</td>\n",
       "      <td>...</td>\n",
       "      <td>2823388</td>\n",
       "      <td>액션</td>\n",
       "      <td>12세이상관람가</td>\n",
       "      <td>일반영화</td>\n",
       "      <td>6.92</td>\n",
       "      <td>로버트 다우니 주니어(토니 스타크 / 아이언맨), 크리스 헴스워스(토르), 마크 러...</td>\n",
       "      <td>141분</td>\n",
       "      <td>8.612376613515565</td>\n",
       "      <td>5268</td>\n",
       "      <td>2015</td>\n",
       "    </tr>\n",
       "  </tbody>\n",
       "</table>\n",
       "<p>1 rows × 24 columns</p>\n",
       "</div>"
      ],
      "text/plain": [
       "   id               영화명     감독  제작사             수입사             배급사  \\\n",
       "0   0  어벤져스: 에이지 오브 울트론  조스 웨던  NaN  월트디즈니컴퍼니코리아(주)  월트디즈니컴퍼니코리아(주)   \n",
       "\n",
       "          개봉일  영화유형 영화형태  국적  ...    서울관객수  장르        등급  영화구분  expert_rating  \\\n",
       "0  2015-04-23  개봉영화   장편  미국  ...  2823388  액션  12세이상관람가  일반영화           6.92   \n",
       "\n",
       "                                     starring_actors running_times  \\\n",
       "0  로버트 다우니 주니어(토니 스타크 / 아이언맨), 크리스 헴스워스(토르), 마크 러...          141분   \n",
       "\n",
       "     audience_rating rating_audiences 개봉일_int  \n",
       "0  8.612376613515565             5268    2015  \n",
       "\n",
       "[1 rows x 24 columns]"
      ]
     },
     "execution_count": 640,
     "metadata": {},
     "output_type": "execute_result"
    }
   ],
   "source": [
    "final_df.head(1)"
   ]
  },
  {
   "cell_type": "code",
   "execution_count": 641,
   "metadata": {},
   "outputs": [
    {
     "data": {
      "text/html": [
       "<div>\n",
       "<style scoped>\n",
       "    .dataframe tbody tr th:only-of-type {\n",
       "        vertical-align: middle;\n",
       "    }\n",
       "\n",
       "    .dataframe tbody tr th {\n",
       "        vertical-align: top;\n",
       "    }\n",
       "\n",
       "    .dataframe thead th {\n",
       "        text-align: right;\n",
       "    }\n",
       "</style>\n",
       "<table border=\"1\" class=\"dataframe\">\n",
       "  <thead>\n",
       "    <tr style=\"text-align: right;\">\n",
       "      <th></th>\n",
       "      <th>영화명</th>\n",
       "      <th>개봉일</th>\n",
       "      <th>매출액</th>\n",
       "      <th>매출액점유율</th>\n",
       "      <th>누적매출액</th>\n",
       "      <th>관객수</th>\n",
       "      <th>누적관객수</th>\n",
       "      <th>스크린수</th>\n",
       "      <th>상영횟수</th>\n",
       "      <th>대표국적</th>\n",
       "      <th>...</th>\n",
       "      <th>제작사</th>\n",
       "      <th>배급사</th>\n",
       "      <th>등급</th>\n",
       "      <th>장르</th>\n",
       "      <th>감독</th>\n",
       "      <th>배우</th>\n",
       "      <th>main_actors</th>\n",
       "      <th>개봉일_int</th>\n",
       "      <th>director_involved</th>\n",
       "      <th>전국관객수</th>\n",
       "    </tr>\n",
       "  </thead>\n",
       "  <tbody>\n",
       "    <tr>\n",
       "      <th>0</th>\n",
       "      <td>어벤져스</td>\n",
       "      <td>2012-04-26</td>\n",
       "      <td>59546521565</td>\n",
       "      <td>0.093</td>\n",
       "      <td>59546521565</td>\n",
       "      <td>7073037</td>\n",
       "      <td>7073037</td>\n",
       "      <td>967</td>\n",
       "      <td>109646</td>\n",
       "      <td>미국</td>\n",
       "      <td>...</td>\n",
       "      <td>NaN</td>\n",
       "      <td>한국소니픽쳐스릴리징브에나비스타영화㈜</td>\n",
       "      <td>12세이상관람가</td>\n",
       "      <td>액션,SF</td>\n",
       "      <td>조스 웨던</td>\n",
       "      <td>로버트 다우니 주니어,스칼렛 요한슨,크리스 헴스워스,크리스 에반스,제레미 레너</td>\n",
       "      <td>로버트 다우니 주니어, 스칼렛 요한슨, 크리스 헴스워스</td>\n",
       "      <td>2012</td>\n",
       "      <td>True</td>\n",
       "      <td>7073037</td>\n",
       "    </tr>\n",
       "  </tbody>\n",
       "</table>\n",
       "<p>1 rows × 21 columns</p>\n",
       "</div>"
      ],
      "text/plain": [
       "    영화명         개봉일          매출액  매출액점유율        누적매출액      관객수    누적관객수  스크린수  \\\n",
       "0  어벤져스  2012-04-26  59546521565   0.093  59546521565  7073037  7073037   967   \n",
       "\n",
       "     상영횟수 대표국적  ...  제작사                  배급사        등급     장르     감독  \\\n",
       "0  109646   미국  ...  NaN  한국소니픽쳐스릴리징브에나비스타영화㈜  12세이상관람가  액션,SF  조스 웨던   \n",
       "\n",
       "                                            배우  \\\n",
       "0  로버트 다우니 주니어,스칼렛 요한슨,크리스 헴스워스,크리스 에반스,제레미 레너   \n",
       "\n",
       "                      main_actors 개봉일_int  director_involved    전국관객수  \n",
       "0  로버트 다우니 주니어, 스칼렛 요한슨, 크리스 헴스워스    2012               True  7073037  \n",
       "\n",
       "[1 rows x 21 columns]"
      ]
     },
     "execution_count": 641,
     "metadata": {},
     "output_type": "execute_result"
    }
   ],
   "source": [
    "director_compare_df.head(1)"
   ]
  },
  {
   "cell_type": "code",
   "execution_count": 642,
   "metadata": {},
   "outputs": [],
   "source": [
    "# 감독에 의한 누적관객수 dict에 모으기\n",
    "\n",
    "year_list = list(final_df['개봉일_int'])\n",
    "year_index = 0\n",
    "\n",
    "def director_func(directors):\n",
    "    global year_index\n",
    "    global director_power_dict\n",
    "    global director_movies_dict\n",
    "    \n",
    "    total_audience = 0\n",
    "    \n",
    "    # 감독명이 없는경우 그냥 리턴\n",
    "    if type(directors) == type(float('nan')):\n",
    "        return\n",
    "    \n",
    "    director_list = directors.split(',')\n",
    "    limit_year = int(year_list[year_index]) - 3\n",
    "    \n",
    "    for each_name in director_list:\n",
    "        stripped_name = each_name.strip()\n",
    "        \n",
    "        # 데이터프레임 자르기\n",
    "        cut_movie_df = director_compare_df[director_compare_df['개봉일_int'] > limit_year - 1]\n",
    "        cut_movie_df = cut_movie_df[cut_movie_df['개봉일_int'] < int(year_list[year_index]) + 1]\n",
    "        \n",
    "        for i in range(0, len(cut_movie_df)):\n",
    "            cur_row = cut_movie_df.iloc[i]\n",
    "            \n",
    "            if type(cur_row['감독']) == type(float('nan')):\n",
    "                continue\n",
    "            \n",
    "            cur_row_directors = [name.strip() for name in cur_row['감독'].split(',')]\n",
    "            \n",
    "            if stripped_name in cur_row_directors:\n",
    "                total_audience += int(cur_row['전국관객수'])\n",
    "        \n",
    "        try:\n",
    "            director_power_dict[stripped_name] += total_audience\n",
    "            director_movies_dict[stripped_name] += 1\n",
    "        except Exception:\n",
    "            director_power_dict[stripped_name] = total_audience\n",
    "            director_movies_dict[stripped_name] = 1\n",
    "    \n",
    "    year_index += 1        \n",
    "        "
   ]
  },
  {
   "cell_type": "code",
   "execution_count": 643,
   "metadata": {},
   "outputs": [
    {
     "data": {
      "text/plain": [
       "0      None\n",
       "1      None\n",
       "2      None\n",
       "3      None\n",
       "4      None\n",
       "       ... \n",
       "923    None\n",
       "924    None\n",
       "925    None\n",
       "926    None\n",
       "927    None\n",
       "Name: 감독, Length: 928, dtype: object"
      ]
     },
     "execution_count": 643,
     "metadata": {},
     "output_type": "execute_result"
    }
   ],
   "source": [
    "# final_df['감독'].apply(director_func)"
   ]
  },
  {
   "cell_type": "code",
   "execution_count": 645,
   "metadata": {},
   "outputs": [
    {
     "data": {
      "text/plain": [
       "789"
      ]
     },
     "execution_count": 645,
     "metadata": {},
     "output_type": "execute_result"
    }
   ],
   "source": [
    "# len(director_power_dict)"
   ]
  },
  {
   "cell_type": "code",
   "execution_count": 648,
   "metadata": {},
   "outputs": [
    {
     "data": {
      "text/plain": [
       "789"
      ]
     },
     "execution_count": 648,
     "metadata": {},
     "output_type": "execute_result"
    }
   ],
   "source": [
    "# len(director_movies_dict)"
   ]
  },
  {
   "cell_type": "code",
   "execution_count": 678,
   "metadata": {},
   "outputs": [],
   "source": [
    "# director_movies_dict"
   ]
  },
  {
   "cell_type": "code",
   "execution_count": 680,
   "metadata": {},
   "outputs": [
    {
     "data": {
      "text/plain": [
       "numpy.int64"
      ]
     },
     "execution_count": 680,
     "metadata": {},
     "output_type": "execute_result"
    }
   ],
   "source": [
    "# type(final_df.iloc[0]['전국관객수'])"
   ]
  },
  {
   "cell_type": "code",
   "execution_count": 684,
   "metadata": {},
   "outputs": [
    {
     "name": "stdout",
     "output_type": "stream",
     "text": [
      "<class 'pandas.core.frame.DataFrame'>\n",
      "RangeIndex: 928 entries, 0 to 927\n",
      "Data columns (total 25 columns):\n",
      " #   Column            Non-Null Count  Dtype \n",
      "---  ------            --------------  ----- \n",
      " 0   Unnamed: 0        928 non-null    int64 \n",
      " 1   id                928 non-null    int64 \n",
      " 2   영화명               928 non-null    object\n",
      " 3   감독                926 non-null    object\n",
      " 4   제작사               348 non-null    object\n",
      " 5   수입사               585 non-null    object\n",
      " 6   배급사               927 non-null    object\n",
      " 7   개봉일               928 non-null    object\n",
      " 8   영화유형              928 non-null    object\n",
      " 9   영화형태              928 non-null    object\n",
      " 10  국적                928 non-null    object\n",
      " 11  전국스크린수            928 non-null    int64 \n",
      " 12  전국매출액             928 non-null    int64 \n",
      " 13  전국관객수             928 non-null    int64 \n",
      " 14  서울매출액             928 non-null    int64 \n",
      " 15  서울관객수             928 non-null    int64 \n",
      " 16  장르                928 non-null    object\n",
      " 17  등급                928 non-null    object\n",
      " 18  영화구분              928 non-null    object\n",
      " 19  expert_rating     928 non-null    object\n",
      " 20  starring_actors   928 non-null    object\n",
      " 21  running_times     928 non-null    object\n",
      " 22  audience_rating   928 non-null    object\n",
      " 23  rating_audiences  928 non-null    object\n",
      " 24  개봉일_int           928 non-null    int64 \n",
      "dtypes: int64(8), object(17)\n",
      "memory usage: 181.4+ KB\n"
     ]
    }
   ],
   "source": [
    "final_df_rr = pd.read_csv('final_df_sep_d.csv')\n",
    "final_df_rr.info()\n",
    "                          "
   ]
  },
  {
   "cell_type": "code",
   "execution_count": null,
   "metadata": {},
   "outputs": [],
   "source": []
  },
  {
   "cell_type": "code",
   "execution_count": null,
   "metadata": {},
   "outputs": [],
   "source": []
  },
  {
   "cell_type": "code",
   "execution_count": null,
   "metadata": {},
   "outputs": [],
   "source": []
  },
  {
   "cell_type": "code",
   "execution_count": null,
   "metadata": {},
   "outputs": [],
   "source": []
  },
  {
   "cell_type": "code",
   "execution_count": 668,
   "metadata": {},
   "outputs": [],
   "source": [
    "# 감독의 이전 성과(누적 관객수) dict을 이용해서 director_power 칼럼을 final_df에 추가\n",
    "# 제작영화 총 갯수와 [] 이거를 분리하려면 띄어쓰기로 split하기\n",
    "\n",
    "def push_direc_power(directors):\n",
    "    total_audience = 0\n",
    "    \n",
    "    # 감독명이 없는경우 null값을 리턴한다\n",
    "    if type(directors) == type(float('nan')):\n",
    "        return float('nan')\n",
    "    \n",
    "    director_list = directors.split(',')\n",
    "    \n",
    "    for each_name in director_list:\n",
    "        stripped_name = each_name.strip()\n",
    "        total_audience += director_power_dict[stripped_name]\n",
    "        \n",
    "    return total_audience\n",
    "        \n",
    "\n",
    "def push_direc_movie_num(directors):\n",
    "    total_movie = 0\n",
    "    arr = []\n",
    "    \n",
    "    # 감독명이 없는경우 null값을 리턴한다\n",
    "    if type(directors) == type(float('nan')):\n",
    "        return float('nan')\n",
    "    \n",
    "    director_list = directors.split(',')\n",
    "    \n",
    "    for each_name in director_list:\n",
    "        stripped_name = each_name.strip()\n",
    "        total_movie += director_movies_dict[stripped_name]\n",
    "        arr.append(director_movies_dict[stripped_name])\n",
    "        \n",
    "    result = str(total_movie) + ' ' + str(arr)\n",
    "        \n",
    "    return result\n",
    "    "
   ]
  },
  {
   "cell_type": "code",
   "execution_count": 651,
   "metadata": {},
   "outputs": [],
   "source": [
    "# final_df['director_power'] = final_df['감독'].apply(push_direc_power)"
   ]
  },
  {
   "cell_type": "code",
   "execution_count": 669,
   "metadata": {},
   "outputs": [],
   "source": [
    "# final_df['director_moive_num'] = final_df['감독'].apply(push_direc_movie_num)"
   ]
  },
  {
   "cell_type": "code",
   "execution_count": 675,
   "metadata": {},
   "outputs": [],
   "source": [
    "# final_df.to_csv('final_df_03.csv', mode='w')"
   ]
  },
  {
   "cell_type": "code",
   "execution_count": null,
   "metadata": {},
   "outputs": [],
   "source": []
  },
  {
   "cell_type": "code",
   "execution_count": 677,
   "metadata": {},
   "outputs": [],
   "source": [
    "# final_df[200:204]"
   ]
  },
  {
   "cell_type": "code",
   "execution_count": null,
   "metadata": {},
   "outputs": [],
   "source": []
  },
  {
   "cell_type": "code",
   "execution_count": null,
   "metadata": {},
   "outputs": [],
   "source": []
  },
  {
   "cell_type": "code",
   "execution_count": null,
   "metadata": {},
   "outputs": [],
   "source": []
  },
  {
   "cell_type": "code",
   "execution_count": 587,
   "metadata": {},
   "outputs": [],
   "source": [
    "# 배우 성과측정 함수\n",
    "\n",
    "year_list = list(final_df['개봉일_int'])\n",
    "year_index = 0\n",
    "\n",
    "def actor_func(actors):\n",
    "    global year_index\n",
    "    global actor_power_dict\n",
    "    global actor_movies_dict\n",
    "    \n",
    "    total_audience = 0\n",
    "    \n",
    "    actor_list = actors.split(',')\n",
    "    actor_list = [re.sub('[(].+[)]', '', each_name) for each_name in actor_list]\n",
    "    \n",
    "    limit_year = int(year_list[year_index][:4]) - 3\n",
    "    \n",
    "    for each_name in actor_list:\n",
    "        stripped_name = each_name.strip()\n",
    "        \n",
    "        # 데이터프레임 자르기\n",
    "        cut_movie_df = actor_compare_df[actor_compare_df['개봉일_int'] > limit_year - 1]\n",
    "        cut_movie_df = cut_movie_df[cut_movie_df['개봉일_int'] < int(year_list[year_index]) + 1]\n",
    "        \n",
    "        for i in range(0, len(cut_movie_df)):\n",
    "            \n",
    "            cur_row = cut_movie_df.iloc[i]\n",
    "            cur_row_actors = [name.strip() for name in cur_row['main_actors'].split(',')]\n",
    "            \n",
    "            if stripped_name in cur_row_actors:\n",
    "                total_audience += int(cur_row['전국관객수'])\n",
    "                \n",
    "        try:\n",
    "            actor_power_dict[stripped_name] += total_audience\n",
    "            actor_movies_dict[stripped_name] += 1\n",
    "        except Exception:\n",
    "            actor_power_dict[stripped_name] = total_audience\n",
    "            actor_movies_dict[stripped_name] = 1\n",
    "        \n",
    "    year_index += 1\n",
    "        \n",
    "    "
   ]
  },
  {
   "cell_type": "code",
   "execution_count": null,
   "metadata": {},
   "outputs": [],
   "source": [
    "# final_df['starring_actors'].apply(actor_func)"
   ]
  },
  {
   "cell_type": "code",
   "execution_count": 691,
   "metadata": {},
   "outputs": [
    {
     "data": {
      "text/plain": [
       "1671"
      ]
     },
     "execution_count": 691,
     "metadata": {},
     "output_type": "execute_result"
    }
   ],
   "source": [
    "len(actor_compare_df)"
   ]
  },
  {
   "cell_type": "code",
   "execution_count": 693,
   "metadata": {},
   "outputs": [
    {
     "data": {
      "text/plain": [
       "1671"
      ]
     },
     "execution_count": 693,
     "metadata": {},
     "output_type": "execute_result"
    }
   ],
   "source": [
    "len(pd.read_csv('actor_compare_df_sep_d.csv'))"
   ]
  },
  {
   "cell_type": "code",
   "execution_count": null,
   "metadata": {},
   "outputs": [],
   "source": []
  },
  {
   "cell_type": "code",
   "execution_count": null,
   "metadata": {},
   "outputs": [],
   "source": [
    "# final_df['actor_power'] = final_df['starring_actors'].apply(actor_func)"
   ]
  },
  {
   "cell_type": "code",
   "execution_count": null,
   "metadata": {},
   "outputs": [],
   "source": []
  },
  {
   "cell_type": "code",
   "execution_count": null,
   "metadata": {},
   "outputs": [],
   "source": []
  },
  {
   "cell_type": "code",
   "execution_count": null,
   "metadata": {},
   "outputs": [],
   "source": []
  },
  {
   "cell_type": "code",
   "execution_count": null,
   "metadata": {},
   "outputs": [],
   "source": []
  },
  {
   "cell_type": "code",
   "execution_count": null,
   "metadata": {},
   "outputs": [],
   "source": []
  },
  {
   "cell_type": "markdown",
   "metadata": {},
   "source": [
    "## 배우 괄호없애기"
   ]
  },
  {
   "cell_type": "code",
   "execution_count": 102,
   "metadata": {},
   "outputs": [
    {
     "data": {
      "text/plain": [
       "['황정민(덕수)', ' 김윤진(영자)', ' 오달수(달구)']"
      ]
     },
     "execution_count": 102,
     "metadata": {},
     "output_type": "execute_result"
    }
   ],
   "source": [
    "a = crawling_df['starring_actors'][1].split(',')\n",
    "a"
   ]
  },
  {
   "cell_type": "code",
   "execution_count": 104,
   "metadata": {},
   "outputs": [
    {
     "data": {
      "text/plain": [
       "['황정민', '김윤진', '오달수']"
      ]
     },
     "execution_count": 104,
     "metadata": {},
     "output_type": "execute_result"
    }
   ],
   "source": [
    "[re.sub('[(].+[)]', '', x).strip() for x in a]"
   ]
  },
  {
   "cell_type": "code",
   "execution_count": null,
   "metadata": {},
   "outputs": [],
   "source": []
  },
  {
   "cell_type": "code",
   "execution_count": null,
   "metadata": {},
   "outputs": [],
   "source": []
  },
  {
   "cell_type": "code",
   "execution_count": null,
   "metadata": {},
   "outputs": [],
   "source": []
  },
  {
   "cell_type": "code",
   "execution_count": null,
   "metadata": {},
   "outputs": [],
   "source": [
    "\n",
    "    \n",
    "    "
   ]
  },
  {
   "cell_type": "code",
   "execution_count": 20,
   "metadata": {},
   "outputs": [],
   "source": []
  },
  {
   "cell_type": "code",
   "execution_count": null,
   "metadata": {},
   "outputs": [],
   "source": []
  },
  {
   "cell_type": "code",
   "execution_count": null,
   "metadata": {},
   "outputs": [],
   "source": []
  },
  {
   "cell_type": "code",
   "execution_count": null,
   "metadata": {},
   "outputs": [],
   "source": []
  },
  {
   "cell_type": "code",
   "execution_count": null,
   "metadata": {},
   "outputs": [],
   "source": []
  },
  {
   "cell_type": "code",
   "execution_count": null,
   "metadata": {},
   "outputs": [],
   "source": []
  },
  {
   "cell_type": "code",
   "execution_count": null,
   "metadata": {},
   "outputs": [],
   "source": []
  },
  {
   "cell_type": "code",
   "execution_count": null,
   "metadata": {},
   "outputs": [],
   "source": []
  },
  {
   "cell_type": "code",
   "execution_count": null,
   "metadata": {},
   "outputs": [],
   "source": []
  },
  {
   "cell_type": "code",
   "execution_count": null,
   "metadata": {},
   "outputs": [],
   "source": []
  },
  {
   "cell_type": "code",
   "execution_count": null,
   "metadata": {},
   "outputs": [],
   "source": []
  },
  {
   "cell_type": "code",
   "execution_count": null,
   "metadata": {},
   "outputs": [],
   "source": []
  },
  {
   "cell_type": "code",
   "execution_count": null,
   "metadata": {},
   "outputs": [],
   "source": []
  },
  {
   "cell_type": "code",
   "execution_count": null,
   "metadata": {},
   "outputs": [],
   "source": []
  },
  {
   "cell_type": "code",
   "execution_count": null,
   "metadata": {},
   "outputs": [],
   "source": []
  },
  {
   "cell_type": "code",
   "execution_count": null,
   "metadata": {},
   "outputs": [],
   "source": []
  },
  {
   "cell_type": "code",
   "execution_count": null,
   "metadata": {},
   "outputs": [],
   "source": []
  },
  {
   "cell_type": "code",
   "execution_count": null,
   "metadata": {},
   "outputs": [],
   "source": []
  },
  {
   "cell_type": "code",
   "execution_count": null,
   "metadata": {},
   "outputs": [],
   "source": []
  },
  {
   "cell_type": "code",
   "execution_count": null,
   "metadata": {},
   "outputs": [],
   "source": []
  },
  {
   "cell_type": "code",
   "execution_count": null,
   "metadata": {},
   "outputs": [],
   "source": []
  },
  {
   "cell_type": "code",
   "execution_count": null,
   "metadata": {},
   "outputs": [],
   "source": []
  },
  {
   "cell_type": "code",
   "execution_count": null,
   "metadata": {},
   "outputs": [],
   "source": []
  },
  {
   "cell_type": "code",
   "execution_count": null,
   "metadata": {},
   "outputs": [],
   "source": []
  },
  {
   "cell_type": "code",
   "execution_count": null,
   "metadata": {},
   "outputs": [],
   "source": []
  },
  {
   "cell_type": "code",
   "execution_count": null,
   "metadata": {},
   "outputs": [],
   "source": []
  },
  {
   "cell_type": "code",
   "execution_count": null,
   "metadata": {},
   "outputs": [],
   "source": []
  }
 ],
 "metadata": {
  "kernelspec": {
   "display_name": "Python 3",
   "language": "python",
   "name": "python3"
  },
  "language_info": {
   "codemirror_mode": {
    "name": "ipython",
    "version": 3
   },
   "file_extension": ".py",
   "mimetype": "text/x-python",
   "name": "python",
   "nbconvert_exporter": "python",
   "pygments_lexer": "ipython3",
   "version": "3.7.6"
  }
 },
 "nbformat": 4,
 "nbformat_minor": 4
}
