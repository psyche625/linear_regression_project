{
 "cells": [
  {
   "cell_type": "markdown",
   "metadata": {},
   "source": [
    "# 네이버 영화정보 크롤링\n",
    "- top_movie_data에 들어있는 영화들에 대한 정보 크롤링\n",
    "- 'https://movie.naver.com/' 여기서 영화검색을 입력하고 그 영화의 url상 고유코드번호를 먼저 수집한다\n",
    "    - ex) \n",
    "    - 'https://movie.naver.com/movie/bi/mi/basic.nhn?code=69783'\n",
    "- 수집한 고유코드를 영화제목에 대응시켜서 dataframe을 만든다\n",
    "- 영화정보 url에 영화 고유코드만 바꿔가면서 scrapy로 크롤링한다\n",
    "- 영화 평점리뷰도 페이지를 url로 바꿔서 크롤링 할 수 있다(마지막의 page 바꾸면 됨)\n",
    "    - https://movie.naver.com/movie/bi/mi/pointWriteFormList.nhn?code=44885&type=after&isActualPointWriteExecute=false&isMileageSubscriptionAlready=false&isMileageSubscriptionReject=false&page=4\n",
    "- 배우 \n",
    "    - https://movie.naver.com/movie/bi/mi/detail.nhn?code=44885\n",
    "    \n",
    "- 크롤링 과정\n",
    "    - top_movie_data에서 영화제목 컬럼만 가져와서, 셀레니움으로 영화제목을 검색란 input에 넣고 엔터친다음에 \n",
    "    - webdriver.current_url로 현재 url의 영화제목 고유코드를 dataframe에 모은다\n",
    "    - 이 dataframe을 완성한 이후에는 \n",
    "    - `https://movie.naver.com/movie/bi/mi/basic.nhn?code={}'.format()` 이거로 영화제목의 고유코드로 scrapy를 이용해서 정보 크롤링\n",
    "    \n",
    "- movie_title_list[718] : '독전 - 익스텐디드 컷' -> 네이버 영화 검색결과가 없어서 그냥 '독전'으로 찾아서 넣음\n",
    "\n",
    "- 평론가평점\n",
    "- 주연배우  \n",
    "    - 주연배우는 앞쪽부터 3명\n",
    "- 러닝타임\n",
    "- spider클래스의 parse함수에서 for문을 통해 id 넣기(index로)\n",
    "- 다 수집하면 id 순서로 데이터프레임을 재정렬하고 기존의 데이터프레임과 concat한다\n",
    "- 감독은, 나중에 혹시나 이름이 같은 다른 영화를 클로링했는지 확인하기 위해 크롤링한다\n",
    "- 정확히 내가 찾는 영화를 가져왔는지 나중에 확인하기 위해, 영화제목과 개봉일시도 일단 크롤링 한다"
   ]
  },
  {
   "cell_type": "markdown",
   "metadata": {},
   "source": []
  },
  {
   "cell_type": "markdown",
   "metadata": {},
   "source": [
    "### 네이버 영화 고유코드 수집"
   ]
  },
  {
   "cell_type": "code",
   "execution_count": 160,
   "metadata": {},
   "outputs": [],
   "source": [
    "import seaborn as sns\n",
    "import pandas as pd\n",
    "import matplotlib.pylab as plt\n",
    "from selenium import webdriver\n",
    "import re\n",
    "import matplotlib as mpl\n",
    "from matplotlib import rc\n",
    "import missingno as msno\n",
    "import warnings\n",
    "from scrapy.http import TextResponse\n",
    "warnings.filterwarnings('ignore')\n",
    "\n",
    "# matplotlib 한글 사용을 위한 코드\n",
    "rc('font', family='AppleGothic')"
   ]
  },
  {
   "cell_type": "code",
   "execution_count": 10,
   "metadata": {},
   "outputs": [],
   "source": [
    "top_movie_data = pd.read_csv('top_movie_data.csv')\n",
    "# top_movie_data.head(2)"
   ]
  },
  {
   "cell_type": "code",
   "execution_count": 11,
   "metadata": {},
   "outputs": [],
   "source": [
    "top_movie_data = top_movie_data.rename(columns={'Unnamed: 0':'id'})"
   ]
  },
  {
   "cell_type": "code",
   "execution_count": 12,
   "metadata": {},
   "outputs": [
    {
     "data": {
      "text/html": [
       "<div>\n",
       "<style scoped>\n",
       "    .dataframe tbody tr th:only-of-type {\n",
       "        vertical-align: middle;\n",
       "    }\n",
       "\n",
       "    .dataframe tbody tr th {\n",
       "        vertical-align: top;\n",
       "    }\n",
       "\n",
       "    .dataframe thead th {\n",
       "        text-align: right;\n",
       "    }\n",
       "</style>\n",
       "<table border=\"1\" class=\"dataframe\">\n",
       "  <thead>\n",
       "    <tr style=\"text-align: right;\">\n",
       "      <th></th>\n",
       "      <th>id</th>\n",
       "      <th>영화명</th>\n",
       "      <th>감독</th>\n",
       "      <th>제작사</th>\n",
       "      <th>수입사</th>\n",
       "      <th>배급사</th>\n",
       "      <th>개봉일</th>\n",
       "      <th>영화유형</th>\n",
       "      <th>영화형태</th>\n",
       "      <th>국적</th>\n",
       "      <th>전국스크린수</th>\n",
       "      <th>전국매출액</th>\n",
       "      <th>전국관객수</th>\n",
       "      <th>서울매출액</th>\n",
       "      <th>서울관객수</th>\n",
       "      <th>장르</th>\n",
       "      <th>등급</th>\n",
       "      <th>영화구분</th>\n",
       "    </tr>\n",
       "  </thead>\n",
       "  <tbody>\n",
       "    <tr>\n",
       "      <th>0</th>\n",
       "      <td>0</td>\n",
       "      <td>어벤져스: 에이지 오브 울트론</td>\n",
       "      <td>조스 웨던</td>\n",
       "      <td>NaN</td>\n",
       "      <td>월트디즈니컴퍼니코리아(주)</td>\n",
       "      <td>월트디즈니컴퍼니코리아(주)</td>\n",
       "      <td>2015-04-23</td>\n",
       "      <td>개봉영화</td>\n",
       "      <td>장편</td>\n",
       "      <td>미국</td>\n",
       "      <td>1843</td>\n",
       "      <td>88582586366</td>\n",
       "      <td>10494499</td>\n",
       "      <td>25001906266</td>\n",
       "      <td>2823388</td>\n",
       "      <td>액션</td>\n",
       "      <td>12세이상관람가</td>\n",
       "      <td>일반영화</td>\n",
       "    </tr>\n",
       "    <tr>\n",
       "      <th>1</th>\n",
       "      <td>1</td>\n",
       "      <td>국제시장</td>\n",
       "      <td>윤제균</td>\n",
       "      <td>(주)제이케이필름,씨제이이앤엠(주)</td>\n",
       "      <td>NaN</td>\n",
       "      <td>씨제이이앤엠(주)</td>\n",
       "      <td>2014-12-17</td>\n",
       "      <td>개봉영화</td>\n",
       "      <td>장편</td>\n",
       "      <td>한국</td>\n",
       "      <td>966</td>\n",
       "      <td>69823893034</td>\n",
       "      <td>8911437</td>\n",
       "      <td>16331193634</td>\n",
       "      <td>2033863</td>\n",
       "      <td>드라마</td>\n",
       "      <td>12세이상관람가</td>\n",
       "      <td>일반영화</td>\n",
       "    </tr>\n",
       "  </tbody>\n",
       "</table>\n",
       "</div>"
      ],
      "text/plain": [
       "   id               영화명     감독                  제작사             수입사  \\\n",
       "0   0  어벤져스: 에이지 오브 울트론  조스 웨던                  NaN  월트디즈니컴퍼니코리아(주)   \n",
       "1   1              국제시장    윤제균  (주)제이케이필름,씨제이이앤엠(주)             NaN   \n",
       "\n",
       "              배급사         개봉일  영화유형 영화형태  국적  전국스크린수        전국매출액     전국관객수  \\\n",
       "0  월트디즈니컴퍼니코리아(주)  2015-04-23  개봉영화   장편  미국    1843  88582586366  10494499   \n",
       "1       씨제이이앤엠(주)  2014-12-17  개봉영화   장편  한국     966  69823893034   8911437   \n",
       "\n",
       "         서울매출액    서울관객수   장르        등급  영화구분  \n",
       "0  25001906266  2823388   액션  12세이상관람가  일반영화  \n",
       "1  16331193634  2033863  드라마  12세이상관람가  일반영화  "
      ]
     },
     "execution_count": 12,
     "metadata": {},
     "output_type": "execute_result"
    }
   ],
   "source": [
    "top_movie_data.head(2)"
   ]
  },
  {
   "cell_type": "code",
   "execution_count": 31,
   "metadata": {},
   "outputs": [
    {
     "data": {
      "text/plain": [
       "928"
      ]
     },
     "execution_count": 31,
     "metadata": {},
     "output_type": "execute_result"
    }
   ],
   "source": [
    "movie_title_list = list(top_movie_data['영화명'])\n",
    "len(movie_title_list)"
   ]
  },
  {
   "cell_type": "code",
   "execution_count": 32,
   "metadata": {},
   "outputs": [],
   "source": [
    "url = 'https://movie.naver.com/'\n",
    "driver = webdriver.Chrome()\n",
    "driver.get(url)"
   ]
  },
  {
   "cell_type": "code",
   "execution_count": 33,
   "metadata": {},
   "outputs": [],
   "source": [
    "code_datas = []\n",
    "title_datas = []\n",
    "comeout_date_datas = []\n",
    "expert_ratings_datas = []\n",
    "starring_actors_datas = []\n",
    "running_times_datas = []\n",
    "directors_datas = []"
   ]
  },
  {
   "cell_type": "code",
   "execution_count": 34,
   "metadata": {},
   "outputs": [],
   "source": [
    "def check_response(selector, start_time):\n",
    "    if time.time() - start_time > 5:\n",
    "        raise Exception\n",
    "        return\n",
    "    try:\n",
    "        element = driver.find_element_by_css_selector(selector)\n",
    "    except Exception:\n",
    "        return check_response(selector, start_time)\n",
    "    pass"
   ]
  },
  {
   "cell_type": "code",
   "execution_count": 151,
   "metadata": {},
   "outputs": [],
   "source": [
    "for i in range(737, len(movie_title_list)):\n",
    "    input_element = driver.find_element_by_css_selector('#ipt_tx_srch')\n",
    "    input_element.send_keys(movie_title_list[i])\n",
    "    check_response('#jAutoComplate', time.time())\n",
    "    \n",
    "    \n",
    "    try:\n",
    "        driver.find_element_by_css_selector('#jAutoMV > ul > li > a').click()\n",
    "    except Exception:\n",
    "        driver.find_element_by_css_selector('#jAutoMV > ul > li:nth-child(1) > a').click()\n",
    "        \n",
    "    check_response('#content > div.article > div.mv_info_area > div.mv_info', time.time())\n",
    "    \n",
    "        \n",
    "    splited_url = driver.current_url.split('code=')\n",
    "    code_data = {'N_movie_code' : splited_url[1]}\n",
    "    \n",
    "    title = driver.find_element_by_css_selector('#content > div.article > div.mv_info_area > div.mv_info > h3 > a').text\n",
    "    title_data = {'title': title}\n",
    "    \n",
    "    comeout_date_element = driver.find_element_by_css_selector('#content > div.article > div.mv_info_area > div.mv_info > strong')\n",
    "    try:          \n",
    "        date = comeout_date_element.text.split(',')\n",
    "        if len(date) == 1:\n",
    "            date = date[0].strip()\n",
    "        else:\n",
    "            date = date[1].strip()     \n",
    "    except Exception:\n",
    "        date = '-'\n",
    "        \n",
    "    comeout_date_data = {'comeout_date': date}\n",
    "        \n",
    "    try:    \n",
    "        expert_element = driver.find_element_by_css_selector('#content > div.article > div.mv_info_area > div.mv_info > div.main_score > div:nth-child(2) > div > a > div')\n",
    "        expert_rating = expert_element.text\n",
    "    except Exception:\n",
    "        expert_rating = '-'\n",
    "    expert_rating_data = {'expert_rating': expert_rating}\n",
    "    \n",
    "    try:\n",
    "        starring_actors_element = driver.find_element_by_css_selector('#content > div.article > div.mv_info_area > div.mv_info > dl > dd:nth-child(6) > p')\n",
    "        starring_actors = starring_actors_element.text\n",
    "    except Exception:\n",
    "        starring_actors = '-'\n",
    "    starring_actors_data = {'starring_actors': starring_actors}\n",
    "    \n",
    "    try:\n",
    "        running_times_element = driver.find_element_by_css_selector('#content > div.article > div.mv_info_area > div.mv_info > dl > dd:nth-child(2) > p > span:nth-child(3)')\n",
    "        running_times = running_times_element.text\n",
    "    except Exception:\n",
    "        running_times = '-'\n",
    "    running_times_data = {'running_times': running_times}\n",
    "    \n",
    "    try:\n",
    "        directors_element = driver.find_element_by_css_selector('#content > div.article > div.mv_info_area > div.mv_info > dl > dd:nth-child(4) > p')\n",
    "        directors = directors_element.text\n",
    "    except Exception:\n",
    "        directors = '-'\n",
    "    directors_data = {'directors': directors}\n",
    "        \n",
    "    \n",
    "    code_datas.append(code_data)\n",
    "    title_datas.append(title_data)\n",
    "    comeout_date_datas.append(comeout_date_data)\n",
    "    expert_ratings_datas.append(expert_rating_data)\n",
    "    starring_actors_datas.append(starring_actors_data)\n",
    "    running_times_datas.append(running_times_data)\n",
    "    directors_datas.append(directors_data)\n",
    "    \n",
    "    "
   ]
  },
  {
   "cell_type": "code",
   "execution_count": 15,
   "metadata": {},
   "outputs": [],
   "source": [
    "# element = driver.find_element_by_css_selector('#jAutoMV > ul > li:nth-child(1) > a').click()\n",
    "# elements[0].text\n",
    "# elements[1].text\n",
    "# element.text.split(',')[0].strip()\n",
    "# element.text\n",
    "# element\n",
    "        \n",
    "        "
   ]
  },
  {
   "cell_type": "code",
   "execution_count": 152,
   "metadata": {},
   "outputs": [
    {
     "data": {
      "text/plain": [
       "928"
      ]
     },
     "execution_count": 152,
     "metadata": {},
     "output_type": "execute_result"
    }
   ],
   "source": [
    "len(directors_datas)"
   ]
  },
  {
   "cell_type": "code",
   "execution_count": 21,
   "metadata": {},
   "outputs": [],
   "source": [
    "# starring_actors_datas"
   ]
  },
  {
   "cell_type": "code",
   "execution_count": 302,
   "metadata": {},
   "outputs": [
    {
     "data": {
      "text/plain": [
       "928"
      ]
     },
     "execution_count": 302,
     "metadata": {},
     "output_type": "execute_result"
    }
   ],
   "source": [
    "len(datas)"
   ]
  },
  {
   "cell_type": "code",
   "execution_count": 144,
   "metadata": {},
   "outputs": [
    {
     "data": {
      "text/plain": [
       "'나츠메 우인장: 세상과 연을 맺다'"
      ]
     },
     "execution_count": 144,
     "metadata": {},
     "output_type": "execute_result"
    }
   ],
   "source": [
    "movie_title_list[736]"
   ]
  },
  {
   "cell_type": "code",
   "execution_count": 149,
   "metadata": {},
   "outputs": [
    {
     "data": {
      "text/plain": [
       "{'directors': '오오모리 타카히로, 이토 히데키'}"
      ]
     },
     "execution_count": 149,
     "metadata": {},
     "output_type": "execute_result"
    }
   ],
   "source": [
    "directors_datas[736]"
   ]
  },
  {
   "cell_type": "code",
   "execution_count": 147,
   "metadata": {},
   "outputs": [
    {
     "data": {
      "text/plain": [
       "{'running_times': '104분'}"
      ]
     },
     "execution_count": 147,
     "metadata": {},
     "output_type": "execute_result"
    }
   ],
   "source": [
    "running_times_datas[736]"
   ]
  },
  {
   "cell_type": "code",
   "execution_count": 177,
   "metadata": {},
   "outputs": [],
   "source": [
    "# datas[927]"
   ]
  },
  {
   "cell_type": "code",
   "execution_count": 175,
   "metadata": {},
   "outputs": [],
   "source": [
    "# df.at[3, 'N_movie_code'] = '67786' 수동으로 영화코드 수정 (필요한 경우)"
   ]
  },
  {
   "cell_type": "code",
   "execution_count": 217,
   "metadata": {},
   "outputs": [],
   "source": [
    "# df.to_csv('code_added_df.csv', mode='w')"
   ]
  },
  {
   "cell_type": "code",
   "execution_count": null,
   "metadata": {},
   "outputs": [],
   "source": []
  },
  {
   "cell_type": "code",
   "execution_count": null,
   "metadata": {},
   "outputs": [],
   "source": [
    "# code_datas.append({'N_movie_code' : '-'})\n",
    "# title_datas.append({'title': '-'})\n",
    "# comeout_date_datas.append({'comeout_date': '-'})\n",
    "# expert_ratings_datas.append({'expert_rating': '-'})\n",
    "# starring_actors_datas.append({'starring_actors': '-'})\n",
    "# running_times_datas.append({'running_times': '-'})\n",
    "# directors_datas.append({'directors': '-'})"
   ]
  },
  {
   "cell_type": "code",
   "execution_count": 137,
   "metadata": {},
   "outputs": [],
   "source": [
    "del code_datas[len(code_datas) - 1]\n",
    "del title_datas[len(title_datas) - 1]\n",
    "del comeout_date_datas[len(comeout_date_datas) - 1]\n",
    "del expert_ratings_datas[len(expert_ratings_datas) - 1]\n",
    "del starring_actors_datas[len(starring_actors_datas) - 1]\n",
    "del running_times_datas[len(running_times_datas) - 1]\n",
    "del directors_datas[len(directors_datas) - 1]"
   ]
  },
  {
   "cell_type": "code",
   "execution_count": 115,
   "metadata": {},
   "outputs": [
    {
     "data": {
      "text/plain": [
       "718"
      ]
     },
     "execution_count": 115,
     "metadata": {},
     "output_type": "execute_result"
    }
   ],
   "source": [
    "len(directors_datas)"
   ]
  },
  {
   "cell_type": "code",
   "execution_count": null,
   "metadata": {},
   "outputs": [],
   "source": []
  },
  {
   "cell_type": "code",
   "execution_count": 102,
   "metadata": {},
   "outputs": [],
   "source": [
    "def once():    \n",
    "    try:\n",
    "        driver.find_element_by_css_selector('#jAutoMV > ul > li > a').click()\n",
    "    except Exception:\n",
    "        driver.find_element_by_css_selector('#jAutoMV > ul > li:nth-child(1) > a').click()\n",
    "        \n",
    "    check_response('#content > div.article > div.mv_info_area > div.mv_info', time.time())\n",
    "    \n",
    "        \n",
    "    splited_url = driver.current_url.split('code=')\n",
    "    code_data = {'N_movie_code' : splited_url[1]}\n",
    "    \n",
    "    title = driver.find_element_by_css_selector('#content > div.article > div.mv_info_area > div.mv_info > h3 > a').text\n",
    "    title_data = {'title': title}\n",
    "    \n",
    "    comeout_date_element = driver.find_element_by_css_selector('#content > div.article > div.mv_info_area > div.mv_info > strong')\n",
    "    try:          \n",
    "        date = comeout_date_element.text.split(',')\n",
    "        if len(date) == 1:\n",
    "            date = date[0].strip()\n",
    "        else:\n",
    "            date = date[1].strip()     \n",
    "    except Exception:\n",
    "        date = '-'\n",
    "        \n",
    "    comeout_date_data = {'comeout_date': date}\n",
    "        \n",
    "    try:    \n",
    "        expert_element = driver.find_element_by_css_selector('#content > div.article > div.mv_info_area > div.mv_info > div.main_score > div:nth-child(2) > div > a > div')\n",
    "        expert_rating = expert_element.text\n",
    "    except Exception:\n",
    "        expert_rating = '-'\n",
    "    expert_rating_data = {'expert_rating': expert_rating}\n",
    "    \n",
    "    try:\n",
    "        starring_actors_element = driver.find_element_by_css_selector('#content > div.article > div.mv_info_area > div.mv_info > dl > dd:nth-child(6) > p')\n",
    "        starring_actors = starring_actors_element.text\n",
    "    except Exception:\n",
    "        starring_actors = '-'\n",
    "    starring_actors_data = {'starring_actors': starring_actors}\n",
    "    \n",
    "    try:\n",
    "        running_times_element = driver.find_element_by_css_selector('#content > div.article > div.mv_info_area > div.mv_info > dl > dd:nth-child(2) > p > span:nth-child(3)')\n",
    "        running_times = running_times_element.text\n",
    "    except Exception:\n",
    "        running_times = '-'\n",
    "    running_times_data = {'running_times': running_times}\n",
    "    \n",
    "    try:\n",
    "        directors_element = driver.find_element_by_css_selector('#content > div.article > div.mv_info_area > div.mv_info > dl > dd:nth-child(4) > p')\n",
    "        directors = directors_element.text\n",
    "    except Exception:\n",
    "        directors = '-'\n",
    "    directors_data = {'directors': directors}\n",
    "        \n",
    "    \n",
    "    code_datas.append(code_data)\n",
    "    title_datas.append(title_data)\n",
    "    comeout_date_datas.append(comeout_date_data)\n",
    "    expert_ratings_datas.append(expert_rating_data)\n",
    "    starring_actors_datas.append(starring_actors_data)\n",
    "    running_times_datas.append(running_times_data)\n",
    "    directors_datas.append(directors_data)\n",
    "    "
   ]
  },
  {
   "cell_type": "code",
   "execution_count": 145,
   "metadata": {},
   "outputs": [],
   "source": [
    "once()"
   ]
  },
  {
   "cell_type": "code",
   "execution_count": 153,
   "metadata": {},
   "outputs": [],
   "source": [
    "df1 = pd.DataFrame(code_datas)\n",
    "df2 = pd.DataFrame(title_datas)\n",
    "df3 = pd.DataFrame(comeout_date_datas)\n",
    "df4 = pd.DataFrame(expert_ratings_datas)\n",
    "df5 = pd.DataFrame(starring_actors_datas)\n",
    "df6 = pd.DataFrame(running_times_datas)\n",
    "df7 = pd.DataFrame(directors_datas)"
   ]
  },
  {
   "cell_type": "code",
   "execution_count": 156,
   "metadata": {},
   "outputs": [
    {
     "data": {
      "text/plain": [
       "(928, 928, 928, 928, 928, 928, 928)"
      ]
     },
     "execution_count": 156,
     "metadata": {},
     "output_type": "execute_result"
    }
   ],
   "source": [
    "len(df1), len(df2), len(df3), len(df4), len(df5), len(df6), len(df7)"
   ]
  },
  {
   "cell_type": "code",
   "execution_count": 157,
   "metadata": {},
   "outputs": [
    {
     "data": {
      "text/html": [
       "<div>\n",
       "<style scoped>\n",
       "    .dataframe tbody tr th:only-of-type {\n",
       "        vertical-align: middle;\n",
       "    }\n",
       "\n",
       "    .dataframe tbody tr th {\n",
       "        vertical-align: top;\n",
       "    }\n",
       "\n",
       "    .dataframe thead th {\n",
       "        text-align: right;\n",
       "    }\n",
       "</style>\n",
       "<table border=\"1\" class=\"dataframe\">\n",
       "  <thead>\n",
       "    <tr style=\"text-align: right;\">\n",
       "      <th></th>\n",
       "      <th>N_movie_code</th>\n",
       "      <th>title</th>\n",
       "      <th>comeout_date</th>\n",
       "      <th>expert_rating</th>\n",
       "      <th>starring_actors</th>\n",
       "      <th>running_times</th>\n",
       "      <th>directors</th>\n",
       "    </tr>\n",
       "  </thead>\n",
       "  <tbody>\n",
       "    <tr>\n",
       "      <th>0</th>\n",
       "      <td>98438</td>\n",
       "      <td>어벤져스: 에이지 오브 울트론</td>\n",
       "      <td>2015</td>\n",
       "      <td>6.92</td>\n",
       "      <td>로버트 다우니 주니어(토니 스타크 / 아이언맨), 크리스 헴스워스(토르), 마크 러...</td>\n",
       "      <td>141분</td>\n",
       "      <td>조스 웨던</td>\n",
       "    </tr>\n",
       "    <tr>\n",
       "      <th>1</th>\n",
       "      <td>102875</td>\n",
       "      <td>국제시장</td>\n",
       "      <td>2014</td>\n",
       "      <td>5.81</td>\n",
       "      <td>황정민(덕수), 김윤진(영자), 오달수(달구)</td>\n",
       "      <td>126분</td>\n",
       "      <td>윤제균</td>\n",
       "    </tr>\n",
       "    <tr>\n",
       "      <th>2</th>\n",
       "      <td>114249</td>\n",
       "      <td>킹스맨 : 시크릿 에이전트</td>\n",
       "      <td>2015</td>\n",
       "      <td>7.58</td>\n",
       "      <td>콜린 퍼스(해리), 태런 에저튼(에그시), 사무엘 L. 잭슨(발렌타인)</td>\n",
       "      <td>128분</td>\n",
       "      <td>매튜 본</td>\n",
       "    </tr>\n",
       "    <tr>\n",
       "      <th>3</th>\n",
       "      <td>191646</td>\n",
       "      <td>쥬라기 월드: 도미니언</td>\n",
       "      <td>2021</td>\n",
       "      <td>-</td>\n",
       "      <td>크리스 프랫, 브라이스 달라스 하워드</td>\n",
       "      <td>2021 .06.10 개봉</td>\n",
       "      <td>콜린 트레보로우</td>\n",
       "    </tr>\n",
       "    <tr>\n",
       "      <th>4</th>\n",
       "      <td>123596</td>\n",
       "      <td>조선명탐정 : 사라진 놉의 딸</td>\n",
       "      <td>2014</td>\n",
       "      <td>5.85</td>\n",
       "      <td>김명민(명탐정 김민), 오달수(서필), 이연희(히사코)</td>\n",
       "      <td>125분</td>\n",
       "      <td>김석윤</td>\n",
       "    </tr>\n",
       "    <tr>\n",
       "      <th>...</th>\n",
       "      <td>...</td>\n",
       "      <td>...</td>\n",
       "      <td>...</td>\n",
       "      <td>...</td>\n",
       "      <td>...</td>\n",
       "      <td>...</td>\n",
       "      <td>...</td>\n",
       "    </tr>\n",
       "    <tr>\n",
       "      <th>923</th>\n",
       "      <td>179398</td>\n",
       "      <td>메기</td>\n",
       "      <td>2018</td>\n",
       "      <td>6.83</td>\n",
       "      <td>이주영(여윤영), 문소리(이경진), 구교환(이성원)</td>\n",
       "      <td>89분</td>\n",
       "      <td>이옥섭</td>\n",
       "    </tr>\n",
       "    <tr>\n",
       "      <th>924</th>\n",
       "      <td>174748</td>\n",
       "      <td>프란치스코 교황: 맨 오브 히스 워드</td>\n",
       "      <td>2018</td>\n",
       "      <td>6.33</td>\n",
       "      <td>프란치스코(본인)</td>\n",
       "      <td>96분</td>\n",
       "      <td>빔 벤더스</td>\n",
       "    </tr>\n",
       "    <tr>\n",
       "      <th>925</th>\n",
       "      <td>186367</td>\n",
       "      <td>빅 위시</td>\n",
       "      <td>Salma's Big Wish</td>\n",
       "      <td>6.00</td>\n",
       "      <td>[국내] 전체 관람가</td>\n",
       "      <td>79분</td>\n",
       "      <td>카를로스 구티에레스 메드라노</td>\n",
       "    </tr>\n",
       "    <tr>\n",
       "      <th>926</th>\n",
       "      <td>187787</td>\n",
       "      <td>너를 만난 여름</td>\n",
       "      <td>My Best Summer</td>\n",
       "      <td>5.50</td>\n",
       "      <td>진비우(위화이), 하람두(겅겅)</td>\n",
       "      <td>109분</td>\n",
       "      <td>장적사</td>\n",
       "    </tr>\n",
       "    <tr>\n",
       "      <th>927</th>\n",
       "      <td>183377</td>\n",
       "      <td>100일 동안 100가지로 100퍼센트 행복찾기</td>\n",
       "      <td>100 Things</td>\n",
       "      <td>5.50</td>\n",
       "      <td>플로리안 데이비드 핏츠(폴), 마치아스 슈와바이어퍼(토니)</td>\n",
       "      <td>111분</td>\n",
       "      <td>플로리안 데이비드 핏츠</td>\n",
       "    </tr>\n",
       "  </tbody>\n",
       "</table>\n",
       "<p>928 rows × 7 columns</p>\n",
       "</div>"
      ],
      "text/plain": [
       "    N_movie_code                       title      comeout_date expert_rating  \\\n",
       "0          98438            어벤져스: 에이지 오브 울트론              2015          6.92   \n",
       "1         102875                        국제시장              2014          5.81   \n",
       "2         114249              킹스맨 : 시크릿 에이전트              2015          7.58   \n",
       "3         191646                쥬라기 월드: 도미니언              2021             -   \n",
       "4         123596            조선명탐정 : 사라진 놉의 딸              2014          5.85   \n",
       "..           ...                         ...               ...           ...   \n",
       "923       179398                          메기              2018          6.83   \n",
       "924       174748        프란치스코 교황: 맨 오브 히스 워드              2018          6.33   \n",
       "925       186367                        빅 위시  Salma's Big Wish          6.00   \n",
       "926       187787                    너를 만난 여름    My Best Summer          5.50   \n",
       "927       183377  100일 동안 100가지로 100퍼센트 행복찾기        100 Things          5.50   \n",
       "\n",
       "                                       starring_actors   running_times  \\\n",
       "0    로버트 다우니 주니어(토니 스타크 / 아이언맨), 크리스 헴스워스(토르), 마크 러...            141분   \n",
       "1                            황정민(덕수), 김윤진(영자), 오달수(달구)            126분   \n",
       "2              콜린 퍼스(해리), 태런 에저튼(에그시), 사무엘 L. 잭슨(발렌타인)            128분   \n",
       "3                                 크리스 프랫, 브라이스 달라스 하워드  2021 .06.10 개봉   \n",
       "4                       김명민(명탐정 김민), 오달수(서필), 이연희(히사코)            125분   \n",
       "..                                                 ...             ...   \n",
       "923                       이주영(여윤영), 문소리(이경진), 구교환(이성원)             89분   \n",
       "924                                          프란치스코(본인)             96분   \n",
       "925                                        [국내] 전체 관람가             79분   \n",
       "926                                  진비우(위화이), 하람두(겅겅)            109분   \n",
       "927                   플로리안 데이비드 핏츠(폴), 마치아스 슈와바이어퍼(토니)            111분   \n",
       "\n",
       "           directors  \n",
       "0              조스 웨던  \n",
       "1                윤제균  \n",
       "2               매튜 본  \n",
       "3           콜린 트레보로우  \n",
       "4                김석윤  \n",
       "..               ...  \n",
       "923              이옥섭  \n",
       "924            빔 벤더스  \n",
       "925  카를로스 구티에레스 메드라노  \n",
       "926              장적사  \n",
       "927     플로리안 데이비드 핏츠  \n",
       "\n",
       "[928 rows x 7 columns]"
      ]
     },
     "execution_count": 157,
     "metadata": {},
     "output_type": "execute_result"
    }
   ],
   "source": [
    "new_df = pd.concat([df1, df2, df3, df4, df5, df6, df7], axis=1)\n",
    "new_df"
   ]
  },
  {
   "cell_type": "code",
   "execution_count": 158,
   "metadata": {},
   "outputs": [],
   "source": [
    "new_df.to_csv('except_audience_rating_df.csv', mode='w')"
   ]
  },
  {
   "cell_type": "code",
   "execution_count": 311,
   "metadata": {},
   "outputs": [],
   "source": [
    "movie_code_list = list(new_df['N_movie_code'])"
   ]
  },
  {
   "cell_type": "code",
   "execution_count": 312,
   "metadata": {},
   "outputs": [
    {
     "data": {
      "text/plain": [
       "928"
      ]
     },
     "execution_count": 312,
     "metadata": {},
     "output_type": "execute_result"
    }
   ],
   "source": [
    "len(movie_code_list)"
   ]
  },
  {
   "cell_type": "code",
   "execution_count": null,
   "metadata": {},
   "outputs": [],
   "source": []
  },
  {
   "cell_type": "markdown",
   "metadata": {},
   "source": [
    "### request & reponse : 관람객 평점 크롤링\n",
    "\n",
    "- 관람객 평점(audience rating):\n",
    "    -   `https://movie.naver.com/movie/bi/mi/pointWriteFormList.nhncode=154285&type=after&onlyActualPointYn=Y&onlySpoilerPointYn=N&order=newest&page=9999`\n",
    "    - order는 최신순으로 정렬\n",
    "    - onlyActualPointYn 쿼리는 관람객 평점만 볼지 말지 정하는거\n",
    "    - page 쿼리는 엄청 큰 숫자 쓰면 가장 마지막 페이지로 간다\n",
    "- 셀레니움으로 맨 마지막 페이지에 도착한 상태로 시작하면, 먼저 현재 페이지를 변수에 담는다\n",
    "- 그 다음부턴 현재페이지 - 1 한 페이지를 현재페이지 변수에 담아서 url에 사용하고\n",
    "- 그 url페이지의 평점을 계속 더하기 한다\n",
    "- 더하기 하면서 날짜를 확인하고 개봉일자로부터 1주일이 지나면 평점 더하기를 중단한다\n"
   ]
  },
  {
   "cell_type": "code",
   "execution_count": 401,
   "metadata": {},
   "outputs": [],
   "source": [
    "#pagerTagAnchor364\n",
    "import datetime"
   ]
  },
  {
   "cell_type": "code",
   "execution_count": 422,
   "metadata": {},
   "outputs": [],
   "source": [
    "audience_rating = []\n",
    "rating_audiences = []"
   ]
  },
  {
   "cell_type": "code",
   "execution_count": 423,
   "metadata": {},
   "outputs": [],
   "source": [
    "for i in range(0, len(movie_code_list)):\n",
    "    \n",
    "    # 먼저, 평점의 가장 마지막 페이지에 해당하는 url의 document구조를 가져온다\n",
    "    code = int(movie_code_list[i])\n",
    "    num = 99999\n",
    "    url = 'https://movie.naver.com/movie/bi/mi/pointWriteFormList.nhn?code={}&type=after&onlyActualPointYn=Y&onlySpoilerPointYn=N&order=newest&page={}'.format(code, num)\n",
    "    \n",
    "    # 현재 페이지 알아내기\n",
    "    try:\n",
    "        req = requests.get(url)\n",
    "        response = TextResponse(req.url, body=req.text, encoding=\"utf-8\")\n",
    "        number_list = response.xpath('/html/body/div/div/div[6]/div/a/span/text()').extract()\n",
    "        last_number = number_list[len(number_list) - 1]\n",
    "\n",
    "        cur_page = int(last_number.replace(',', ''))\n",
    "        cur_page\n",
    "\n",
    "        # 평가의 마지막 페이지 마지막 관객의 평점올린 날짜를 가져와서 7주일 이후의 날짜(limit_date) 만들기\n",
    "        time_elements = response.xpath('/html/body/div/div/div[5]/ul/li/div/dl/dt/em[2]/text()')\n",
    "        start_date = time_elements[len(time_elements) - 1].extract().split(' ')[0]\n",
    "        start_date = start_date.split(\" \")[0].split('.')\n",
    "        limit_date = datetime.datetime(int(start_date[0]), int(start_date[1]), int(start_date[2])) + datetime.timedelta(weeks=1)\n",
    "\n",
    "        audience_number = 0\n",
    "        total_rating = 0\n",
    "        flag = 0\n",
    "\n",
    "        # 여기서부터 정확한 페이지로 크롤링 시작\n",
    "        for page in range(cur_page, 0, -1):\n",
    "            if flag == 1:\n",
    "                break\n",
    "\n",
    "            url = 'https://movie.naver.com/movie/bi/mi/pointWriteFormList.nhn?code={}&type=after&onlyActualPointYn=Y&onlySpoilerPointYn=N&order=newest&page={}'.format(code, page)\n",
    "            req = requests.get(url)\n",
    "            response = TextResponse(req.url, body=req.text, encoding=\"utf-8\")\n",
    "\n",
    "            rating_elements = response.xpath('/html/body/div/div/div[5]/ul/li')\n",
    "\n",
    "            # 평가의 해당 페이지에서, 각 평점 엘리먼트 하나마다 날짜를 확인하면서 limit을 넘겼는지 체크한다\n",
    "            for n in range(len(rating_elements), 0, -1):\n",
    "                star = response.xpath('/html/body/div/div/div[5]/ul/li[{}]/div[1]/em/text()'.format(n)).extract()[0]\n",
    "                cur_date = response.xpath('/html/body/div/div/div[5]/ul/li[{}]/div[2]/dl/dt/em[2]/text()'.format(n)).extract()[0].split(' ')[0].split('.')\n",
    "\n",
    "                check_limit = limit_date - datetime.datetime(int(cur_date[0]), int(cur_date[1]), int(cur_date[2]))\n",
    "                if check_limit.days < 0:\n",
    "                    flag = 1\n",
    "                    break\n",
    "\n",
    "                total_rating = total_rating + int(star)\n",
    "                audience_number += 1\n",
    "\n",
    "        rating = {'audience_rating': total_rating/audience_number}\n",
    "        audience = {'rating_audiences': audience_number}\n",
    "\n",
    "        audience_rating.append(rating)\n",
    "        rating_audiences.append(audience)\n",
    "        \n",
    "    except Exception:\n",
    "        rating = {'audience_rating': '-'}\n",
    "        audience = {'rating_audiences': '-'}\n",
    "        audience_rating.append(rating)\n",
    "        rating_audiences.append(audience)\n",
    "    "
   ]
  },
  {
   "cell_type": "code",
   "execution_count": null,
   "metadata": {},
   "outputs": [],
   "source": []
  },
  {
   "cell_type": "code",
   "execution_count": null,
   "metadata": {},
   "outputs": [],
   "source": []
  },
  {
   "cell_type": "code",
   "execution_count": null,
   "metadata": {},
   "outputs": [],
   "source": []
  },
  {
   "cell_type": "code",
   "execution_count": 424,
   "metadata": {},
   "outputs": [
    {
     "data": {
      "text/plain": [
       "928"
      ]
     },
     "execution_count": 424,
     "metadata": {},
     "output_type": "execute_result"
    }
   ],
   "source": [
    "len(rating_audiences)"
   ]
  },
  {
   "cell_type": "code",
   "execution_count": 425,
   "metadata": {},
   "outputs": [
    {
     "data": {
      "text/plain": [
       "928"
      ]
     },
     "execution_count": 425,
     "metadata": {},
     "output_type": "execute_result"
    }
   ],
   "source": [
    "len(rating_audiences)"
   ]
  },
  {
   "cell_type": "code",
   "execution_count": 426,
   "metadata": {},
   "outputs": [],
   "source": [
    "df8 = pd.DataFrame(audience_rating)\n",
    "df9 = pd.DataFrame(rating_audiences)"
   ]
  },
  {
   "cell_type": "code",
   "execution_count": 427,
   "metadata": {},
   "outputs": [],
   "source": [
    "new_df2 = pd.concat([new_df, df8, df9], axis=1)"
   ]
  },
  {
   "cell_type": "code",
   "execution_count": 431,
   "metadata": {},
   "outputs": [],
   "source": [
    "new_df2.to_csv('result_df.csv', mode='w')"
   ]
  },
  {
   "cell_type": "code",
   "execution_count": 437,
   "metadata": {},
   "outputs": [],
   "source": [
    "a = pd.read_csv('result_df.csv')"
   ]
  },
  {
   "cell_type": "code",
   "execution_count": 443,
   "metadata": {},
   "outputs": [
    {
     "data": {
      "text/html": [
       "<div>\n",
       "<style scoped>\n",
       "    .dataframe tbody tr th:only-of-type {\n",
       "        vertical-align: middle;\n",
       "    }\n",
       "\n",
       "    .dataframe tbody tr th {\n",
       "        vertical-align: top;\n",
       "    }\n",
       "\n",
       "    .dataframe thead th {\n",
       "        text-align: right;\n",
       "    }\n",
       "</style>\n",
       "<table border=\"1\" class=\"dataframe\">\n",
       "  <thead>\n",
       "    <tr style=\"text-align: right;\">\n",
       "      <th></th>\n",
       "      <th>Unnamed: 0</th>\n",
       "      <th>N_movie_code</th>\n",
       "      <th>title</th>\n",
       "      <th>comeout_date</th>\n",
       "      <th>expert_rating</th>\n",
       "      <th>starring_actors</th>\n",
       "      <th>running_times</th>\n",
       "      <th>directors</th>\n",
       "      <th>audience_rating</th>\n",
       "      <th>rating_audiences</th>\n",
       "    </tr>\n",
       "  </thead>\n",
       "  <tbody>\n",
       "    <tr>\n",
       "      <th>3</th>\n",
       "      <td>3</td>\n",
       "      <td>191646</td>\n",
       "      <td>쥬라기 월드: 도미니언</td>\n",
       "      <td>2021</td>\n",
       "      <td>-</td>\n",
       "      <td>크리스 프랫, 브라이스 달라스 하워드</td>\n",
       "      <td>2021 .06.10 개봉</td>\n",
       "      <td>콜린 트레보로우</td>\n",
       "      <td>-</td>\n",
       "      <td>-</td>\n",
       "    </tr>\n",
       "    <tr>\n",
       "      <th>83</th>\n",
       "      <td>83</td>\n",
       "      <td>156495</td>\n",
       "      <td>더 이퀄라이저 2</td>\n",
       "      <td>2018</td>\n",
       "      <td>-</td>\n",
       "      <td>덴젤 워싱턴(로버트 맥콜), 페드로 파스칼, 빌 풀만</td>\n",
       "      <td>120분</td>\n",
       "      <td>안톤 후쿠아</td>\n",
       "      <td>-</td>\n",
       "      <td>-</td>\n",
       "    </tr>\n",
       "    <tr>\n",
       "      <th>89</th>\n",
       "      <td>89</td>\n",
       "      <td>137394</td>\n",
       "      <td>위자: 레저렉션</td>\n",
       "      <td>2015</td>\n",
       "      <td>-</td>\n",
       "      <td>제시카 윌리스(엘레나 쿠퍼), 니콜 홀트(유령)</td>\n",
       "      <td>86분</td>\n",
       "      <td>이스라엘 루나</td>\n",
       "      <td>-</td>\n",
       "      <td>-</td>\n",
       "    </tr>\n",
       "    <tr>\n",
       "      <th>98</th>\n",
       "      <td>98</td>\n",
       "      <td>144690</td>\n",
       "      <td>한번 더 해피엔딩</td>\n",
       "      <td>2016</td>\n",
       "      <td>등록</td>\n",
       "      <td>장나라(한미모), 정경호(송수혁), 권율(구해준)</td>\n",
       "      <td>-</td>\n",
       "      <td>권성창</td>\n",
       "      <td>-</td>\n",
       "      <td>-</td>\n",
       "    </tr>\n",
       "    <tr>\n",
       "      <th>103</th>\n",
       "      <td>103</td>\n",
       "      <td>193169</td>\n",
       "      <td>사도행자 2: 스파이 전쟁</td>\n",
       "      <td>2019</td>\n",
       "      <td>-</td>\n",
       "      <td>장가휘(란보원), 고천락(사오즈랑), 강패요(야오커이)</td>\n",
       "      <td>98분</td>\n",
       "      <td>문위홍</td>\n",
       "      <td>-</td>\n",
       "      <td>-</td>\n",
       "    </tr>\n",
       "    <tr>\n",
       "      <th>115</th>\n",
       "      <td>115</td>\n",
       "      <td>191634</td>\n",
       "      <td>미니언즈2</td>\n",
       "      <td>2020</td>\n",
       "      <td>-</td>\n",
       "      <td>피에르 꼬팽(미니언즈 목소리), 스티브 카렐(그루 목소리)</td>\n",
       "      <td>-</td>\n",
       "      <td>카일 발다</td>\n",
       "      <td>-</td>\n",
       "      <td>-</td>\n",
       "    </tr>\n",
       "    <tr>\n",
       "      <th>150</th>\n",
       "      <td>150</td>\n",
       "      <td>83508</td>\n",
       "      <td>팬데믹</td>\n",
       "      <td>2009</td>\n",
       "      <td>-</td>\n",
       "      <td>레이 와이즈, 그레이엄 맥타비쉬</td>\n",
       "      <td>-</td>\n",
       "      <td>제이슨 코너리</td>\n",
       "      <td>-</td>\n",
       "      <td>-</td>\n",
       "    </tr>\n",
       "    <tr>\n",
       "      <th>152</th>\n",
       "      <td>152</td>\n",
       "      <td>118343</td>\n",
       "      <td>레전드 워리어</td>\n",
       "      <td>2014</td>\n",
       "      <td>-</td>\n",
       "      <td>도미닉 레인스(숀 워커 / 제항기르 아민 / 도플갱어 진), 레이 파크(가브리엘)</td>\n",
       "      <td>94분</td>\n",
       "      <td>아즈말 자히르 아마드</td>\n",
       "      <td>-</td>\n",
       "      <td>-</td>\n",
       "    </tr>\n",
       "    <tr>\n",
       "      <th>168</th>\n",
       "      <td>168</td>\n",
       "      <td>179150</td>\n",
       "      <td>맥베스</td>\n",
       "      <td>2017</td>\n",
       "      <td>-</td>\n",
       "      <td>젤리코 루치치(맥베스), 안나 네트렙코(레이디 맥베스), 일데브란도 다르칸젤로(뱅쿠오)</td>\n",
       "      <td>181분</td>\n",
       "      <td>필리다 로이드</td>\n",
       "      <td>-</td>\n",
       "      <td>-</td>\n",
       "    </tr>\n",
       "    <tr>\n",
       "      <th>190</th>\n",
       "      <td>190</td>\n",
       "      <td>181417</td>\n",
       "      <td>비밀정보원: 인 더 프리즌</td>\n",
       "      <td>2019</td>\n",
       "      <td>-</td>\n",
       "      <td>조엘 킨나만, 클라이브 오웬, 로자먼드 파이크</td>\n",
       "      <td>113분</td>\n",
       "      <td>안드레아 디 스테파노</td>\n",
       "      <td>-</td>\n",
       "      <td>-</td>\n",
       "    </tr>\n",
       "    <tr>\n",
       "      <th>216</th>\n",
       "      <td>216</td>\n",
       "      <td>157784</td>\n",
       "      <td>오빠 생각</td>\n",
       "      <td>2017</td>\n",
       "      <td>등록</td>\n",
       "      <td>-</td>\n",
       "      <td>-</td>\n",
       "      <td>탁재훈, 유세윤, 양세형</td>\n",
       "      <td>-</td>\n",
       "      <td>-</td>\n",
       "    </tr>\n",
       "    <tr>\n",
       "      <th>243</th>\n",
       "      <td>243</td>\n",
       "      <td>174808</td>\n",
       "      <td>사냥의 시간</td>\n",
       "      <td>2020</td>\n",
       "      <td>-</td>\n",
       "      <td>이제훈(준석), 안재홍(장호), 최우식(기훈)</td>\n",
       "      <td>134분</td>\n",
       "      <td>윤성현</td>\n",
       "      <td>-</td>\n",
       "      <td>-</td>\n",
       "    </tr>\n",
       "    <tr>\n",
       "      <th>258</th>\n",
       "      <td>258</td>\n",
       "      <td>134135</td>\n",
       "      <td>극장판 아이엠스타 : 꿈의 오디션!</td>\n",
       "      <td>AIKATSU! THE MOVIE</td>\n",
       "      <td>-</td>\n",
       "      <td>정혜원(라임 목소리), 이용신(루나 목소리), 김채하(마린 목소리)</td>\n",
       "      <td>89분</td>\n",
       "      <td>야노 유이치로</td>\n",
       "      <td>-</td>\n",
       "      <td>-</td>\n",
       "    </tr>\n",
       "    <tr>\n",
       "      <th>267</th>\n",
       "      <td>267</td>\n",
       "      <td>172751</td>\n",
       "      <td>크리미널: 해튼가든</td>\n",
       "      <td>2018</td>\n",
       "      <td>-</td>\n",
       "      <td>마이클 케인(브라이언), 짐 브로드벤트(테리 퍼킨스), 톰 커트니(존 케니 콜린스)</td>\n",
       "      <td>108분</td>\n",
       "      <td>제임스 마쉬</td>\n",
       "      <td>-</td>\n",
       "      <td>-</td>\n",
       "    </tr>\n",
       "    <tr>\n",
       "      <th>272</th>\n",
       "      <td>272</td>\n",
       "      <td>173484</td>\n",
       "      <td>룸싸롱 맛있는 서비스</td>\n",
       "      <td>2018</td>\n",
       "      <td>-</td>\n",
       "      <td>[국내] 청소년 관람불가</td>\n",
       "      <td>66분</td>\n",
       "      <td>조태호</td>\n",
       "      <td>-</td>\n",
       "      <td>-</td>\n",
       "    </tr>\n",
       "    <tr>\n",
       "      <th>324</th>\n",
       "      <td>324</td>\n",
       "      <td>182578</td>\n",
       "      <td>고스트버스터즈 라이즈</td>\n",
       "      <td>2020</td>\n",
       "      <td>-</td>\n",
       "      <td>캐리 쿤, 핀 울프하드, 맥케나 그레이스</td>\n",
       "      <td>2020 .07 개봉</td>\n",
       "      <td>제이슨 라이트맨</td>\n",
       "      <td>-</td>\n",
       "      <td>-</td>\n",
       "    </tr>\n",
       "    <tr>\n",
       "      <th>328</th>\n",
       "      <td>328</td>\n",
       "      <td>172586</td>\n",
       "      <td>언더 워터 샤크</td>\n",
       "      <td>2016</td>\n",
       "      <td>-</td>\n",
       "      <td>브랜든 오렛(딜런 배릭), 스테파니 버랜(셰인 니콜스 박사)</td>\n",
       "      <td>89분</td>\n",
       "      <td>마크 앳킨스</td>\n",
       "      <td>-</td>\n",
       "      <td>-</td>\n",
       "    </tr>\n",
       "    <tr>\n",
       "      <th>346</th>\n",
       "      <td>346</td>\n",
       "      <td>137340</td>\n",
       "      <td>마이 리틀 자이언트</td>\n",
       "      <td>2016</td>\n",
       "      <td>7.45</td>\n",
       "      <td>마크 라이런스(거인), 루비 반힐(소피), 레베카 홀(메리)</td>\n",
       "      <td>117분</td>\n",
       "      <td>스티븐 스필버그</td>\n",
       "      <td>-</td>\n",
       "      <td>-</td>\n",
       "    </tr>\n",
       "    <tr>\n",
       "      <th>350</th>\n",
       "      <td>350</td>\n",
       "      <td>191642</td>\n",
       "      <td>킹 오브 프리즘 올 스타즈 -프리즘 쇼☆베스트10-</td>\n",
       "      <td>KING OF PRISM ALL STARS...</td>\n",
       "      <td>-</td>\n",
       "      <td>테라시마 쥰타, 하타나카 타스쿠, 사이토 소우마</td>\n",
       "      <td>76분</td>\n",
       "      <td>히시다 마사카즈</td>\n",
       "      <td>-</td>\n",
       "      <td>-</td>\n",
       "    </tr>\n",
       "    <tr>\n",
       "      <th>360</th>\n",
       "      <td>360</td>\n",
       "      <td>137887</td>\n",
       "      <td>언더월드: 블러드 워</td>\n",
       "      <td>2016</td>\n",
       "      <td>4.75</td>\n",
       "      <td>케이트 베킨세일(셀린느), 테오 제임스(데이빗), 토비어스 멘지스(마리우스)</td>\n",
       "      <td>91분</td>\n",
       "      <td>안나 포에스터</td>\n",
       "      <td>-</td>\n",
       "      <td>-</td>\n",
       "    </tr>\n",
       "    <tr>\n",
       "      <th>391</th>\n",
       "      <td>391</td>\n",
       "      <td>163834</td>\n",
       "      <td>원더 우먼 1984</td>\n",
       "      <td>2020</td>\n",
       "      <td>-</td>\n",
       "      <td>갤 가돗(다이애나/원더우먼), 크리스 파인(스티브 트레버), 크리스틴 위그(치타)</td>\n",
       "      <td>-</td>\n",
       "      <td>패티 젠킨스</td>\n",
       "      <td>-</td>\n",
       "      <td>-</td>\n",
       "    </tr>\n",
       "    <tr>\n",
       "      <th>408</th>\n",
       "      <td>408</td>\n",
       "      <td>191633</td>\n",
       "      <td>트롤: 월드 투어</td>\n",
       "      <td>2020</td>\n",
       "      <td>-</td>\n",
       "      <td>안나 켄드릭, 저스틴 팀버레이크</td>\n",
       "      <td>91분</td>\n",
       "      <td>월트 도른, 데이빗 P. 스미스</td>\n",
       "      <td>-</td>\n",
       "      <td>-</td>\n",
       "    </tr>\n",
       "    <tr>\n",
       "      <th>439</th>\n",
       "      <td>439</td>\n",
       "      <td>161847</td>\n",
       "      <td>극장판 또봇: 로봇군단의 습격</td>\n",
       "      <td>2017</td>\n",
       "      <td>6.00</td>\n",
       "      <td>하룡이(또봇X/도운 목소리), 신경선(또봇Y/또봇Z/리모 목소리), 이현(또봇K/설...</td>\n",
       "      <td>80분</td>\n",
       "      <td>이달, 고동우</td>\n",
       "      <td>-</td>\n",
       "      <td>-</td>\n",
       "    </tr>\n",
       "    <tr>\n",
       "      <th>440</th>\n",
       "      <td>440</td>\n",
       "      <td>158849</td>\n",
       "      <td>명탐정 코난 : 에피소드 원 - 작아진 명탐정</td>\n",
       "      <td>2016</td>\n",
       "      <td>-</td>\n",
       "      <td>야마구치 캇페이(쿠도 신이치), 타카야마 미나미(에도가와 코난), 야마자키 와카나(...</td>\n",
       "      <td>95분</td>\n",
       "      <td>야마모토 야스이치로</td>\n",
       "      <td>-</td>\n",
       "      <td>-</td>\n",
       "    </tr>\n",
       "    <tr>\n",
       "      <th>448</th>\n",
       "      <td>448</td>\n",
       "      <td>163027</td>\n",
       "      <td>베이블레이드 버스트 갓 : 갓 발키리의 탄생</td>\n",
       "      <td>2017</td>\n",
       "      <td>-</td>\n",
       "      <td>김현지(강산 목소리), 한신(호락 목소리), 김보영(태이 목소리)</td>\n",
       "      <td>78분</td>\n",
       "      <td>야마구치 켄타로</td>\n",
       "      <td>-</td>\n",
       "      <td>-</td>\n",
       "    </tr>\n",
       "    <tr>\n",
       "      <th>451</th>\n",
       "      <td>451</td>\n",
       "      <td>18988</td>\n",
       "      <td>라이언 일병 구하기</td>\n",
       "      <td>1998</td>\n",
       "      <td>-</td>\n",
       "      <td>톰 행크스(존 밀러 대위), 에드워드 번즈(Pvt. 리처드 레이번), 톰 시즈모어(...</td>\n",
       "      <td>170분</td>\n",
       "      <td>스티븐 스필버그</td>\n",
       "      <td>-</td>\n",
       "      <td>-</td>\n",
       "    </tr>\n",
       "    <tr>\n",
       "      <th>460</th>\n",
       "      <td>460</td>\n",
       "      <td>143099</td>\n",
       "      <td>더 서클</td>\n",
       "      <td>2017</td>\n",
       "      <td>3.67</td>\n",
       "      <td>엠마 왓슨(메이), 톰 행크스(에이몬)</td>\n",
       "      <td>110분</td>\n",
       "      <td>제임스 폰솔트</td>\n",
       "      <td>-</td>\n",
       "      <td>-</td>\n",
       "    </tr>\n",
       "    <tr>\n",
       "      <th>518</th>\n",
       "      <td>518</td>\n",
       "      <td>140622</td>\n",
       "      <td>내 사랑 왕가흔</td>\n",
       "      <td>Wong Ka Yan</td>\n",
       "      <td>-</td>\n",
       "      <td>우첸위(왕가흔), 황우남(천인)</td>\n",
       "      <td>97분</td>\n",
       "      <td>베니 라우</td>\n",
       "      <td>-</td>\n",
       "      <td>-</td>\n",
       "    </tr>\n",
       "    <tr>\n",
       "      <th>525</th>\n",
       "      <td>525</td>\n",
       "      <td>19063</td>\n",
       "      <td>딥 임팩트</td>\n",
       "      <td>1998</td>\n",
       "      <td>-</td>\n",
       "      <td>로버트 듀발(Capt. 스퍼진 피쉬 태너 대위), 티아 레오니(제니 러너), 일라이...</td>\n",
       "      <td>125분</td>\n",
       "      <td>미미 레더</td>\n",
       "      <td>-</td>\n",
       "      <td>-</td>\n",
       "    </tr>\n",
       "    <tr>\n",
       "      <th>534</th>\n",
       "      <td>534</td>\n",
       "      <td>167035</td>\n",
       "      <td>극장판 에그엔젤 코코밍: 푸르밍과 두근두근 코코밍 세계</td>\n",
       "      <td>2017</td>\n",
       "      <td>-</td>\n",
       "      <td>이지현(한미소 목소리), 여윤미(푸르밍 목소리), 여민정(럭키밍 목소리)</td>\n",
       "      <td>76분</td>\n",
       "      <td>닛타 노리오</td>\n",
       "      <td>-</td>\n",
       "      <td>-</td>\n",
       "    </tr>\n",
       "    <tr>\n",
       "      <th>538</th>\n",
       "      <td>538</td>\n",
       "      <td>152268</td>\n",
       "      <td>직쏘</td>\n",
       "      <td>2017</td>\n",
       "      <td>4.00</td>\n",
       "      <td>토빈 벨(직쏘/존 크레이머)</td>\n",
       "      <td>92분</td>\n",
       "      <td>마이클 스피어리그, 피터 스피어리그</td>\n",
       "      <td>-</td>\n",
       "      <td>-</td>\n",
       "    </tr>\n",
       "    <tr>\n",
       "      <th>547</th>\n",
       "      <td>547</td>\n",
       "      <td>165585</td>\n",
       "      <td>드래곤 스펠: 마법 꽃의 비밀</td>\n",
       "      <td>2016</td>\n",
       "      <td>-</td>\n",
       "      <td>방지원(니키 목소리), 이세원(록키 목소리), 박상우(에디 목소리)</td>\n",
       "      <td>86분</td>\n",
       "      <td>마누크 데포얀</td>\n",
       "      <td>-</td>\n",
       "      <td>-</td>\n",
       "    </tr>\n",
       "    <tr>\n",
       "      <th>550</th>\n",
       "      <td>550</td>\n",
       "      <td>169561</td>\n",
       "      <td>뷰티풀 투모로우</td>\n",
       "      <td>2017</td>\n",
       "      <td>-</td>\n",
       "      <td>박효신, 정재일</td>\n",
       "      <td>68분</td>\n",
       "      <td>장재혁</td>\n",
       "      <td>-</td>\n",
       "      <td>-</td>\n",
       "    </tr>\n",
       "    <tr>\n",
       "      <th>551</th>\n",
       "      <td>551</td>\n",
       "      <td>149776</td>\n",
       "      <td>지랄발광 17세</td>\n",
       "      <td>2016</td>\n",
       "      <td>6.40</td>\n",
       "      <td>헤일리 스테인펠드(네이딘)</td>\n",
       "      <td>102분</td>\n",
       "      <td>켈리 프레몬</td>\n",
       "      <td>-</td>\n",
       "      <td>-</td>\n",
       "    </tr>\n",
       "    <tr>\n",
       "      <th>556</th>\n",
       "      <td>556</td>\n",
       "      <td>168508</td>\n",
       "      <td>극장판 숲의 요정 페어리루 ~크리스마스의 기적: 마법의 날개~</td>\n",
       "      <td>2017</td>\n",
       "      <td>-</td>\n",
       "      <td>조경이(리프 목소리), 이재현(해바라기 목소리), 이지현(로즈 목소리)</td>\n",
       "      <td>65분</td>\n",
       "      <td>고로 사쿠라</td>\n",
       "      <td>-</td>\n",
       "      <td>-</td>\n",
       "    </tr>\n",
       "    <tr>\n",
       "      <th>562</th>\n",
       "      <td>562</td>\n",
       "      <td>142634</td>\n",
       "      <td>내가 죽기 전에 가장 듣고 싶은 말</td>\n",
       "      <td>2017</td>\n",
       "      <td>5.33</td>\n",
       "      <td>셜리 맥클레인(해리엇), 아만다 사이프리드(앤), 앤쥴 리 딕슨(브렌다)</td>\n",
       "      <td>108분</td>\n",
       "      <td>마크 펠링톤</td>\n",
       "      <td>-</td>\n",
       "      <td>-</td>\n",
       "    </tr>\n",
       "    <tr>\n",
       "      <th>596</th>\n",
       "      <td>596</td>\n",
       "      <td>189368</td>\n",
       "      <td>콰이어트 플레이스 2</td>\n",
       "      <td>2020</td>\n",
       "      <td>-</td>\n",
       "      <td>에밀리 블런트, 킬리언 머피, 노아 주프</td>\n",
       "      <td>97분</td>\n",
       "      <td>존 크래신스키</td>\n",
       "      <td>-</td>\n",
       "      <td>-</td>\n",
       "    </tr>\n",
       "    <tr>\n",
       "      <th>636</th>\n",
       "      <td>636</td>\n",
       "      <td>165561</td>\n",
       "      <td>번개맨과 신비의 섬</td>\n",
       "      <td>2017</td>\n",
       "      <td>4.00</td>\n",
       "      <td>서홍석(번개맨), 홍민아(번개걸), 유수호(마리오)</td>\n",
       "      <td>70분</td>\n",
       "      <td>김지열</td>\n",
       "      <td>-</td>\n",
       "      <td>-</td>\n",
       "    </tr>\n",
       "    <tr>\n",
       "      <th>641</th>\n",
       "      <td>641</td>\n",
       "      <td>172006</td>\n",
       "      <td>젝스키스 에이틴</td>\n",
       "      <td>2017</td>\n",
       "      <td>-</td>\n",
       "      <td>[국내] 전체 관람가</td>\n",
       "      <td>100분</td>\n",
       "      <td>은지원, 이재진, 장수원</td>\n",
       "      <td>-</td>\n",
       "      <td>-</td>\n",
       "    </tr>\n",
       "    <tr>\n",
       "      <th>667</th>\n",
       "      <td>667</td>\n",
       "      <td>193214</td>\n",
       "      <td>서치 아웃</td>\n",
       "      <td>2019</td>\n",
       "      <td>-</td>\n",
       "      <td>이시언, 김성철, 허가윤</td>\n",
       "      <td>92분</td>\n",
       "      <td>곽정</td>\n",
       "      <td>-</td>\n",
       "      <td>-</td>\n",
       "    </tr>\n",
       "    <tr>\n",
       "      <th>702</th>\n",
       "      <td>702</td>\n",
       "      <td>176354</td>\n",
       "      <td>번 더 스테이지: 더 무비</td>\n",
       "      <td>2018</td>\n",
       "      <td>6.00</td>\n",
       "      <td>RM(본인), 진(본인), 슈가(본인)</td>\n",
       "      <td>2018 .11.15 개봉</td>\n",
       "      <td>박준수</td>\n",
       "      <td>-</td>\n",
       "      <td>-</td>\n",
       "    </tr>\n",
       "    <tr>\n",
       "      <th>710</th>\n",
       "      <td>710</td>\n",
       "      <td>174626</td>\n",
       "      <td>업그레이드</td>\n",
       "      <td>2018</td>\n",
       "      <td>6.67</td>\n",
       "      <td>로건 마샬 그린(그레이 트레이스)</td>\n",
       "      <td>100분</td>\n",
       "      <td>리 워넬</td>\n",
       "      <td>-</td>\n",
       "      <td>-</td>\n",
       "    </tr>\n",
       "    <tr>\n",
       "      <th>736</th>\n",
       "      <td>736</td>\n",
       "      <td>172194</td>\n",
       "      <td>나츠메 우인장: 세상과 연을 맺다</td>\n",
       "      <td>Natsume Yujin-cho the Movie: Ephemeral Bo...</td>\n",
       "      <td>-</td>\n",
       "      <td>카미야 히로시(나츠메 타카시), 이노우에 카즈히코(야옹 선생/마다라), 코바야시 사...</td>\n",
       "      <td>104분</td>\n",
       "      <td>오오모리 타카히로, 이토 히데키</td>\n",
       "      <td>-</td>\n",
       "      <td>-</td>\n",
       "    </tr>\n",
       "    <tr>\n",
       "      <th>737</th>\n",
       "      <td>737</td>\n",
       "      <td>178426</td>\n",
       "      <td>에그엔젤 코코밍: 두근두근 핼러윈 파티</td>\n",
       "      <td>2018</td>\n",
       "      <td>-</td>\n",
       "      <td>[국내] 전체 관람가</td>\n",
       "      <td>68분</td>\n",
       "      <td>닛타 노리오</td>\n",
       "      <td>-</td>\n",
       "      <td>-</td>\n",
       "    </tr>\n",
       "    <tr>\n",
       "      <th>777</th>\n",
       "      <td>777</td>\n",
       "      <td>192491</td>\n",
       "      <td>글래스 죠</td>\n",
       "      <td>2018</td>\n",
       "      <td>-</td>\n",
       "      <td>리 콜라파이(트래비스), 브랜든 스클레너(나자리언), 코리나 리코</td>\n",
       "      <td>97분</td>\n",
       "      <td>제프 셀렌타노</td>\n",
       "      <td>-</td>\n",
       "      <td>-</td>\n",
       "    </tr>\n",
       "    <tr>\n",
       "      <th>784</th>\n",
       "      <td>784</td>\n",
       "      <td>180220</td>\n",
       "      <td>러브 유어셀프 인 서울</td>\n",
       "      <td>2018</td>\n",
       "      <td>-</td>\n",
       "      <td>[국내] 전체 관람가</td>\n",
       "      <td>113분</td>\n",
       "      <td>RM(본인), 진(본인), 슈가(본인)</td>\n",
       "      <td>-</td>\n",
       "      <td>-</td>\n",
       "    </tr>\n",
       "    <tr>\n",
       "      <th>806</th>\n",
       "      <td>806</td>\n",
       "      <td>48233</td>\n",
       "      <td>명탐정 코난:전율의 악보</td>\n",
       "      <td>Detective Conan: Full Score of Fear</td>\n",
       "      <td>6.00</td>\n",
       "      <td>타카야마 미나미(에도가와 코난), 야마자키 와카나(모리 란), 쿠와시마 호우코(아키...</td>\n",
       "      <td>116분</td>\n",
       "      <td>야마모토 야스이치로</td>\n",
       "      <td>-</td>\n",
       "      <td>-</td>\n",
       "    </tr>\n",
       "    <tr>\n",
       "      <th>808</th>\n",
       "      <td>808</td>\n",
       "      <td>190626</td>\n",
       "      <td>공포의 묘지: 망자의 저주</td>\n",
       "      <td>2019</td>\n",
       "      <td>-</td>\n",
       "      <td>제시카 오툴, 데이비드 코터, 리타 시디퀴</td>\n",
       "      <td>99분</td>\n",
       "      <td>레베카 매튜스</td>\n",
       "      <td>-</td>\n",
       "      <td>-</td>\n",
       "    </tr>\n",
       "    <tr>\n",
       "      <th>821</th>\n",
       "      <td>821</td>\n",
       "      <td>189883</td>\n",
       "      <td>사탄의 인형: 상속 받은 저주</td>\n",
       "      <td>2019</td>\n",
       "      <td>-</td>\n",
       "      <td>토머스 도니, 디 월리스</td>\n",
       "      <td>85분</td>\n",
       "      <td>커일 칼빈</td>\n",
       "      <td>-</td>\n",
       "      <td>-</td>\n",
       "    </tr>\n",
       "    <tr>\n",
       "      <th>865</th>\n",
       "      <td>865</td>\n",
       "      <td>176028</td>\n",
       "      <td>캣츠토피아</td>\n",
       "      <td>2018</td>\n",
       "      <td>-</td>\n",
       "      <td>유민상(블랭키 목소리), 오나미(케이프 목소리), 박지현(맥 목소리)</td>\n",
       "      <td>105분</td>\n",
       "      <td>게리 왕</td>\n",
       "      <td>-</td>\n",
       "      <td>-</td>\n",
       "    </tr>\n",
       "    <tr>\n",
       "      <th>902</th>\n",
       "      <td>902</td>\n",
       "      <td>191645</td>\n",
       "      <td>원더랜드</td>\n",
       "      <td>2020</td>\n",
       "      <td>-</td>\n",
       "      <td>정유미, 최우식, 수지</td>\n",
       "      <td>-</td>\n",
       "      <td>김태용</td>\n",
       "      <td>-</td>\n",
       "      <td>-</td>\n",
       "    </tr>\n",
       "    <tr>\n",
       "      <th>909</th>\n",
       "      <td>909</td>\n",
       "      <td>190377</td>\n",
       "      <td>카운트다운</td>\n",
       "      <td>2019</td>\n",
       "      <td>3.00</td>\n",
       "      <td>엘리자베스 라일(퀸 해리스), 피터 파시넬리(설리번 박사), 탈리타 베이트먼(조단 ...</td>\n",
       "      <td>90분</td>\n",
       "      <td>저스틴 덱</td>\n",
       "      <td>-</td>\n",
       "      <td>-</td>\n",
       "    </tr>\n",
       "  </tbody>\n",
       "</table>\n",
       "</div>"
      ],
      "text/plain": [
       "     Unnamed: 0  N_movie_code                               title  \\\n",
       "3             3        191646                        쥬라기 월드: 도미니언   \n",
       "83           83        156495                           더 이퀄라이저 2   \n",
       "89           89        137394                            위자: 레저렉션   \n",
       "98           98        144690                           한번 더 해피엔딩   \n",
       "103         103        193169                      사도행자 2: 스파이 전쟁   \n",
       "115         115        191634                               미니언즈2   \n",
       "150         150         83508                                 팬데믹   \n",
       "152         152        118343                             레전드 워리어   \n",
       "168         168        179150                                 맥베스   \n",
       "190         190        181417                      비밀정보원: 인 더 프리즌   \n",
       "216         216        157784                               오빠 생각   \n",
       "243         243        174808                              사냥의 시간   \n",
       "258         258        134135                 극장판 아이엠스타 : 꿈의 오디션!   \n",
       "267         267        172751                          크리미널: 해튼가든   \n",
       "272         272        173484                         룸싸롱 맛있는 서비스   \n",
       "324         324        182578                         고스트버스터즈 라이즈   \n",
       "328         328        172586                            언더 워터 샤크   \n",
       "346         346        137340                          마이 리틀 자이언트   \n",
       "350         350        191642        킹 오브 프리즘 올 스타즈 -프리즘 쇼☆베스트10-   \n",
       "360         360        137887                         언더월드: 블러드 워   \n",
       "391         391        163834                          원더 우먼 1984   \n",
       "408         408        191633                           트롤: 월드 투어   \n",
       "439         439        161847                    극장판 또봇: 로봇군단의 습격   \n",
       "440         440        158849           명탐정 코난 : 에피소드 원 - 작아진 명탐정   \n",
       "448         448        163027            베이블레이드 버스트 갓 : 갓 발키리의 탄생   \n",
       "451         451         18988                          라이언 일병 구하기   \n",
       "460         460        143099                                더 서클   \n",
       "518         518        140622                            내 사랑 왕가흔   \n",
       "525         525         19063                               딥 임팩트   \n",
       "534         534        167035      극장판 에그엔젤 코코밍: 푸르밍과 두근두근 코코밍 세계   \n",
       "538         538        152268                                  직쏘   \n",
       "547         547        165585                    드래곤 스펠: 마법 꽃의 비밀   \n",
       "550         550        169561                            뷰티풀 투모로우   \n",
       "551         551        149776                            지랄발광 17세   \n",
       "556         556        168508  극장판 숲의 요정 페어리루 ~크리스마스의 기적: 마법의 날개~   \n",
       "562         562        142634                 내가 죽기 전에 가장 듣고 싶은 말   \n",
       "596         596        189368                         콰이어트 플레이스 2   \n",
       "636         636        165561                          번개맨과 신비의 섬   \n",
       "641         641        172006                            젝스키스 에이틴   \n",
       "667         667        193214                               서치 아웃   \n",
       "702         702        176354                      번 더 스테이지: 더 무비   \n",
       "710         710        174626                               업그레이드   \n",
       "736         736        172194                  나츠메 우인장: 세상과 연을 맺다   \n",
       "737         737        178426               에그엔젤 코코밍: 두근두근 핼러윈 파티   \n",
       "777         777        192491                               글래스 죠   \n",
       "784         784        180220                        러브 유어셀프 인 서울   \n",
       "806         806         48233                       명탐정 코난:전율의 악보   \n",
       "808         808        190626                      공포의 묘지: 망자의 저주   \n",
       "821         821        189883                    사탄의 인형: 상속 받은 저주   \n",
       "865         865        176028                               캣츠토피아   \n",
       "902         902        191645                                원더랜드   \n",
       "909         909        190377                               카운트다운   \n",
       "\n",
       "                                     comeout_date expert_rating  \\\n",
       "3                                            2021             -   \n",
       "83                                           2018             -   \n",
       "89                                           2015             -   \n",
       "98                                           2016            등록   \n",
       "103                                          2019             -   \n",
       "115                                          2020             -   \n",
       "150                                          2009             -   \n",
       "152                                          2014             -   \n",
       "168                                          2017             -   \n",
       "190                                          2019             -   \n",
       "216                                          2017            등록   \n",
       "243                                          2020             -   \n",
       "258                            AIKATSU! THE MOVIE             -   \n",
       "267                                          2018             -   \n",
       "272                                          2018             -   \n",
       "324                                          2020             -   \n",
       "328                                          2016             -   \n",
       "346                                          2016          7.45   \n",
       "350                    KING OF PRISM ALL STARS...             -   \n",
       "360                                          2016          4.75   \n",
       "391                                          2020             -   \n",
       "408                                          2020             -   \n",
       "439                                          2017          6.00   \n",
       "440                                          2016             -   \n",
       "448                                          2017             -   \n",
       "451                                          1998             -   \n",
       "460                                          2017          3.67   \n",
       "518                                   Wong Ka Yan             -   \n",
       "525                                          1998             -   \n",
       "534                                          2017             -   \n",
       "538                                          2017          4.00   \n",
       "547                                          2016             -   \n",
       "550                                          2017             -   \n",
       "551                                          2016          6.40   \n",
       "556                                          2017             -   \n",
       "562                                          2017          5.33   \n",
       "596                                          2020             -   \n",
       "636                                          2017          4.00   \n",
       "641                                          2017             -   \n",
       "667                                          2019             -   \n",
       "702                                          2018          6.00   \n",
       "710                                          2018          6.67   \n",
       "736  Natsume Yujin-cho the Movie: Ephemeral Bo...             -   \n",
       "737                                          2018             -   \n",
       "777                                          2018             -   \n",
       "784                                          2018             -   \n",
       "806           Detective Conan: Full Score of Fear          6.00   \n",
       "808                                          2019             -   \n",
       "821                                          2019             -   \n",
       "865                                          2018             -   \n",
       "902                                          2020             -   \n",
       "909                                          2019          3.00   \n",
       "\n",
       "                                       starring_actors   running_times  \\\n",
       "3                                 크리스 프랫, 브라이스 달라스 하워드  2021 .06.10 개봉   \n",
       "83                       덴젤 워싱턴(로버트 맥콜), 페드로 파스칼, 빌 풀만            120분   \n",
       "89                          제시카 윌리스(엘레나 쿠퍼), 니콜 홀트(유령)             86분   \n",
       "98                         장나라(한미모), 정경호(송수혁), 권율(구해준)               -   \n",
       "103                     장가휘(란보원), 고천락(사오즈랑), 강패요(야오커이)             98분   \n",
       "115                   피에르 꼬팽(미니언즈 목소리), 스티브 카렐(그루 목소리)               -   \n",
       "150                                  레이 와이즈, 그레이엄 맥타비쉬               -   \n",
       "152      도미닉 레인스(숀 워커 / 제항기르 아민 / 도플갱어 진), 레이 파크(가브리엘)             94분   \n",
       "168   젤리코 루치치(맥베스), 안나 네트렙코(레이디 맥베스), 일데브란도 다르칸젤로(뱅쿠오)            181분   \n",
       "190                          조엘 킨나만, 클라이브 오웬, 로자먼드 파이크            113분   \n",
       "216                                                  -               -   \n",
       "243                          이제훈(준석), 안재홍(장호), 최우식(기훈)            134분   \n",
       "258              정혜원(라임 목소리), 이용신(루나 목소리), 김채하(마린 목소리)             89분   \n",
       "267     마이클 케인(브라이언), 짐 브로드벤트(테리 퍼킨스), 톰 커트니(존 케니 콜린스)            108분   \n",
       "272                                      [국내] 청소년 관람불가             66분   \n",
       "324                             캐리 쿤, 핀 울프하드, 맥케나 그레이스     2020 .07 개봉   \n",
       "328                  브랜든 오렛(딜런 배릭), 스테파니 버랜(셰인 니콜스 박사)             89분   \n",
       "346                  마크 라이런스(거인), 루비 반힐(소피), 레베카 홀(메리)            117분   \n",
       "350                         테라시마 쥰타, 하타나카 타스쿠, 사이토 소우마             76분   \n",
       "360         케이트 베킨세일(셀린느), 테오 제임스(데이빗), 토비어스 멘지스(마리우스)             91분   \n",
       "391      갤 가돗(다이애나/원더우먼), 크리스 파인(스티브 트레버), 크리스틴 위그(치타)               -   \n",
       "408                                  안나 켄드릭, 저스틴 팀버레이크             91분   \n",
       "439  하룡이(또봇X/도운 목소리), 신경선(또봇Y/또봇Z/리모 목소리), 이현(또봇K/설...             80분   \n",
       "440  야마구치 캇페이(쿠도 신이치), 타카야마 미나미(에도가와 코난), 야마자키 와카나(...             95분   \n",
       "448               김현지(강산 목소리), 한신(호락 목소리), 김보영(태이 목소리)             78분   \n",
       "451  톰 행크스(존 밀러 대위), 에드워드 번즈(Pvt. 리처드 레이번), 톰 시즈모어(...            170분   \n",
       "460                              엠마 왓슨(메이), 톰 행크스(에이몬)            110분   \n",
       "518                                  우첸위(왕가흔), 황우남(천인)             97분   \n",
       "525  로버트 듀발(Capt. 스퍼진 피쉬 태너 대위), 티아 레오니(제니 러너), 일라이...            125분   \n",
       "534           이지현(한미소 목소리), 여윤미(푸르밍 목소리), 여민정(럭키밍 목소리)             76분   \n",
       "538                                    토빈 벨(직쏘/존 크레이머)             92분   \n",
       "547              방지원(니키 목소리), 이세원(록키 목소리), 박상우(에디 목소리)             86분   \n",
       "550                                           박효신, 정재일             68분   \n",
       "551                                     헤일리 스테인펠드(네이딘)            102분   \n",
       "556            조경이(리프 목소리), 이재현(해바라기 목소리), 이지현(로즈 목소리)             65분   \n",
       "562           셜리 맥클레인(해리엇), 아만다 사이프리드(앤), 앤쥴 리 딕슨(브렌다)            108분   \n",
       "596                             에밀리 블런트, 킬리언 머피, 노아 주프             97분   \n",
       "636                       서홍석(번개맨), 홍민아(번개걸), 유수호(마리오)             70분   \n",
       "641                                        [국내] 전체 관람가            100분   \n",
       "667                                      이시언, 김성철, 허가윤             92분   \n",
       "702                              RM(본인), 진(본인), 슈가(본인)  2018 .11.15 개봉   \n",
       "710                                 로건 마샬 그린(그레이 트레이스)            100분   \n",
       "736  카미야 히로시(나츠메 타카시), 이노우에 카즈히코(야옹 선생/마다라), 코바야시 사...            104분   \n",
       "737                                        [국내] 전체 관람가             68분   \n",
       "777               리 콜라파이(트래비스), 브랜든 스클레너(나자리언), 코리나 리코             97분   \n",
       "784                                        [국내] 전체 관람가            113분   \n",
       "806  타카야마 미나미(에도가와 코난), 야마자키 와카나(모리 란), 쿠와시마 호우코(아키...            116분   \n",
       "808                            제시카 오툴, 데이비드 코터, 리타 시디퀴             99분   \n",
       "821                                      토머스 도니, 디 월리스             85분   \n",
       "865             유민상(블랭키 목소리), 오나미(케이프 목소리), 박지현(맥 목소리)            105분   \n",
       "902                                       정유미, 최우식, 수지               -   \n",
       "909  엘리자베스 라일(퀸 해리스), 피터 파시넬리(설리번 박사), 탈리타 베이트먼(조단 ...             90분   \n",
       "\n",
       "                 directors audience_rating rating_audiences  \n",
       "3                 콜린 트레보로우               -                -  \n",
       "83                  안톤 후쿠아               -                -  \n",
       "89                 이스라엘 루나               -                -  \n",
       "98                     권성창               -                -  \n",
       "103                    문위홍               -                -  \n",
       "115                  카일 발다               -                -  \n",
       "150                제이슨 코너리               -                -  \n",
       "152            아즈말 자히르 아마드               -                -  \n",
       "168                필리다 로이드               -                -  \n",
       "190            안드레아 디 스테파노               -                -  \n",
       "216          탁재훈, 유세윤, 양세형               -                -  \n",
       "243                    윤성현               -                -  \n",
       "258                야노 유이치로               -                -  \n",
       "267                 제임스 마쉬               -                -  \n",
       "272                    조태호               -                -  \n",
       "324               제이슨 라이트맨               -                -  \n",
       "328                 마크 앳킨스               -                -  \n",
       "346               스티븐 스필버그               -                -  \n",
       "350               히시다 마사카즈               -                -  \n",
       "360                안나 포에스터               -                -  \n",
       "391                 패티 젠킨스               -                -  \n",
       "408      월트 도른, 데이빗 P. 스미스               -                -  \n",
       "439                이달, 고동우               -                -  \n",
       "440             야마모토 야스이치로               -                -  \n",
       "448               야마구치 켄타로               -                -  \n",
       "451               스티븐 스필버그               -                -  \n",
       "460                제임스 폰솔트               -                -  \n",
       "518                  베니 라우               -                -  \n",
       "525                  미미 레더               -                -  \n",
       "534                 닛타 노리오               -                -  \n",
       "538    마이클 스피어리그, 피터 스피어리그               -                -  \n",
       "547                마누크 데포얀               -                -  \n",
       "550                    장재혁               -                -  \n",
       "551                 켈리 프레몬               -                -  \n",
       "556                 고로 사쿠라               -                -  \n",
       "562                 마크 펠링톤               -                -  \n",
       "596                존 크래신스키               -                -  \n",
       "636                    김지열               -                -  \n",
       "641          은지원, 이재진, 장수원               -                -  \n",
       "667                     곽정               -                -  \n",
       "702                    박준수               -                -  \n",
       "710                   리 워넬               -                -  \n",
       "736      오오모리 타카히로, 이토 히데키               -                -  \n",
       "737                 닛타 노리오               -                -  \n",
       "777                제프 셀렌타노               -                -  \n",
       "784  RM(본인), 진(본인), 슈가(본인)               -                -  \n",
       "806             야마모토 야스이치로               -                -  \n",
       "808                레베카 매튜스               -                -  \n",
       "821                  커일 칼빈               -                -  \n",
       "865                   게리 왕               -                -  \n",
       "902                    김태용               -                -  \n",
       "909                  저스틴 덱               -                -  "
      ]
     },
     "execution_count": 443,
     "metadata": {},
     "output_type": "execute_result"
    }
   ],
   "source": [
    "a[a['audience_rating'] == '-']"
   ]
  },
  {
   "cell_type": "code",
   "execution_count": null,
   "metadata": {},
   "outputs": [],
   "source": []
  },
  {
   "cell_type": "code",
   "execution_count": null,
   "metadata": {},
   "outputs": [],
   "source": []
  },
  {
   "cell_type": "code",
   "execution_count": null,
   "metadata": {},
   "outputs": [],
   "source": []
  },
  {
   "cell_type": "code",
   "execution_count": null,
   "metadata": {},
   "outputs": [],
   "source": []
  },
  {
   "cell_type": "code",
   "execution_count": null,
   "metadata": {},
   "outputs": [],
   "source": []
  },
  {
   "cell_type": "code",
   "execution_count": null,
   "metadata": {},
   "outputs": [],
   "source": []
  },
  {
   "cell_type": "code",
   "execution_count": null,
   "metadata": {},
   "outputs": [],
   "source": []
  },
  {
   "cell_type": "code",
   "execution_count": 421,
   "metadata": {},
   "outputs": [
    {
     "ename": "IndexError",
     "evalue": "list index out of range",
     "output_type": "error",
     "traceback": [
      "\u001b[0;31m---------------------------------------------------------------------------\u001b[0m",
      "\u001b[0;31mIndexError\u001b[0m                                Traceback (most recent call last)",
      "\u001b[0;32m<ipython-input-421-db2114b35832>\u001b[0m in \u001b[0;36m<module>\u001b[0;34m\u001b[0m\n\u001b[1;32m      5\u001b[0m \u001b[0mresponse\u001b[0m \u001b[0;34m=\u001b[0m \u001b[0mTextResponse\u001b[0m\u001b[0;34m(\u001b[0m\u001b[0mreq\u001b[0m\u001b[0;34m.\u001b[0m\u001b[0murl\u001b[0m\u001b[0;34m,\u001b[0m \u001b[0mbody\u001b[0m\u001b[0;34m=\u001b[0m\u001b[0mreq\u001b[0m\u001b[0;34m.\u001b[0m\u001b[0mtext\u001b[0m\u001b[0;34m,\u001b[0m \u001b[0mencoding\u001b[0m\u001b[0;34m=\u001b[0m\u001b[0;34m\"utf-8\"\u001b[0m\u001b[0;34m)\u001b[0m\u001b[0;34m\u001b[0m\u001b[0;34m\u001b[0m\u001b[0m\n\u001b[1;32m      6\u001b[0m \u001b[0mnumber_list\u001b[0m \u001b[0;34m=\u001b[0m \u001b[0mresponse\u001b[0m\u001b[0;34m.\u001b[0m\u001b[0mxpath\u001b[0m\u001b[0;34m(\u001b[0m\u001b[0;34m'/html/body/div/div/div[6]/div/a/span/text()'\u001b[0m\u001b[0;34m)\u001b[0m\u001b[0;34m.\u001b[0m\u001b[0mextract\u001b[0m\u001b[0;34m(\u001b[0m\u001b[0;34m)\u001b[0m\u001b[0;34m\u001b[0m\u001b[0;34m\u001b[0m\u001b[0m\n\u001b[0;32m----> 7\u001b[0;31m \u001b[0mlast_number\u001b[0m \u001b[0;34m=\u001b[0m \u001b[0mnumber_list\u001b[0m\u001b[0;34m[\u001b[0m\u001b[0mlen\u001b[0m\u001b[0;34m(\u001b[0m\u001b[0mnumber_list\u001b[0m\u001b[0;34m)\u001b[0m \u001b[0;34m-\u001b[0m \u001b[0;36m1\u001b[0m\u001b[0;34m]\u001b[0m\u001b[0;34m\u001b[0m\u001b[0;34m\u001b[0m\u001b[0m\n\u001b[0m\u001b[1;32m      8\u001b[0m \u001b[0;34m\u001b[0m\u001b[0m\n\u001b[1;32m      9\u001b[0m \u001b[0mcur_page\u001b[0m \u001b[0;34m=\u001b[0m \u001b[0mint\u001b[0m\u001b[0;34m(\u001b[0m\u001b[0mlast_number\u001b[0m\u001b[0;34m.\u001b[0m\u001b[0mreplace\u001b[0m\u001b[0;34m(\u001b[0m\u001b[0;34m','\u001b[0m\u001b[0;34m,\u001b[0m \u001b[0;34m''\u001b[0m\u001b[0;34m)\u001b[0m\u001b[0;34m)\u001b[0m\u001b[0;34m\u001b[0m\u001b[0;34m\u001b[0m\u001b[0m\n",
      "\u001b[0;31mIndexError\u001b[0m: list index out of range"
     ]
    }
   ],
   "source": [
    "code = 191646\n",
    "num = 99999\n",
    "url = 'https://movie.naver.com/movie/bi/mi/pointWriteFormList.nhn?code={}&type=after&onlyActualPointYn=Y&onlySpoilerPointYn=N&order=newest&page={}'.format(code, num)\n",
    "req = requests.get(url)\n",
    "response = TextResponse(req.url, body=req.text, encoding=\"utf-8\")\n",
    "number_list = response.xpath('/html/body/div/div/div[6]/div/a/span/text()').extract()\n",
    "last_number = number_list[len(number_list) - 1]\n",
    "\n",
    "cur_page = int(last_number.replace(',', ''))\n",
    "cur_page\n",
    "\n"
   ]
  },
  {
   "cell_type": "code",
   "execution_count": 415,
   "metadata": {},
   "outputs": [],
   "source": [
    "# start_date = response.xpath('/html/body/div/div/div[5]/ul/li[5]/div[2]/dl/dt/em[2]/text()').extract()\n",
    "# start_date = start_date[0].split(\" \")[0].split('.')\n",
    "# start_date\n"
   ]
  },
  {
   "cell_type": "code",
   "execution_count": 416,
   "metadata": {},
   "outputs": [
    {
     "data": {
      "text/plain": [
       "['2014', '12', '17']"
      ]
     },
     "execution_count": 416,
     "metadata": {},
     "output_type": "execute_result"
    }
   ],
   "source": [
    "time_elements = response.xpath('/html/body/div/div/div[5]/ul/li/div/dl/dt/em[2]/text()')\n",
    "start_date = time_elements[len(time_elements) - 1].extract().split(' ')[0]\n",
    "start_date = start_date.split(\" \")[0].split('.')\n",
    "start_date"
   ]
  },
  {
   "cell_type": "code",
   "execution_count": 417,
   "metadata": {},
   "outputs": [
    {
     "data": {
      "text/plain": [
       "2"
      ]
     },
     "execution_count": 417,
     "metadata": {},
     "output_type": "execute_result"
    }
   ],
   "source": [
    "len(time_elements)"
   ]
  },
  {
   "cell_type": "code",
   "execution_count": 395,
   "metadata": {},
   "outputs": [
    {
     "data": {
      "text/plain": [
       "['2015', '04', '23']"
      ]
     },
     "execution_count": 395,
     "metadata": {},
     "output_type": "execute_result"
    }
   ],
   "source": [
    "cur_date = response.xpath('/html/body/div/div/div[5]/ul/li[{}]/div[2]/dl/dt/em[2]/text()'.format(5)).extract()[0].split(' ')[0].split('.')\n",
    "cur_date\n"
   ]
  },
  {
   "cell_type": "code",
   "execution_count": 390,
   "metadata": {},
   "outputs": [
    {
     "data": {
      "text/plain": [
       "8"
      ]
     },
     "execution_count": 390,
     "metadata": {},
     "output_type": "execute_result"
    }
   ],
   "source": [
    "rating_elements = response.xpath('/html/body/div/div/div[5]/ul/li[{}]/div[1]/em/text()'.format(5)).extract()[0]\n",
    "int(rating_elements)"
   ]
  },
  {
   "cell_type": "code",
   "execution_count": null,
   "metadata": {},
   "outputs": [],
   "source": []
  },
  {
   "cell_type": "code",
   "execution_count": null,
   "metadata": {},
   "outputs": [],
   "source": []
  },
  {
   "cell_type": "code",
   "execution_count": null,
   "metadata": {},
   "outputs": [],
   "source": []
  },
  {
   "cell_type": "code",
   "execution_count": 278,
   "metadata": {},
   "outputs": [
    {
     "data": {
      "text/plain": [
       "4"
      ]
     },
     "execution_count": 278,
     "metadata": {},
     "output_type": "execute_result"
    }
   ],
   "source": [
    "int(start_date[1])"
   ]
  },
  {
   "cell_type": "code",
   "execution_count": 281,
   "metadata": {},
   "outputs": [
    {
     "data": {
      "text/plain": [
       "datetime.datetime(2015, 4, 30, 0, 0)"
      ]
     },
     "execution_count": 281,
     "metadata": {},
     "output_type": "execute_result"
    }
   ],
   "source": [
    "limit_date = datetime.datetime(int(start_date[0]), int(start_date[1]), int(start_date[2])) + datetime.timedelta(weeks=1)\n",
    "limit_date"
   ]
  },
  {
   "cell_type": "code",
   "execution_count": 302,
   "metadata": {},
   "outputs": [],
   "source": [
    "check_limit = limit_date - datetime.datetime(2015, 5, 1)"
   ]
  },
  {
   "cell_type": "code",
   "execution_count": 304,
   "metadata": {},
   "outputs": [
    {
     "data": {
      "text/plain": [
       "True"
      ]
     },
     "execution_count": 304,
     "metadata": {},
     "output_type": "execute_result"
    }
   ],
   "source": [
    "check_limit.days < 0 "
   ]
  },
  {
   "cell_type": "code",
   "execution_count": null,
   "metadata": {},
   "outputs": [],
   "source": []
  },
  {
   "cell_type": "code",
   "execution_count": null,
   "metadata": {},
   "outputs": [],
   "source": []
  },
  {
   "cell_type": "code",
   "execution_count": null,
   "metadata": {},
   "outputs": [],
   "source": []
  },
  {
   "cell_type": "code",
   "execution_count": null,
   "metadata": {},
   "outputs": [],
   "source": []
  },
  {
   "cell_type": "code",
   "execution_count": null,
   "metadata": {},
   "outputs": [],
   "source": [
    "# !scrapy startproject crawler"
   ]
  },
  {
   "cell_type": "code",
   "execution_count": null,
   "metadata": {},
   "outputs": [],
   "source": [
    "# %%writefile crawler/crawler/items.py\n",
    "# import scrapy\n",
    "\n",
    "\n",
    "# class CrawlerItem(scrapy.Item):\n",
    "#     expert_rating = scrapy.Field()\n",
    "#     starring_actors = scrapy.Field()\n",
    "#     running_time = scrapy.Field()\n",
    "#     director = scrapy.Field()\n",
    "    "
   ]
  },
  {
   "cell_type": "code",
   "execution_count": null,
   "metadata": {},
   "outputs": [],
   "source": [
    "# %%writefile crawler/crawler/spiders/spider.py\n",
    "# import scrapy\n",
    "\n",
    "# from crawler.items import CrawlerItem\n",
    "\n",
    "# class Spider(scrapy.Spider):\n",
    "#     name = \"MovieSpider\"\n",
    "#     allow_domain = [\"movie.naver.com\"]\n",
    "#     start_urls = []\n",
    "    \n",
    "#     def parse(self, response):\n",
    "#         total_df = pd.read_csv('code_added_df.csv').drop(columns=['Unnamed: 0'])\n",
    "#         code_list = list(total_df['N_movie_code'])\n",
    "        \n",
    "#         for code in code_list:\n",
    "#             url = 'https://movie.naver.com/movie/bi/mi/basic.nhn?code={}'.format(int(code))\n",
    "#             yield scrapy.Request(url, callback=self.get_content)\n",
    "            \n",
    "#     def get_content(self, response):\n",
    "#         item = CrawlerItem()\n",
    "        \n",
    "#         rate_number = response.xpath('//*[@id=\"content\"]/div[1]/div[2]/div[1]/div[1]/div[2]/div/a/div/em/text()').extract()\n",
    "#         item['expert_rating'] = \"\".join(rate_number)\n",
    "        \n",
    "#         running_time = response.xpath('//*[@id=\"content\"]/div[1]/div[2]/div[1]/dl/dd[1]/p/span[3]/text()').extract()[0]\n",
    "#         item['running_time'] = running_time\n",
    "        \n",
    "#         starring_actors = response.xpath('//*[@id=\"content\"]/div[1]/div[2]/div[1]/dl/dd[3]/p/a/text()').extract()\n",
    "#         item['starring_actors'] = \", \".join(starring_actors)\n",
    "        \n",
    "#         director = response.xpath('//*[@id=\"content\"]/div[1]/div[2]/div[1]/dl/dd[2]/p/a/text()').extract()[0]\n",
    "#         item['director'] = director\n",
    "        \n",
    "#         yield item\n",
    "    "
   ]
  },
  {
   "cell_type": "code",
   "execution_count": null,
   "metadata": {},
   "outputs": [],
   "source": [
    "# %%writefile run.sh\n",
    "# cd crawler\n",
    "# scrapy crawl GmarketSpider -o items.csv"
   ]
  },
  {
   "cell_type": "code",
   "execution_count": null,
   "metadata": {},
   "outputs": [],
   "source": [
    "# 실행가능하도록 권한 바꾸기\n",
    "# import os\n",
    "\n",
    "# os.chmod(\"run.sh\", 0o764)"
   ]
  },
  {
   "cell_type": "code",
   "execution_count": null,
   "metadata": {},
   "outputs": [],
   "source": [
    "# 5. settings.py 수정\n",
    "# !head -n 22 cat naver_article/naver_article/settings.py | tail -n 2"
   ]
  },
  {
   "cell_type": "code",
   "execution_count": null,
   "metadata": {},
   "outputs": [],
   "source": [
    "# !sed -i 's/ROBOTSTXT_OBEY = True/ROBOTSTXT_OBEY = False/' naver_article/naver_article/settings.py"
   ]
  },
  {
   "cell_type": "code",
   "execution_count": null,
   "metadata": {},
   "outputs": [],
   "source": [
    "# !head -n 22 cat naver_article/naver_article/settings.py | tail -n 2"
   ]
  },
  {
   "cell_type": "code",
   "execution_count": null,
   "metadata": {},
   "outputs": [],
   "source": [
    "# !./run.sh"
   ]
  },
  {
   "cell_type": "code",
   "execution_count": null,
   "metadata": {},
   "outputs": [],
   "source": [
    "# csv파일로 저장된 데이터 확인\n",
    "\n",
    "# items_df = pd.read_csv(\"naver_article/items.csv\")\n",
    "# items_df.tail()"
   ]
  },
  {
   "cell_type": "code",
   "execution_count": null,
   "metadata": {},
   "outputs": [],
   "source": []
  },
  {
   "cell_type": "code",
   "execution_count": null,
   "metadata": {},
   "outputs": [],
   "source": []
  },
  {
   "cell_type": "code",
   "execution_count": null,
   "metadata": {},
   "outputs": [],
   "source": []
  },
  {
   "cell_type": "code",
   "execution_count": null,
   "metadata": {},
   "outputs": [],
   "source": []
  },
  {
   "cell_type": "code",
   "execution_count": null,
   "metadata": {},
   "outputs": [],
   "source": []
  },
  {
   "cell_type": "code",
   "execution_count": null,
   "metadata": {},
   "outputs": [],
   "source": []
  },
  {
   "cell_type": "code",
   "execution_count": null,
   "metadata": {},
   "outputs": [],
   "source": []
  },
  {
   "cell_type": "code",
   "execution_count": null,
   "metadata": {},
   "outputs": [],
   "source": []
  },
  {
   "cell_type": "code",
   "execution_count": null,
   "metadata": {},
   "outputs": [],
   "source": []
  },
  {
   "cell_type": "code",
   "execution_count": null,
   "metadata": {},
   "outputs": [],
   "source": []
  },
  {
   "cell_type": "code",
   "execution_count": 184,
   "metadata": {},
   "outputs": [
    {
     "data": {
      "text/plain": [
       "928"
      ]
     },
     "execution_count": 184,
     "metadata": {},
     "output_type": "execute_result"
    }
   ],
   "source": [
    "df2 = pd.read_csv('code_added_df.csv').drop(columns=['Unnamed: 0'])\n",
    "N_movie_code = list(df2['N_movie_code'])\n",
    "len(N_movie_code)"
   ]
  },
  {
   "cell_type": "code",
   "execution_count": 188,
   "metadata": {},
   "outputs": [],
   "source": [
    "from scrapy.http import TextResponse"
   ]
  },
  {
   "cell_type": "code",
   "execution_count": 209,
   "metadata": {},
   "outputs": [
    {
     "data": {
      "text/plain": [
       "'콜린 트레보로우'"
      ]
     },
     "execution_count": 209,
     "metadata": {},
     "output_type": "execute_result"
    }
   ],
   "source": [
    "url = 'https://movie.naver.com/movie/bi/mi/basic.nhn?code={}'.format(67786)\n",
    "req = requests.get(url)\n",
    "response = TextResponse(req.url, body=req.text, encoding=\"utf-8\")\n",
    "\n",
    "a = response.xpath('//*[@id=\"content\"]/div[1]/div[2]/div[1]/dl/dd[2]/p/a/text()').extract()[0]\n",
    "a"
   ]
  },
  {
   "cell_type": "code",
   "execution_count": null,
   "metadata": {},
   "outputs": [],
   "source": []
  },
  {
   "cell_type": "code",
   "execution_count": null,
   "metadata": {},
   "outputs": [],
   "source": []
  },
  {
   "cell_type": "code",
   "execution_count": null,
   "metadata": {},
   "outputs": [],
   "source": []
  },
  {
   "cell_type": "code",
   "execution_count": null,
   "metadata": {},
   "outputs": [],
   "source": []
  },
  {
   "cell_type": "code",
   "execution_count": null,
   "metadata": {},
   "outputs": [],
   "source": []
  },
  {
   "cell_type": "code",
   "execution_count": null,
   "metadata": {},
   "outputs": [],
   "source": []
  },
  {
   "cell_type": "code",
   "execution_count": null,
   "metadata": {},
   "outputs": [],
   "source": []
  }
 ],
 "metadata": {
  "kernelspec": {
   "display_name": "Python 3",
   "language": "python",
   "name": "python3"
  },
  "language_info": {
   "codemirror_mode": {
    "name": "ipython",
    "version": 3
   },
   "file_extension": ".py",
   "mimetype": "text/x-python",
   "name": "python",
   "nbconvert_exporter": "python",
   "pygments_lexer": "ipython3",
   "version": "3.7.6"
  }
 },
 "nbformat": 4,
 "nbformat_minor": 4
}
